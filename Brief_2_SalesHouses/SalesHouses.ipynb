{
 "cells": [
  {
   "cell_type": "markdown",
   "id": "d844cc4d",
   "metadata": {},
   "source": [
    "install packages"
   ]
  },
  {
   "cell_type": "code",
   "execution_count": 2,
   "id": "bf490cc2",
   "metadata": {},
   "outputs": [
    {
     "name": "stdout",
     "output_type": "stream",
     "text": [
      "Requirement already satisfied: pandas in c:\\users\\lenovo\\anaconda3\\lib\\site-packages (2.2.2)\n",
      "Requirement already satisfied: numpy in c:\\users\\lenovo\\anaconda3\\lib\\site-packages (1.26.4)\n",
      "Requirement already satisfied: matplotlib in c:\\users\\lenovo\\anaconda3\\lib\\site-packages (3.9.2)\n",
      "Requirement already satisfied: seaborn in c:\\users\\lenovo\\anaconda3\\lib\\site-packages (0.13.2)\n",
      "Requirement already satisfied: scikit-learn in c:\\users\\lenovo\\anaconda3\\lib\\site-packages (1.5.1)\n",
      "Requirement already satisfied: joblib in c:\\users\\lenovo\\anaconda3\\lib\\site-packages (1.4.2)\n",
      "Requirement already satisfied: python-dateutil>=2.8.2 in c:\\users\\lenovo\\anaconda3\\lib\\site-packages (from pandas) (2.9.0.post0)\n",
      "Requirement already satisfied: pytz>=2020.1 in c:\\users\\lenovo\\anaconda3\\lib\\site-packages (from pandas) (2024.1)\n",
      "Requirement already satisfied: tzdata>=2022.7 in c:\\users\\lenovo\\anaconda3\\lib\\site-packages (from pandas) (2023.3)\n",
      "Requirement already satisfied: contourpy>=1.0.1 in c:\\users\\lenovo\\anaconda3\\lib\\site-packages (from matplotlib) (1.2.0)\n",
      "Requirement already satisfied: cycler>=0.10 in c:\\users\\lenovo\\anaconda3\\lib\\site-packages (from matplotlib) (0.11.0)\n",
      "Requirement already satisfied: fonttools>=4.22.0 in c:\\users\\lenovo\\anaconda3\\lib\\site-packages (from matplotlib) (4.51.0)\n",
      "Requirement already satisfied: kiwisolver>=1.3.1 in c:\\users\\lenovo\\anaconda3\\lib\\site-packages (from matplotlib) (1.4.4)\n",
      "Requirement already satisfied: packaging>=20.0 in c:\\users\\lenovo\\anaconda3\\lib\\site-packages (from matplotlib) (24.1)\n",
      "Requirement already satisfied: pillow>=8 in c:\\users\\lenovo\\anaconda3\\lib\\site-packages (from matplotlib) (10.4.0)\n",
      "Requirement already satisfied: pyparsing>=2.3.1 in c:\\users\\lenovo\\anaconda3\\lib\\site-packages (from matplotlib) (3.1.2)\n",
      "Requirement already satisfied: scipy>=1.6.0 in c:\\users\\lenovo\\anaconda3\\lib\\site-packages (from scikit-learn) (1.13.1)\n",
      "Requirement already satisfied: threadpoolctl>=3.1.0 in c:\\users\\lenovo\\anaconda3\\lib\\site-packages (from scikit-learn) (3.5.0)\n",
      "Requirement already satisfied: six>=1.5 in c:\\users\\lenovo\\anaconda3\\lib\\site-packages (from python-dateutil>=2.8.2->pandas) (1.16.0)\n",
      "Note: you may need to restart the kernel to use updated packages.\n"
     ]
    }
   ],
   "source": [
    "%pip install pandas numpy matplotlib seaborn scikit-learn joblib "
   ]
  },
  {
   "cell_type": "markdown",
   "id": "000a58dc",
   "metadata": {},
   "source": [
    "🔹 1. Chargement des données"
   ]
  },
  {
   "cell_type": "code",
   "execution_count": 3,
   "id": "ec39f361",
   "metadata": {},
   "outputs": [],
   "source": [
    "import pandas as pd\n",
    "import seaborn as sns\n",
    "import matplotlib.pyplot as plt\n",
    "import numpy as np\n",
    "\n"
   ]
  },
  {
   "cell_type": "markdown",
   "id": "932710f2",
   "metadata": {},
   "source": [
    "1.Importer le fichier CSV à l’aide de Pandas avec pandas.read_csv().  \n"
   ]
  },
  {
   "cell_type": "code",
   "execution_count": 4,
   "id": "883da5a7",
   "metadata": {},
   "outputs": [],
   "source": [
    "\n",
    "\n",
    "df = pd.read_csv('appartements-data-db-6872f0ba853ec096170787.csv')"
   ]
  },
  {
   "cell_type": "markdown",
   "id": "c6678de0",
   "metadata": {},
   "source": [
    "Utiliser df.info() pour voir le type de chaque colonne."
   ]
  },
  {
   "cell_type": "code",
   "execution_count": 5,
   "id": "a5252803",
   "metadata": {},
   "outputs": [
    {
     "name": "stdout",
     "output_type": "stream",
     "text": [
      "<class 'pandas.core.frame.DataFrame'>\n",
      "RangeIndex: 1773 entries, 0 to 1772\n",
      "Data columns (total 9 columns):\n",
      " #   Column        Non-Null Count  Dtype  \n",
      "---  ------        --------------  -----  \n",
      " 0   title         1772 non-null   object \n",
      " 1   price         1490 non-null   object \n",
      " 2   city_name     1772 non-null   object \n",
      " 3   salon         1620 non-null   float64\n",
      " 4   nb_rooms      1490 non-null   float64\n",
      " 5   nb_baths      1480 non-null   float64\n",
      " 6   surface_area  1742 non-null   float64\n",
      " 7   equipment     1402 non-null   object \n",
      " 8   link          1773 non-null   object \n",
      "dtypes: float64(4), object(5)\n",
      "memory usage: 124.8+ KB\n",
      "None\n"
     ]
    }
   ],
   "source": [
    "print(df.info())"
   ]
  },
  {
   "cell_type": "markdown",
   "id": "94fb33ce",
   "metadata": {},
   "source": [
    "Utiliser df.head() pour voir les premières lignes."
   ]
  },
  {
   "cell_type": "code",
   "execution_count": 6,
   "id": "d0580ce5",
   "metadata": {},
   "outputs": [
    {
     "name": "stdout",
     "output_type": "stream",
     "text": [
      "                                               title         price  \\\n",
      "0       CMN-MA-1752 - Appartement à vendre à Palmier  2 000 000 DH   \n",
      "1  66370-Vente Appt à Casablanca Hay Hassani de 1...  1 195 000 DH   \n",
      "2           Appartement à vendre 81 m² à Dar Bouazza  1 350 000 DH   \n",
      "3  63860-Vente Appt à Casablanca Quartier Bd Med ...    900 000 DH   \n",
      "4                          Appartement à Rabat Agdal  3 100 000 DH   \n",
      "\n",
      "     city_name  salon  nb_rooms  nb_baths  surface_area  \\\n",
      "0   Casablanca    NaN       2.0       2.0         168.0   \n",
      "1   Casablanca    NaN       2.0       2.0          98.0   \n",
      "2  Dar Bouazza    1.0       2.0       2.0          81.0   \n",
      "3   Casablanca    NaN       1.0       1.0          56.0   \n",
      "4        Rabat    2.0       3.0       2.0         200.0   \n",
      "\n",
      "                                           equipment  \\\n",
      "0                  Ascenseur/Balcon/Parking/Terrasse   \n",
      "1  Ascenseur/Balcon/Chauffage/Climatisation/Cuisi...   \n",
      "2  Ascenseur/Balcon/Chauffage/Climatisation/Conci...   \n",
      "3  Ascenseur/Chauffage/Climatisation/Cuisine Équi...   \n",
      "4        Ascenseur/Balcon/Concierge/Parking/Sécurité   \n",
      "\n",
      "                                                link  \n",
      "0  https://www.avito.ma/fr/palmier/appartements/C...  \n",
      "1  https://www.avito.ma/fr/hay_hassani/appartemen...  \n",
      "2  https://www.avito.ma/fr/dar_bouazza/appartemen...  \n",
      "3  https://www.avito.ma/fr/centre_ville/apparteme...  \n",
      "4  https://www.avito.ma/fr/agdal/appartements/App...  \n"
     ]
    }
   ],
   "source": [
    "print(df.head())"
   ]
  },
  {
   "cell_type": "markdown",
   "id": "0bb0b021",
   "metadata": {},
   "source": [
    "🔹 2. Analyse Exploratoire des Données (EDA)"
   ]
  },
  {
   "cell_type": "markdown",
   "id": "e1166e62",
   "metadata": {},
   "source": [
    "Afficher les dimensions et types des données : df.shape, df.dtypes.\n"
   ]
  },
  {
   "cell_type": "code",
   "execution_count": 7,
   "id": "520e46be",
   "metadata": {},
   "outputs": [
    {
     "data": {
      "text/plain": [
       "(1773, 9)"
      ]
     },
     "execution_count": 7,
     "metadata": {},
     "output_type": "execute_result"
    }
   ],
   "source": [
    "df.shape"
   ]
  },
  {
   "cell_type": "code",
   "execution_count": 8,
   "id": "b8d041b0",
   "metadata": {},
   "outputs": [
    {
     "data": {
      "text/plain": [
       "title            object\n",
       "price            object\n",
       "city_name        object\n",
       "salon           float64\n",
       "nb_rooms        float64\n",
       "nb_baths        float64\n",
       "surface_area    float64\n",
       "equipment        object\n",
       "link             object\n",
       "dtype: object"
      ]
     },
     "execution_count": 8,
     "metadata": {},
     "output_type": "execute_result"
    }
   ],
   "source": [
    "df.dtypes"
   ]
  },
  {
   "cell_type": "markdown",
   "id": "a3bf08a6",
   "metadata": {},
   "source": [
    "Rechercher les valeurs manquantes avec df.isnull().sum()."
   ]
  },
  {
   "cell_type": "code",
   "execution_count": 9,
   "id": "4734df53",
   "metadata": {},
   "outputs": [
    {
     "name": "stdout",
     "output_type": "stream",
     "text": [
      "title             1\n",
      "price           283\n",
      "city_name         1\n",
      "salon           153\n",
      "nb_rooms        283\n",
      "nb_baths        293\n",
      "surface_area     31\n",
      "equipment       371\n",
      "link              0\n",
      "dtype: int64\n",
      "      title  price  city_name  salon  nb_rooms  nb_baths  surface_area  \\\n",
      "0     False  False      False   True     False     False         False   \n",
      "1     False  False      False   True     False     False         False   \n",
      "2     False  False      False  False     False     False         False   \n",
      "3     False  False      False   True     False     False         False   \n",
      "4     False  False      False  False     False     False         False   \n",
      "...     ...    ...        ...    ...       ...       ...           ...   \n",
      "1768  False   True      False  False      True      True         False   \n",
      "1769  False   True      False  False      True      True         False   \n",
      "1770  False   True      False  False      True      True         False   \n",
      "1771  False  False      False  False     False     False         False   \n",
      "1772  False  False      False  False     False     False         False   \n",
      "\n",
      "      equipment   link  \n",
      "0         False  False  \n",
      "1         False  False  \n",
      "2         False  False  \n",
      "3         False  False  \n",
      "4         False  False  \n",
      "...         ...    ...  \n",
      "1768      False  False  \n",
      "1769      False  False  \n",
      "1770      False  False  \n",
      "1771      False  False  \n",
      "1772      False  False  \n",
      "\n",
      "[1773 rows x 9 columns]\n"
     ]
    }
   ],
   "source": [
    "data_nul = df.isna()\n",
    "print(df.isna().sum())\n",
    "print(data_nul)"
   ]
  },
  {
   "cell_type": "markdown",
   "id": "220ba8d3",
   "metadata": {},
   "source": [
    "Détecter les doublons"
   ]
  },
  {
   "cell_type": "code",
   "execution_count": 10,
   "id": "b6869ddd",
   "metadata": {},
   "outputs": [
    {
     "name": "stdout",
     "output_type": "stream",
     "text": [
      "41\n"
     ]
    }
   ],
   "source": [
    "print(df.duplicated().sum())"
   ]
  },
  {
   "cell_type": "markdown",
   "id": "8da9751c",
   "metadata": {},
   "source": [
    "Analyser la distribution des colonnes numériques"
   ]
  },
  {
   "cell_type": "code",
   "execution_count": 11,
   "id": "849071d3",
   "metadata": {},
   "outputs": [
    {
     "data": {
      "text/plain": [
       "array([[<Axes: title={'center': 'salon'}>,\n",
       "        <Axes: title={'center': 'nb_rooms'}>],\n",
       "       [<Axes: title={'center': 'nb_baths'}>,\n",
       "        <Axes: title={'center': 'surface_area'}>]], dtype=object)"
      ]
     },
     "execution_count": 11,
     "metadata": {},
     "output_type": "execute_result"
    },
    {
     "data": {
      "image/png": "[encoded data removed]",
      "text/plain": [
       "<Figure size 640x480 with 4 Axes>"
      ]
     },
     "metadata": {},
     "output_type": "display_data"
    }
   ],
   "source": [
    "df.hist()"
   ]
  },
  {
   "cell_type": "markdown",
   "id": "694555d6",
   "metadata": {},
   "source": [
    "Étudier les corrélations"
   ]
  },
  {
   "cell_type": "code",
   "execution_count": 12,
   "id": "e103719b",
   "metadata": {},
   "outputs": [
    {
     "data": {
      "text/plain": [
       "<bound method DataFrame.corr of                                                   title         price  \\\n",
       "0          CMN-MA-1752 - Appartement à vendre à Palmier  2 000 000 DH   \n",
       "1     66370-Vente Appt à Casablanca Hay Hassani de 1...  1 195 000 DH   \n",
       "2              Appartement à vendre 81 m² à Dar Bouazza  1 350 000 DH   \n",
       "3     63860-Vente Appt à Casablanca Quartier Bd Med ...    900 000 DH   \n",
       "4                             Appartement à Rabat Agdal  3 100 000 DH   \n",
       "...                                                 ...           ...   \n",
       "1768                Appartement à vendre 62 m² à Agadir           NaN   \n",
       "1769                        Appartement 110 m² à Agadir           NaN   \n",
       "1770             Appartement à vendre 12000 m² à Temara           NaN   \n",
       "1771                      appartement de 84 m² à vendre    700 000 DH   \n",
       "1772                 Appartement Neuf à vendre à Temara  1 200 000 DH   \n",
       "\n",
       "        city_name  salon  nb_rooms  nb_baths  surface_area  \\\n",
       "0      Casablanca    NaN       2.0       2.0         168.0   \n",
       "1      Casablanca    NaN       2.0       2.0          98.0   \n",
       "2     Dar Bouazza    1.0       2.0       2.0          81.0   \n",
       "3      Casablanca    NaN       1.0       1.0          56.0   \n",
       "4           Rabat    2.0       3.0       2.0         200.0   \n",
       "...           ...    ...       ...       ...           ...   \n",
       "1768       Agadir    1.0       NaN       NaN          62.0   \n",
       "1769       Agadir    2.0       NaN       NaN         110.0   \n",
       "1770       Temara    2.0       NaN       NaN       12000.0   \n",
       "1771   Casablanca    1.0       2.0       2.0          84.0   \n",
       "1772       Temara    1.0       2.0       2.0          84.0   \n",
       "\n",
       "                                              equipment  \\\n",
       "0                     Ascenseur/Balcon/Parking/Terrasse   \n",
       "1     Ascenseur/Balcon/Chauffage/Climatisation/Cuisi...   \n",
       "2     Ascenseur/Balcon/Chauffage/Climatisation/Conci...   \n",
       "3     Ascenseur/Chauffage/Climatisation/Cuisine Équi...   \n",
       "4           Ascenseur/Balcon/Concierge/Parking/Sécurité   \n",
       "...                                                 ...   \n",
       "1768  Ascenseur/Balcon/Cuisine Équipée/Parking/Sécurité   \n",
       "1769                                  Ascenseur/Parking   \n",
       "1770                  Ascenseur/Balcon/Parking/Sécurité   \n",
       "1771                   Cuisine Équipée/Parking/Sécurité   \n",
       "1772  Ascenseur/Balcon/Climatisation/Concierge/Cuisi...   \n",
       "\n",
       "                                                   link  \n",
       "0     https://www.avito.ma/fr/palmier/appartements/C...  \n",
       "1     https://www.avito.ma/fr/hay_hassani/appartemen...  \n",
       "2     https://www.avito.ma/fr/dar_bouazza/appartemen...  \n",
       "3     https://www.avito.ma/fr/centre_ville/apparteme...  \n",
       "4     https://www.avito.ma/fr/agdal/appartements/App...  \n",
       "...                                                 ...  \n",
       "1768  https://www.avito.ma/fr/cit%C3%A9_adrar/appart...  \n",
       "1769  https://www.avito.ma/fr/av_des_far/appartement...  \n",
       "1770  https://www.avito.ma/fr/massira_2/appartements...  \n",
       "1771               https://www.avito.ma/vi/55818389.htm  \n",
       "1772               https://www.avito.ma/vi/55832294.htm  \n",
       "\n",
       "[1773 rows x 9 columns]>"
      ]
     },
     "execution_count": 12,
     "metadata": {},
     "output_type": "execute_result"
    }
   ],
   "source": [
    "df.corr"
   ]
  },
  {
   "cell_type": "markdown",
   "id": "aba30574",
   "metadata": {},
   "source": [
    "3. Prétraitement des données"
   ]
  },
  {
   "cell_type": "code",
   "execution_count": 13,
   "id": "768c0a46",
   "metadata": {},
   "outputs": [
    {
     "data": {
      "image/png": "[encoded data removed]",
      "text/plain": [
       "<Figure size 640x480 with 2 Axes>"
      ]
     },
     "metadata": {},
     "output_type": "display_data"
    }
   ],
   "source": [
    "numeric_df = df.select_dtypes(include='number')\n",
    "\n",
    "sns.heatmap(numeric_df)\n",
    "\n",
    "plt.show()"
   ]
  },
  {
   "cell_type": "markdown",
   "id": "190f6fb7",
   "metadata": {},
   "source": [
    "✅ Nettoyage & Transformation"
   ]
  },
  {
   "cell_type": "markdown",
   "id": "6d664ea4",
   "metadata": {},
   "source": [
    "Extraire les équipements (equipment) avec str.get_dummies() ➝ nouvelles colonnes booléennes."
   ]
  },
  {
   "cell_type": "code",
   "execution_count": 14,
   "id": "5499686c",
   "metadata": {},
   "outputs": [
    {
     "name": "stdout",
     "output_type": "stream",
     "text": [
      "      Ascenseur  Balcon  Chauffage  Climatisation  Concierge  Cuisine Équipée  \\\n",
      "0             1       1          0              0          0                0   \n",
      "1             1       1          1              1          0                1   \n",
      "2             1       1          1              1          1                1   \n",
      "3             1       0          1              1          0                1   \n",
      "4             1       1          0              0          1                0   \n",
      "...         ...     ...        ...            ...        ...              ...   \n",
      "1768          1       1          0              0          0                1   \n",
      "1769          1       0          0              0          0                0   \n",
      "1770          1       1          0              0          0                0   \n",
      "1771          0       0          0              0          0                1   \n",
      "1772          1       1          0              1          1                1   \n",
      "\n",
      "      Duplex  Meublé  Parking  Sécurité  Terrasse  \n",
      "0          0       0        1         0         1  \n",
      "1          0       0        1         0         0  \n",
      "2          1       0        1         1         1  \n",
      "3          0       1        1         1         1  \n",
      "4          0       0        1         1         0  \n",
      "...      ...     ...      ...       ...       ...  \n",
      "1768       0       0        1         1         0  \n",
      "1769       0       0        1         0         0  \n",
      "1770       0       0        1         1         0  \n",
      "1771       0       0        1         1         0  \n",
      "1772       0       0        1         1         1  \n",
      "\n",
      "[1773 rows x 11 columns]\n"
     ]
    }
   ],
   "source": [
    "equipments_dummies = df['equipment'].str.get_dummies(sep=\"/\")\n",
    "df = pd.concat([df, equipments_dummies], axis=1)\n",
    "print(equipments_dummies)"
   ]
  },
  {
   "cell_type": "markdown",
   "id": "694f20bb",
   "metadata": {},
   "source": []
  },
  {
   "cell_type": "code",
   "execution_count": 15,
   "id": "b6d39d41",
   "metadata": {},
   "outputs": [],
   "source": [
    "\n",
    "df['price'] = (\n",
    "    df['price']\n",
    "    .astype(str)\n",
    "    .str.replace(r'[^\\d,]', '', regex=True)   \n",
    "    .str.replace(',', '.', 1)                 \n",
    "    .str.replace(',', '')                     \n",
    ")\n",
    "\n",
    "df['price'] = df['price'].replace('', np.nan)\n",
    "df['price'] = df['price'].astype(float)\n",
    "\n"
   ]
  },
  {
   "cell_type": "code",
   "execution_count": 16,
   "id": "c4692df1",
   "metadata": {},
   "outputs": [
    {
     "name": "stdout",
     "output_type": "stream",
     "text": [
      "0    2000000.0\n",
      "1    1195000.0\n",
      "2    1350000.0\n",
      "3     900000.0\n",
      "4    3100000.0\n",
      "Name: price, dtype: float64\n"
     ]
    }
   ],
   "source": [
    "print(df['price'].head())"
   ]
  },
  {
   "cell_type": "markdown",
   "id": "373403e1",
   "metadata": {},
   "source": [
    "Supprimer les colonnes inutiles (equipment, link)"
   ]
  },
  {
   "cell_type": "code",
   "execution_count": 17,
   "id": "630be21c",
   "metadata": {},
   "outputs": [],
   "source": [
    "df.drop(columns=['equipment', 'link'], inplace=True)\n"
   ]
  },
  {
   "cell_type": "code",
   "execution_count": 18,
   "id": "8b62f638",
   "metadata": {},
   "outputs": [
    {
     "name": "stdout",
     "output_type": "stream",
     "text": [
      "['title', 'price', 'city_name', 'salon', 'nb_rooms', 'nb_baths', 'surface_area', 'Ascenseur', 'Balcon', 'Chauffage', 'Climatisation', 'Concierge', 'Cuisine Équipée', 'Duplex', 'Meublé', 'Parking', 'Sécurité', 'Terrasse']\n"
     ]
    }
   ],
   "source": [
    "print(list(df.columns))"
   ]
  },
  {
   "cell_type": "markdown",
   "id": "b0e40b41",
   "metadata": {},
   "source": [
    "Uniformiser les noms de ville (arabe → français)"
   ]
  },
  {
   "cell_type": "code",
   "execution_count": null,
   "id": "07eb4265",
   "metadata": {},
   "outputs": [
    {
     "name": "stdout",
     "output_type": "stream",
     "text": [
      "['Casablanca' 'Dar Bouazza' 'Rabat' 'Marrakech' 'Asilah' 'Bouskoura'\n",
      " 'Kénitra' 'Mohammedia' 'Agadir' 'Tamesna' 'Salé' 'Had Soualem' 'Temara'\n",
      " 'Benslimane' 'Tanger' 'Bouznika' 'Meknès' 'Fès' 'El Jadida'\n",
      " 'El Mansouria' 'Martil' 'Fnideq' 'Tétouan' 'Saidia' 'Nouaceur' 'Tamaris'\n",
      " 'Cabo Negro' 'Sidi Allal El Bahraoui' 'Béni Mellal' nan 'Essaouira'\n",
      " 'Mehdia' 'Oujda' 'Oued Laou' 'Dcheira' 'Sidi Rahal' 'Deroua' 'Ain Attig'\n",
      " 'Safi' 'Inzegan' 'Ifrane' 'Dakhla' 'Dcheïra El Jihadia' 'Taghazout'\n",
      " 'Sidi Bouknadel' 'Skhirat' 'Khouribga' 'Berkane' 'Mers El Kheir'\n",
      " 'Berrechid' 'Tiznit' 'Agadir Melloul' 'Nador' 'El Menzeh' 'Bni Ansar'\n",
      " 'Mdiq' 'Tit Mellil' 'Souk El Arbaa' 'Biougra' 'Settat' 'Ain Aouda' 'Taza'\n",
      " 'Khemisset' 'Oued Zem' 'Sefrou' 'Merzouga' 'El Hajeb' 'Selouane'\n",
      " 'Taounate' 'Sidi Bennour' 'El Ksiba']\n"
     ]
    }
   ],
   "source": [
    "city_mapping = {\n",
    "    \"الدار البيضاء\": \"Casablanca\",\n",
    "    \"الرباط\": \"Rabat\",\n",
    "    \"القنيطرة\": \"Kénitra\",\n",
    "    \"مراكش\": \"Marrakech\",\n",
    "    \"أكادير\": \"Agadir\",\n",
    "    \"المحمدية\": \"Mohammedia\",\n",
    "    \"طنجة\":\"Tanger\"\n",
    "}\n",
    "\n",
    "\n",
    "df['city_name'] = df['city_name'].replace(city_mapping)\n",
    "print(df['city_name'].unique())"
   ]
  },
  {
   "cell_type": "markdown",
   "id": "cdc27143",
   "metadata": {},
   "source": [
    "Remplacer les valeurs manquantes dans city_name par \"Unknown\"."
   ]
  },
  {
   "cell_type": "code",
   "execution_count": 20,
   "id": "921216da",
   "metadata": {},
   "outputs": [],
   "source": [
    "df['city_name'] = df['city_name'].fillna(\"Unknown\")"
   ]
  },
  {
   "cell_type": "code",
   "execution_count": 25,
   "id": "c5513968",
   "metadata": {},
   "outputs": [
    {
     "name": "stdout",
     "output_type": "stream",
     "text": [
      "0\n",
      "['Casablanca' 'Dar Bouazza' 'Rabat' 'Marrakech' 'Asilah' 'Bouskoura'\n",
      " 'Kénitra' 'Mohammedia' 'Agadir' 'Tamesna' 'Salé' 'Had Soualem' 'Temara'\n",
      " 'Benslimane' 'Tanger' 'Bouznika' 'Meknès' 'Fès' 'El Jadida'\n",
      " 'El Mansouria' 'Martil' 'Fnideq' 'Tétouan' 'Saidia' 'Nouaceur' 'Tamaris'\n",
      " 'Cabo Negro' 'Sidi Allal El Bahraoui' 'Béni Mellal' 'Unknown' 'Essaouira'\n",
      " 'Mehdia' 'Oujda' 'Oued Laou' 'Dcheira' 'Sidi Rahal' 'Deroua' 'Ain Attig'\n",
      " 'Safi' 'Inzegan' 'Ifrane' 'Dakhla' 'Dcheïra El Jihadia' 'Taghazout'\n",
      " 'Sidi Bouknadel' 'Skhirat' 'Khouribga' 'Berkane' 'Mers El Kheir'\n",
      " 'Berrechid' 'Tiznit' 'Agadir Melloul' 'Nador' 'El Menzeh' 'Bni Ansar'\n",
      " 'Mdiq' 'Tit Mellil' 'Souk El Arbaa' 'Biougra' 'Settat' 'Ain Aouda' 'Taza'\n",
      " 'Khemisset' 'Oued Zem' 'Sefrou' 'Merzouga' 'El Hajeb' 'Selouane'\n",
      " 'Taounate' 'Sidi Bennour' 'El Ksiba']\n"
     ]
    }
   ],
   "source": [
    "print(df['city_name'].isna().sum())\n",
    "print(df['city_name'].unique()) "
   ]
  },
  {
   "cell_type": "markdown",
   "id": "b6aa7ae9",
   "metadata": {},
   "source": [
    "# *Gestion des valeurs manquantes:*\n"
   ]
  },
  {
   "cell_type": "markdown",
   "id": "b344bff3",
   "metadata": {},
   "source": [
    "Pour les colonnes numériques : imputer les valeurs manquantes par la médiane.\n"
   ]
  },
  {
   "cell_type": "code",
   "execution_count": 26,
   "id": "119e5079",
   "metadata": {},
   "outputs": [
    {
     "name": "stderr",
     "output_type": "stream",
     "text": [
      "C:\\Users\\lenovo\\AppData\\Local\\Temp\\ipykernel_31000\\2696611444.py:6: FutureWarning: A value is trying to be set on a copy of a DataFrame or Series through chained assignment using an inplace method.\n",
      "The behavior will change in pandas 3.0. This inplace method will never work because the intermediate object on which we are setting values always behaves as a copy.\n",
      "\n",
      "For example, when doing 'df[col].method(value, inplace=True)', try using 'df.method({col: value}, inplace=True)' or df[col] = df[col].method(value) instead, to perform the operation inplace on the original object.\n",
      "\n",
      "\n",
      "  df[col].fillna(df[col].median(), inplace=True)\n"
     ]
    }
   ],
   "source": [
    "\n",
    "# ! trouver les cols numers\n",
    "cols_numeric = df.select_dtypes(include=['float64', 'int64']).columns\n",
    "\n",
    "\n",
    "for col in cols_numeric:\n",
    "    df[col].fillna(df[col].median(), inplace=True)\n"
   ]
  },
  {
   "cell_type": "markdown",
   "id": "51e5d9d4",
   "metadata": {},
   "source": [
    "Pour les colonnes catégorielles (chaînes de caractères) : imputer avec \"Unknown\"."
   ]
  },
  {
   "cell_type": "code",
   "execution_count": 29,
   "id": "67d84f96",
   "metadata": {},
   "outputs": [
    {
     "name": "stderr",
     "output_type": "stream",
     "text": [
      "C:\\Users\\lenovo\\AppData\\Local\\Temp\\ipykernel_31000\\3486513613.py:4: FutureWarning: A value is trying to be set on a copy of a DataFrame or Series through chained assignment using an inplace method.\n",
      "The behavior will change in pandas 3.0. This inplace method will never work because the intermediate object on which we are setting values always behaves as a copy.\n",
      "\n",
      "For example, when doing 'df[col].method(value, inplace=True)', try using 'df.method({col: value}, inplace=True)' or df[col] = df[col].method(value) instead, to perform the operation inplace on the original object.\n",
      "\n",
      "\n",
      "  df[col].fillna(\"Unknown\", inplace=True)\n"
     ]
    }
   ],
   "source": [
    "cols_categorical = df.select_dtypes(include='object').columns\n",
    "\n",
    "for col in cols_categorical:\n",
    "    df[col].fillna(\"Unknown\", inplace=True)\n"
   ]
  },
  {
   "cell_type": "code",
   "execution_count": null,
   "id": "d4204aeb",
   "metadata": {},
   "outputs": [
    {
     "name": "stdout",
     "output_type": "stream",
     "text": [
      "title              0\n",
      "price              0\n",
      "city_name          0\n",
      "salon              0\n",
      "nb_rooms           0\n",
      "nb_baths           0\n",
      "surface_area       0\n",
      "Ascenseur          0\n",
      "Balcon             0\n",
      "Chauffage          0\n",
      "Climatisation      0\n",
      "Concierge          0\n",
      "Cuisine Équipée    0\n",
      "Duplex             0\n",
      "Meublé             0\n",
      "Parking            0\n",
      "Sécurité           0\n",
      "Terrasse           0\n",
      "dtype: int64\n"
     ]
    }
   ],
   "source": [
    "# ! verification \n",
    "print(df.isna().sum())\n"
   ]
  },
  {
   "cell_type": "markdown",
   "id": "1309dc36",
   "metadata": {},
   "source": [
    "IQA"
   ]
  },
  {
   "cell_type": "code",
   "execution_count": null,
   "id": "0de47501",
   "metadata": {},
   "outputs": [],
   "source": [
    "\n",
    "# ! Utiliser  IQR\n",
    "def remv_outs_IQR(df, column):\n",
    "    Q1 = df[column].quantile(0.25)\n",
    "    Q3 = df[column].quantile(0.75)\n",
    "    IQR = Q3 - Q1\n",
    "    lower_bound = Q1 - 1.5 * IQR\n",
    "    upper_bound = Q3 + 1.5 * IQR\n",
    "    \n",
    "    return df[(df[column] >= lower_bound) & (df[column] <= upper_bound)]\n",
    "\n",
    "# ! Supprimer les lignes price et surface_area\n",
    "df = remv_outs_IQR(df, 'price')\n",
    "df = remv_outs_IQR(df, 'surface_area')\n"
   ]
  },
  {
   "cell_type": "code",
   "execution_count": null,
   "id": "5fedf5a2",
   "metadata": {},
   "outputs": [
    {
     "name": "stdout",
     "output_type": "stream",
     "text": [
      "Nombre de lignes restantes : 1581\n"
     ]
    }
   ],
   "source": [
    "#! savoir les non-outliers\n",
    "print(\"les lignes restantes :\", len(df))\n"
   ]
  },
  {
   "cell_type": "markdown",
   "id": "8bd50153",
   "metadata": {},
   "source": [
    "Boîtes à moustaches"
   ]
  },
  {
   "cell_type": "code",
   "execution_count": 33,
   "id": "5db6323e",
   "metadata": {},
   "outputs": [
    {
     "data": {
      "image/png": "[encoded data removed]",
      "text/plain": [
       "<Figure size 800x400 with 1 Axes>"
      ]
     },
     "metadata": {},
     "output_type": "display_data"
    },
    {
     "data": {
      "image/png": "[encoded data removed]",
      "text/plain": [
       "<Figure size 800x400 with 1 Axes>"
      ]
     },
     "metadata": {},
     "output_type": "display_data"
    }
   ],
   "source": [
    "\n",
    "# ! price\n",
    "plt.figure(figsize=(8, 4))\n",
    "sns.boxplot(x=df['price'])\n",
    "plt.title('Boxplot de la variable price')\n",
    "plt.show()\n",
    "\n",
    "\n",
    "#! surface_area\n",
    "plt.figure(figsize=(8, 4))\n",
    "sns.boxplot(x=df['surface_area'])\n",
    "plt.title('Boxplot de la variable surface_area')\n",
    "plt.show()\n"
   ]
  },
  {
   "cell_type": "markdown",
   "id": "809160b7",
   "metadata": {},
   "source": [
    "Encodage des variables catégorielles:\n",
    "\n"
   ]
  },
  {
   "cell_type": "code",
   "execution_count": 35,
   "id": "79a4c277",
   "metadata": {},
   "outputs": [
    {
     "name": "stdout",
     "output_type": "stream",
     "text": [
      "     city_name  city_name_encoded\n",
      "1   Casablanca                 13\n",
      "2  Dar Bouazza                 15\n",
      "3   Casablanca                 13\n",
      "6    Marrakech                 32\n",
      "7   Casablanca                 13\n"
     ]
    }
   ],
   "source": [
    "from sklearn.preprocessing import LabelEncoder\n",
    "\n",
    "\n",
    "label_encoder = LabelEncoder()\n",
    "\n",
    "df['city_name_encoded'] = label_encoder.fit_transform(df['city_name'])\n",
    "\n",
    "print(df[['city_name', 'city_name_encoded']].head())\n"
   ]
  },
  {
   "cell_type": "code",
   "execution_count": 37,
   "id": "261d120f",
   "metadata": {},
   "outputs": [],
   "source": [
    "from sklearn.preprocessing import MinMaxScaler, StandardScaler\n",
    "\n",
    "numeric_cols = df.select_dtypes(include=['float64', 'int64']).columns\n"
   ]
  },
  {
   "cell_type": "markdown",
   "id": "020deb28",
   "metadata": {},
   "source": [
    "Normalisation avec MinMaxScaler"
   ]
  },
  {
   "cell_type": "code",
   "execution_count": 38,
   "id": "6fd78977",
   "metadata": {},
   "outputs": [],
   "source": [
    "scaler = MinMaxScaler()\n",
    "df[numeric_cols] = scaler.fit_transform(df[numeric_cols])\n"
   ]
  },
  {
   "cell_type": "code",
   "execution_count": 39,
   "id": "8c1e5a24",
   "metadata": {},
   "outputs": [
    {
     "name": "stdout",
     "output_type": "stream",
     "text": [
      "      price  salon  nb_rooms  nb_baths  surface_area  Ascenseur  Balcon  \\\n",
      "1  0.656587  0.125  0.333333  0.014925      0.568345        1.0     1.0   \n",
      "2  0.741753  0.125  0.333333  0.014925      0.446043        1.0     1.0   \n",
      "3  0.494496  0.125  0.000000  0.007463      0.266187        1.0     0.0   \n",
      "6  0.417571  0.125  0.666667  0.022388      0.568345        1.0     1.0   \n",
      "7  0.434055  0.125  0.666667  0.014925      0.388489        0.0     0.0   \n",
      "\n",
      "   Chauffage  Climatisation  Concierge  Cuisine Équipée  Duplex  Meublé  \\\n",
      "1        1.0            1.0        0.0              1.0     0.0     0.0   \n",
      "2        1.0            1.0        1.0              1.0     1.0     0.0   \n",
      "3        1.0            1.0        0.0              1.0     0.0     1.0   \n",
      "6        0.0            0.0        1.0              1.0     0.0     0.0   \n",
      "7        0.0            0.0        0.0              1.0     0.0     0.0   \n",
      "\n",
      "   Parking  Sécurité  Terrasse  \n",
      "1      1.0       0.0       0.0  \n",
      "2      1.0       1.0       1.0  \n",
      "3      1.0       1.0       1.0  \n",
      "6      1.0       1.0       0.0  \n",
      "7      0.0       0.0       0.0  \n"
     ]
    }
   ],
   "source": [
    "print(df[numeric_cols].head())\n"
   ]
  },
  {
   "cell_type": "code",
   "execution_count": 42,
   "id": "39516ccb",
   "metadata": {},
   "outputs": [
    {
     "name": "stdout",
     "output_type": "stream",
     "text": [
      "         price     salon  nb_rooms  nb_baths  surface_area  Ascenseur  \\\n",
      "1     0.913844 -0.410121 -0.411228 -0.035555      0.438478   1.020759   \n",
      "2     1.321698 -0.410121 -0.411228 -0.035555     -0.235960   1.020759   \n",
      "3     0.137606 -0.410121 -2.220390 -0.168030     -1.227781   1.020759   \n",
      "6    -0.230779 -0.410121  1.397935  0.096920      0.438478   1.020759   \n",
      "7    -0.151839 -0.410121  1.397935 -0.035555     -0.553343  -0.979663   \n",
      "...        ...       ...       ...       ...           ...        ...   \n",
      "1767 -0.388658 -0.410121 -0.411228 -0.168030     -0.672361   1.020759   \n",
      "1768  0.084979 -0.410121 -0.411228 -0.035555     -0.989744   1.020759   \n",
      "1769  0.084979  1.645935 -0.411228 -0.035555      0.914552   1.020759   \n",
      "1771 -0.388658 -0.410121 -0.411228 -0.035555     -0.116941  -0.979663   \n",
      "1772  0.927000 -0.410121 -0.411228 -0.035555     -0.116941   1.020759   \n",
      "\n",
      "        Balcon  Chauffage  Climatisation  Concierge  Cuisine Équipée  \\\n",
      "1     0.891231   2.328364       1.629034  -0.794576         1.014015   \n",
      "2     0.891231   2.328364       1.629034   1.258533         1.014015   \n",
      "3    -1.122044   2.328364       1.629034  -0.794576         1.014015   \n",
      "6     0.891231  -0.429486      -0.613861   1.258533         1.014015   \n",
      "7    -1.122044  -0.429486      -0.613861  -0.794576         1.014015   \n",
      "...        ...        ...            ...        ...              ...   \n",
      "1767  0.891231  -0.429486      -0.613861  -0.794576        -0.986179   \n",
      "1768  0.891231  -0.429486      -0.613861  -0.794576         1.014015   \n",
      "1769 -1.122044  -0.429486      -0.613861  -0.794576        -0.986179   \n",
      "1771 -1.122044  -0.429486      -0.613861  -0.794576         1.014015   \n",
      "1772  0.891231  -0.429486       1.629034   1.258533         1.014015   \n",
      "\n",
      "        Duplex    Meublé   Parking  Sécurité  Terrasse  \n",
      "1    -0.149525 -0.333456  0.995372 -0.991422 -0.782419  \n",
      "2     6.687845 -0.333456  0.995372  1.008652  1.278088  \n",
      "3    -0.149525  2.998896  0.995372  1.008652  1.278088  \n",
      "6    -0.149525 -0.333456  0.995372  1.008652 -0.782419  \n",
      "7    -0.149525 -0.333456 -1.004650 -0.991422 -0.782419  \n",
      "...        ...       ...       ...       ...       ...  \n",
      "1767 -0.149525 -0.333456 -1.004650 -0.991422 -0.782419  \n",
      "1768 -0.149525 -0.333456  0.995372  1.008652 -0.782419  \n",
      "1769 -0.149525 -0.333456  0.995372 -0.991422 -0.782419  \n",
      "1771 -0.149525 -0.333456  0.995372  1.008652 -0.782419  \n",
      "1772 -0.149525 -0.333456  0.995372  1.008652  1.278088  \n",
      "\n",
      "[1509 rows x 16 columns]\n"
     ]
    }
   ],
   "source": [
    "scaler = StandardScaler()\n",
    "df[numeric_cols] = scaler.fit_transform(df[numeric_cols])\n",
    "print(df[numeric_cols])\n"
   ]
  },
  {
   "cell_type": "code",
   "execution_count": 43,
   "id": "7b5fded0",
   "metadata": {},
   "outputs": [
    {
     "name": "stdout",
     "output_type": "stream",
     "text": [
      "              price         salon      nb_rooms      nb_baths  surface_area  \\\n",
      "count  1.509000e+03  1.509000e+03  1.509000e+03  1.509000e+03  1.509000e+03   \n",
      "mean   1.883480e-17  2.354350e-17 -2.825220e-17 -2.354350e-18  9.417399e-18   \n",
      "std    1.000332e+00  1.000332e+00  1.000332e+00  1.000332e+00  1.000332e+00   \n",
      "min   -2.230487e+00 -2.466178e+00 -2.220390e+00 -3.005057e-01 -2.695675e+00   \n",
      "25%   -6.517891e-01 -4.101213e-01 -4.112278e-01 -1.680303e-01 -7.120338e-01   \n",
      "50%    8.497934e-02 -4.101213e-01 -4.112278e-01 -3.555501e-02 -1.169415e-01   \n",
      "75%    4.796767e-01 -4.101213e-01  1.397935e+00 -3.555501e-02  6.765149e-01   \n",
      "max    2.558416e+00  1.398228e+01  3.207097e+00  1.745119e+01  2.818847e+00   \n",
      "\n",
      "          Ascenseur        Balcon     Chauffage  Climatisation     Concierge  \\\n",
      "count  1.509000e+03  1.509000e+03  1.509000e+03   1.509000e+03  1.509000e+03   \n",
      "mean   2.825220e-17 -4.708699e-18 -1.883480e-17  -4.708699e-18  5.650439e-17   \n",
      "std    1.000332e+00  1.000332e+00  1.000332e+00   1.000332e+00  1.000332e+00   \n",
      "min   -9.796633e-01 -1.122044e+00 -4.294862e-01  -6.138606e-01 -7.945762e-01   \n",
      "25%   -9.796633e-01 -1.122044e+00 -4.294862e-01  -6.138606e-01 -7.945762e-01   \n",
      "50%   -9.796633e-01  8.912309e-01 -4.294862e-01  -6.138606e-01 -7.945762e-01   \n",
      "75%    1.020759e+00  8.912309e-01 -4.294862e-01   1.629034e+00  1.258533e+00   \n",
      "max    1.020759e+00  8.912309e-01  2.328364e+00   1.629034e+00  1.258533e+00   \n",
      "\n",
      "       Cuisine Équipée        Duplex        Meublé       Parking  \\\n",
      "count     1.509000e+03  1.509000e+03  1.509000e+03  1.509000e+03   \n",
      "mean     -1.883480e-17 -2.354350e-17  1.059457e-17  3.766960e-17   \n",
      "std       1.000332e+00  1.000332e+00  1.000332e+00  1.000332e+00   \n",
      "min      -9.861790e-01 -1.495250e-01 -3.334560e-01 -1.004650e+00   \n",
      "25%      -9.861790e-01 -1.495250e-01 -3.334560e-01 -1.004650e+00   \n",
      "50%      -9.861790e-01 -1.495250e-01 -3.334560e-01  9.953719e-01   \n",
      "75%       1.014015e+00 -1.495250e-01 -3.334560e-01  9.953719e-01   \n",
      "max       1.014015e+00  6.687845e+00  2.998896e+00  9.953719e-01   \n",
      "\n",
      "           Sécurité      Terrasse  \n",
      "count  1.509000e+03  1.509000e+03  \n",
      "mean  -3.766960e-17 -1.883480e-17  \n",
      "std    1.000332e+00  1.000332e+00  \n",
      "min   -9.914218e-01 -7.824190e-01  \n",
      "25%   -9.914218e-01 -7.824190e-01  \n",
      "50%   -9.914218e-01 -7.824190e-01  \n",
      "75%    1.008652e+00  1.278088e+00  \n",
      "max    1.008652e+00  1.278088e+00  \n"
     ]
    }
   ],
   "source": [
    "print(df[numeric_cols].describe())\n"
   ]
  },
  {
   "cell_type": "code",
   "execution_count": 44,
   "id": "81b2acb7",
   "metadata": {},
   "outputs": [
    {
     "data": {
      "image/png": "[encoded data removed]",
      "text/plain": [
       "<Figure size 640x480 with 1 Axes>"
      ]
     },
     "metadata": {},
     "output_type": "display_data"
    }
   ],
   "source": [
    "import matplotlib.pyplot as plt\n",
    "\n",
    "df['price'].hist(bins=30)\n",
    "plt.title('Distribution de la variable \"price\" après mise à l’échelle')\n",
    "plt.show()\n"
   ]
  },
  {
   "cell_type": "code",
   "execution_count": 45,
   "id": "11c48f57",
   "metadata": {},
   "outputs": [
    {
     "name": "stdout",
     "output_type": "stream",
     "text": [
      "price                1.000000\n",
      "surface_area         0.430191\n",
      "Ascenseur            0.291515\n",
      "nb_rooms             0.200276\n",
      "Parking              0.176461\n",
      "Concierge            0.172143\n",
      "salon                0.155896\n",
      "Climatisation        0.151570\n",
      "Balcon               0.136102\n",
      "Terrasse             0.128373\n",
      "Sécurité             0.117601\n",
      "Chauffage            0.112406\n",
      "Cuisine Équipée      0.077883\n",
      "Meublé               0.030188\n",
      "nb_baths             0.020474\n",
      "Duplex               0.012959\n",
      "city_name_encoded   -0.042955\n",
      "Name: price, dtype: float64\n"
     ]
    }
   ],
   "source": [
    "correlation_matrix = df.corr(numeric_only=True)\n",
    "\n",
    "\n",
    "corr_with_price = correlation_matrix['price'].sort_values(ascending=False)\n",
    "print(corr_with_price)\n"
   ]
  },
  {
   "cell_type": "code",
   "execution_count": null,
   "id": "4bdc1ae6",
   "metadata": {},
   "outputs": [
    {
     "name": "stdout",
     "output_type": "stream",
     "text": [
      "Variables corrélées à 'price' : ['surface_area', 'Ascenseur', 'nb_rooms', 'Parking', 'Concierge', 'salon', 'Climatisation']\n"
     ]
    }
   ],
   "source": [
    "selected_features = corr_with_price[corr_with_price > 0.15].index.tolist()\n",
    "\n",
    "selected_features.remove('price')\n",
    "print(\"Variables corrélées à 'price' :\", selected_features)\n"
   ]
  },
  {
   "cell_type": "code",
   "execution_count": 47,
   "id": "0e23c841",
   "metadata": {},
   "outputs": [
    {
     "data": {
      "text/html": [
       "<div>\n",
       "<style scoped>\n",
       "    .dataframe tbody tr th:only-of-type {\n",
       "        vertical-align: middle;\n",
       "    }\n",
       "\n",
       "    .dataframe tbody tr th {\n",
       "        vertical-align: top;\n",
       "    }\n",
       "\n",
       "    .dataframe thead th {\n",
       "        text-align: right;\n",
       "    }\n",
       "</style>\n",
       "<table border=\"1\" class=\"dataframe\">\n",
       "  <thead>\n",
       "    <tr style=\"text-align: right;\">\n",
       "      <th></th>\n",
       "      <th>surface_area</th>\n",
       "      <th>Ascenseur</th>\n",
       "      <th>nb_rooms</th>\n",
       "      <th>Parking</th>\n",
       "      <th>Concierge</th>\n",
       "      <th>salon</th>\n",
       "      <th>Climatisation</th>\n",
       "    </tr>\n",
       "  </thead>\n",
       "  <tbody>\n",
       "    <tr>\n",
       "      <th>surface_area</th>\n",
       "      <td>1.000000</td>\n",
       "      <td>0.147769</td>\n",
       "      <td>0.523824</td>\n",
       "      <td>0.114928</td>\n",
       "      <td>0.128174</td>\n",
       "      <td>0.334752</td>\n",
       "      <td>0.067554</td>\n",
       "    </tr>\n",
       "    <tr>\n",
       "      <th>Ascenseur</th>\n",
       "      <td>0.147769</td>\n",
       "      <td>1.000000</td>\n",
       "      <td>0.028836</td>\n",
       "      <td>0.548262</td>\n",
       "      <td>0.519846</td>\n",
       "      <td>0.017967</td>\n",
       "      <td>0.356032</td>\n",
       "    </tr>\n",
       "    <tr>\n",
       "      <th>nb_rooms</th>\n",
       "      <td>0.523824</td>\n",
       "      <td>0.028836</td>\n",
       "      <td>1.000000</td>\n",
       "      <td>0.037657</td>\n",
       "      <td>0.022782</td>\n",
       "      <td>0.146871</td>\n",
       "      <td>-0.077649</td>\n",
       "    </tr>\n",
       "    <tr>\n",
       "      <th>Parking</th>\n",
       "      <td>0.114928</td>\n",
       "      <td>0.548262</td>\n",
       "      <td>0.037657</td>\n",
       "      <td>1.000000</td>\n",
       "      <td>0.554156</td>\n",
       "      <td>0.045787</td>\n",
       "      <td>0.343475</td>\n",
       "    </tr>\n",
       "    <tr>\n",
       "      <th>Concierge</th>\n",
       "      <td>0.128174</td>\n",
       "      <td>0.519846</td>\n",
       "      <td>0.022782</td>\n",
       "      <td>0.554156</td>\n",
       "      <td>1.000000</td>\n",
       "      <td>0.090943</td>\n",
       "      <td>0.409420</td>\n",
       "    </tr>\n",
       "    <tr>\n",
       "      <th>salon</th>\n",
       "      <td>0.334752</td>\n",
       "      <td>0.017967</td>\n",
       "      <td>0.146871</td>\n",
       "      <td>0.045787</td>\n",
       "      <td>0.090943</td>\n",
       "      <td>1.000000</td>\n",
       "      <td>0.050788</td>\n",
       "    </tr>\n",
       "    <tr>\n",
       "      <th>Climatisation</th>\n",
       "      <td>0.067554</td>\n",
       "      <td>0.356032</td>\n",
       "      <td>-0.077649</td>\n",
       "      <td>0.343475</td>\n",
       "      <td>0.409420</td>\n",
       "      <td>0.050788</td>\n",
       "      <td>1.000000</td>\n",
       "    </tr>\n",
       "  </tbody>\n",
       "</table>\n",
       "</div>"
      ],
      "text/plain": [
       "               surface_area  Ascenseur  nb_rooms   Parking  Concierge  \\\n",
       "surface_area       1.000000   0.147769  0.523824  0.114928   0.128174   \n",
       "Ascenseur          0.147769   1.000000  0.028836  0.548262   0.519846   \n",
       "nb_rooms           0.523824   0.028836  1.000000  0.037657   0.022782   \n",
       "Parking            0.114928   0.548262  0.037657  1.000000   0.554156   \n",
       "Concierge          0.128174   0.519846  0.022782  0.554156   1.000000   \n",
       "salon              0.334752   0.017967  0.146871  0.045787   0.090943   \n",
       "Climatisation      0.067554   0.356032 -0.077649  0.343475   0.409420   \n",
       "\n",
       "                  salon  Climatisation  \n",
       "surface_area   0.334752       0.067554  \n",
       "Ascenseur      0.017967       0.356032  \n",
       "nb_rooms       0.146871      -0.077649  \n",
       "Parking        0.045787       0.343475  \n",
       "Concierge      0.090943       0.409420  \n",
       "salon          1.000000       0.050788  \n",
       "Climatisation  0.050788       1.000000  "
      ]
     },
     "execution_count": 47,
     "metadata": {},
     "output_type": "execute_result"
    }
   ],
   "source": [
    "df[selected_features].corr()\n"
   ]
  },
  {
   "cell_type": "code",
   "execution_count": 48,
   "id": "dc159fd9",
   "metadata": {},
   "outputs": [
    {
     "data": {
      "image/png": "[encoded data removed]",
      "text/plain": [
       "<Figure size 800x600 with 2 Axes>"
      ]
     },
     "metadata": {},
     "output_type": "display_data"
    }
   ],
   "source": [
    "plt.figure(figsize=(8, 6))\n",
    "sns.heatmap(df[selected_features].corr(), annot=True, cmap='coolwarm')\n",
    "plt.title('Corrélation entre les variables sélectionnées')\n",
    "plt.show()"
   ]
  },
  {
   "cell_type": "code",
   "execution_count": 49,
   "id": "d79bc8cb",
   "metadata": {},
   "outputs": [],
   "source": [
    "y = df['price']"
   ]
  },
  {
   "cell_type": "code",
   "execution_count": 50,
   "id": "763e5772",
   "metadata": {},
   "outputs": [],
   "source": [
    "X = df[selected_features]\n"
   ]
  },
  {
   "cell_type": "code",
   "execution_count": 51,
   "id": "2e3016c9",
   "metadata": {},
   "outputs": [],
   "source": [
    "from sklearn.model_selection import train_test_split\n",
    "\n",
    "X_train, X_test, y_train, y_test = train_test_split(\n",
    "    X, y,\n",
    "    test_size=0.2,\n",
    "    random_state=42\n",
    ")\n"
   ]
  },
  {
   "cell_type": "code",
   "execution_count": 52,
   "id": "3850faeb",
   "metadata": {},
   "outputs": [
    {
     "name": "stdout",
     "output_type": "stream",
     "text": [
      "Taille du X_train : (1207, 7)\n",
      "Taille du X_test  : (302, 7)\n",
      "Taille du y_train : (1207,)\n",
      "Taille du y_test  : (302,)\n"
     ]
    }
   ],
   "source": [
    "print(\"Taille du X_train :\", X_train.shape)\n",
    "print(\"Taille du X_test  :\", X_test.shape)\n",
    "print(\"Taille du y_train :\", y_train.shape)\n",
    "print(\"Taille du y_test  :\", y_test.shape)\n"
   ]
  }
 ],
 "metadata": {
  "kernelspec": {
   "display_name": "base",
   "language": "python",
   "name": "python3"
  },
  "language_info": {
   "codemirror_mode": {
    "name": "ipython",
    "version": 3
   },
   "file_extension": ".py",
   "mimetype": "text/x-python",
   "name": "python",
   "nbconvert_exporter": "python",
   "pygments_lexer": "ipython3",
   "version": "3.12.7"
  }
 },
 "nbformat": 4,
 "nbformat_minor": 5
}
