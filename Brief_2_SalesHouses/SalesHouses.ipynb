{
 "cells": [
  {
   "cell_type": "markdown",
   "id": "cfdc9057",
   "metadata": {},
   "source": [
    "###  ***Idée de project***"
   ]
  },
  {
   "cell_type": "markdown",
   "id": "9e549ed6",
   "metadata": {},
   "source": [
    "L’entreprise souhaite moderniser son offre en lançant un simulateur intelligent d’évaluation immobilière . Cet outil permettra aux utilisateurs de saisir les caractéristiques clés d’un bien immobilier (superficie, nombre de chambres, localisation, état, etc.) et d’obtenir une estimation précise du prix de marché, adapté au contexte marocain.\n",
    "\n",
    "En tant que membre de l’équipe Data & IA, votre mission consiste à concevoir et déployer un modèle de régression supervisé , capable de prédire le prix de vente d’un appartement à partir d’un ensemble de données historiques. Vous serez chargé(e) d’effectuer une analyse exploratoire des données, de préparer les variables pertinentes (feature engineering), d’entraîner plusieurs modèles de régression, d’évaluer leurs performances à l’aide de métriques adaptées, puis de livrer une solution finale intégrable dans l’application web de SalesHouses."
   ]
  },
  {
   "cell_type": "markdown",
   "id": "d844cc4d",
   "metadata": {},
   "source": [
    "install packages"
   ]
  },
  {
   "cell_type": "code",
   "execution_count": 368,
   "id": "bf490cc2",
   "metadata": {},
   "outputs": [
    {
     "name": "stdout",
     "output_type": "stream",
     "text": [
      "Requirement already satisfied: pandas in c:\\users\\lenovo\\anaconda3\\lib\\site-packages (2.2.2)\n",
      "Requirement already satisfied: numpy in c:\\users\\lenovo\\anaconda3\\lib\\site-packages (1.26.4)\n",
      "Requirement already satisfied: matplotlib in c:\\users\\lenovo\\anaconda3\\lib\\site-packages (3.9.2)\n",
      "Requirement already satisfied: seaborn in c:\\users\\lenovo\\anaconda3\\lib\\site-packages (0.13.2)\n",
      "Requirement already satisfied: scikit-learn in c:\\users\\lenovo\\anaconda3\\lib\\site-packages (1.5.1)\n",
      "Requirement already satisfied: joblib in c:\\users\\lenovo\\anaconda3\\lib\\site-packages (1.4.2)\n",
      "Requirement already satisfied: python-dateutil>=2.8.2 in c:\\users\\lenovo\\anaconda3\\lib\\site-packages (from pandas) (2.9.0.post0)\n",
      "Requirement already satisfied: pytz>=2020.1 in c:\\users\\lenovo\\anaconda3\\lib\\site-packages (from pandas) (2024.1)\n",
      "Requirement already satisfied: tzdata>=2022.7 in c:\\users\\lenovo\\anaconda3\\lib\\site-packages (from pandas) (2023.3)\n",
      "Requirement already satisfied: contourpy>=1.0.1 in c:\\users\\lenovo\\anaconda3\\lib\\site-packages (from matplotlib) (1.2.0)\n",
      "Requirement already satisfied: cycler>=0.10 in c:\\users\\lenovo\\anaconda3\\lib\\site-packages (from matplotlib) (0.11.0)\n",
      "Requirement already satisfied: fonttools>=4.22.0 in c:\\users\\lenovo\\anaconda3\\lib\\site-packages (from matplotlib) (4.51.0)\n",
      "Requirement already satisfied: kiwisolver>=1.3.1 in c:\\users\\lenovo\\anaconda3\\lib\\site-packages (from matplotlib) (1.4.4)\n",
      "Requirement already satisfied: packaging>=20.0 in c:\\users\\lenovo\\anaconda3\\lib\\site-packages (from matplotlib) (24.1)\n",
      "Requirement already satisfied: pillow>=8 in c:\\users\\lenovo\\anaconda3\\lib\\site-packages (from matplotlib) (10.4.0)\n",
      "Requirement already satisfied: pyparsing>=2.3.1 in c:\\users\\lenovo\\anaconda3\\lib\\site-packages (from matplotlib) (3.1.2)\n",
      "Requirement already satisfied: scipy>=1.6.0 in c:\\users\\lenovo\\anaconda3\\lib\\site-packages (from scikit-learn) (1.13.1)\n",
      "Requirement already satisfied: threadpoolctl>=3.1.0 in c:\\users\\lenovo\\anaconda3\\lib\\site-packages (from scikit-learn) (3.5.0)\n",
      "Requirement already satisfied: six>=1.5 in c:\\users\\lenovo\\anaconda3\\lib\\site-packages (from python-dateutil>=2.8.2->pandas) (1.16.0)\n",
      "Note: you may need to restart the kernel to use updated packages.\n"
     ]
    }
   ],
   "source": [
    "%pip install pandas numpy matplotlib seaborn scikit-learn joblib "
   ]
  },
  {
   "cell_type": "markdown",
   "id": "000a58dc",
   "metadata": {},
   "source": [
    "🔹 1. Chargement des données"
   ]
  },
  {
   "cell_type": "code",
   "execution_count": 369,
   "id": "ec39f361",
   "metadata": {},
   "outputs": [],
   "source": [
    "import pandas as pd\n",
    "import seaborn as sns\n",
    "import matplotlib.pyplot as plt\n",
    "import numpy as np\n",
    "\n"
   ]
  },
  {
   "cell_type": "markdown",
   "id": "932710f2",
   "metadata": {},
   "source": [
    "1.Importer le fichier CSV à l’aide de Pandas avec pandas.read_csv().  \n"
   ]
  },
  {
   "cell_type": "code",
   "execution_count": 370,
   "id": "883da5a7",
   "metadata": {},
   "outputs": [],
   "source": [
    "\n",
    "\n",
    "df = pd.read_csv('appartements-data-db-6872f0ba853ec096170787.csv')"
   ]
  },
  {
   "cell_type": "markdown",
   "id": "c6678de0",
   "metadata": {},
   "source": [
    "Utiliser df.info() pour voir le type de chaque colonne."
   ]
  },
  {
   "cell_type": "code",
   "execution_count": 371,
   "id": "a5252803",
   "metadata": {},
   "outputs": [
    {
     "name": "stdout",
     "output_type": "stream",
     "text": [
      "<class 'pandas.core.frame.DataFrame'>\n",
      "RangeIndex: 1773 entries, 0 to 1772\n",
      "Data columns (total 9 columns):\n",
      " #   Column        Non-Null Count  Dtype  \n",
      "---  ------        --------------  -----  \n",
      " 0   title         1772 non-null   object \n",
      " 1   price         1490 non-null   object \n",
      " 2   city_name     1772 non-null   object \n",
      " 3   salon         1620 non-null   float64\n",
      " 4   nb_rooms      1490 non-null   float64\n",
      " 5   nb_baths      1480 non-null   float64\n",
      " 6   surface_area  1742 non-null   float64\n",
      " 7   equipment     1402 non-null   object \n",
      " 8   link          1773 non-null   object \n",
      "dtypes: float64(4), object(5)\n",
      "memory usage: 124.8+ KB\n",
      "None\n"
     ]
    }
   ],
   "source": [
    "print(df.info())"
   ]
  },
  {
   "cell_type": "markdown",
   "id": "94fb33ce",
   "metadata": {},
   "source": [
    "Utiliser df.head() pour voir les premières lignes."
   ]
  },
  {
   "cell_type": "code",
   "execution_count": 372,
   "id": "d0580ce5",
   "metadata": {},
   "outputs": [
    {
     "name": "stdout",
     "output_type": "stream",
     "text": [
      "                                               title         price  \\\n",
      "0       CMN-MA-1752 - Appartement à vendre à Palmier  2 000 000 DH   \n",
      "1  66370-Vente Appt à Casablanca Hay Hassani de 1...  1 195 000 DH   \n",
      "2           Appartement à vendre 81 m² à Dar Bouazza  1 350 000 DH   \n",
      "3  63860-Vente Appt à Casablanca Quartier Bd Med ...    900 000 DH   \n",
      "4                          Appartement à Rabat Agdal  3 100 000 DH   \n",
      "\n",
      "     city_name  salon  nb_rooms  nb_baths  surface_area  \\\n",
      "0   Casablanca    NaN       2.0       2.0         168.0   \n",
      "1   Casablanca    NaN       2.0       2.0          98.0   \n",
      "2  Dar Bouazza    1.0       2.0       2.0          81.0   \n",
      "3   Casablanca    NaN       1.0       1.0          56.0   \n",
      "4        Rabat    2.0       3.0       2.0         200.0   \n",
      "\n",
      "                                           equipment  \\\n",
      "0                  Ascenseur/Balcon/Parking/Terrasse   \n",
      "1  Ascenseur/Balcon/Chauffage/Climatisation/Cuisi...   \n",
      "2  Ascenseur/Balcon/Chauffage/Climatisation/Conci...   \n",
      "3  Ascenseur/Chauffage/Climatisation/Cuisine Équi...   \n",
      "4        Ascenseur/Balcon/Concierge/Parking/Sécurité   \n",
      "\n",
      "                                                link  \n",
      "0  https://www.avito.ma/fr/palmier/appartements/C...  \n",
      "1  https://www.avito.ma/fr/hay_hassani/appartemen...  \n",
      "2  https://www.avito.ma/fr/dar_bouazza/appartemen...  \n",
      "3  https://www.avito.ma/fr/centre_ville/apparteme...  \n",
      "4  https://www.avito.ma/fr/agdal/appartements/App...  \n"
     ]
    }
   ],
   "source": [
    "print(df.head())"
   ]
  },
  {
   "cell_type": "markdown",
   "id": "0bb0b021",
   "metadata": {},
   "source": [
    "🔹 2. Analyse Exploratoire des Données (EDA)"
   ]
  },
  {
   "cell_type": "markdown",
   "id": "e1166e62",
   "metadata": {},
   "source": [
    "Afficher les dimensions et types des données : df.shape, df.dtypes.\n"
   ]
  },
  {
   "cell_type": "code",
   "execution_count": 373,
   "id": "520e46be",
   "metadata": {},
   "outputs": [
    {
     "data": {
      "text/plain": [
       "(1773, 9)"
      ]
     },
     "execution_count": 373,
     "metadata": {},
     "output_type": "execute_result"
    }
   ],
   "source": [
    "df.shape"
   ]
  },
  {
   "cell_type": "code",
   "execution_count": 374,
   "id": "b8d041b0",
   "metadata": {},
   "outputs": [
    {
     "data": {
      "text/plain": [
       "title            object\n",
       "price            object\n",
       "city_name        object\n",
       "salon           float64\n",
       "nb_rooms        float64\n",
       "nb_baths        float64\n",
       "surface_area    float64\n",
       "equipment        object\n",
       "link             object\n",
       "dtype: object"
      ]
     },
     "execution_count": 374,
     "metadata": {},
     "output_type": "execute_result"
    }
   ],
   "source": [
    "df.dtypes"
   ]
  },
  {
   "cell_type": "markdown",
   "id": "a3bf08a6",
   "metadata": {},
   "source": [
    "Rechercher les valeurs manquantes avec df.isnull().sum()."
   ]
  },
  {
   "cell_type": "code",
   "execution_count": 375,
   "id": "4734df53",
   "metadata": {},
   "outputs": [
    {
     "name": "stdout",
     "output_type": "stream",
     "text": [
      "title             1\n",
      "price           283\n",
      "city_name         1\n",
      "salon           153\n",
      "nb_rooms        283\n",
      "nb_baths        293\n",
      "surface_area     31\n",
      "equipment       371\n",
      "link              0\n",
      "dtype: int64\n",
      "      title  price  city_name  salon  nb_rooms  nb_baths  surface_area  \\\n",
      "0     False  False      False   True     False     False         False   \n",
      "1     False  False      False   True     False     False         False   \n",
      "2     False  False      False  False     False     False         False   \n",
      "3     False  False      False   True     False     False         False   \n",
      "4     False  False      False  False     False     False         False   \n",
      "...     ...    ...        ...    ...       ...       ...           ...   \n",
      "1768  False   True      False  False      True      True         False   \n",
      "1769  False   True      False  False      True      True         False   \n",
      "1770  False   True      False  False      True      True         False   \n",
      "1771  False  False      False  False     False     False         False   \n",
      "1772  False  False      False  False     False     False         False   \n",
      "\n",
      "      equipment   link  \n",
      "0         False  False  \n",
      "1         False  False  \n",
      "2         False  False  \n",
      "3         False  False  \n",
      "4         False  False  \n",
      "...         ...    ...  \n",
      "1768      False  False  \n",
      "1769      False  False  \n",
      "1770      False  False  \n",
      "1771      False  False  \n",
      "1772      False  False  \n",
      "\n",
      "[1773 rows x 9 columns]\n"
     ]
    }
   ],
   "source": [
    "data_nul = df.isna()\n",
    "print(df.isna().sum())\n",
    "print(data_nul)"
   ]
  },
  {
   "cell_type": "markdown",
   "id": "220ba8d3",
   "metadata": {},
   "source": [
    "Détecter les doublons"
   ]
  },
  {
   "cell_type": "code",
   "execution_count": 376,
   "id": "b6869ddd",
   "metadata": {},
   "outputs": [
    {
     "name": "stdout",
     "output_type": "stream",
     "text": [
      "Nombre total de doublons: 41\n"
     ]
    }
   ],
   "source": [
    "print(\"Nombre total de doublons:\" ,df.duplicated().sum())"
   ]
  },
  {
   "cell_type": "markdown",
   "id": "8da9751c",
   "metadata": {},
   "source": [
    "Analyser la distribution des colonnes numériques"
   ]
  },
  {
   "cell_type": "code",
   "execution_count": 377,
   "id": "849071d3",
   "metadata": {},
   "outputs": [
    {
     "data": {
      "text/plain": [
       "array([[<Axes: title={'center': 'salon'}>,\n",
       "        <Axes: title={'center': 'nb_rooms'}>],\n",
       "       [<Axes: title={'center': 'nb_baths'}>,\n",
       "        <Axes: title={'center': 'surface_area'}>]], dtype=object)"
      ]
     },
     "execution_count": 377,
     "metadata": {},
     "output_type": "execute_result"
    },
    {
     "data": {
      "image/png": "[encoded data removed]",
      "text/plain": [
       "<Figure size 640x480 with 4 Axes>"
      ]
     },
     "metadata": {},
     "output_type": "display_data"
    }
   ],
   "source": [
    "df.hist()"
   ]
  },
  {
   "cell_type": "markdown",
   "id": "694555d6",
   "metadata": {},
   "source": [
    "Étudier les corrélations"
   ]
  },
  {
   "cell_type": "code",
   "execution_count": 378,
   "id": "e103719b",
   "metadata": {},
   "outputs": [
    {
     "data": {
      "text/plain": [
       "<bound method DataFrame.corr of                                                   title         price  \\\n",
       "0          CMN-MA-1752 - Appartement à vendre à Palmier  2 000 000 DH   \n",
       "1     66370-Vente Appt à Casablanca Hay Hassani de 1...  1 195 000 DH   \n",
       "2              Appartement à vendre 81 m² à Dar Bouazza  1 350 000 DH   \n",
       "3     63860-Vente Appt à Casablanca Quartier Bd Med ...    900 000 DH   \n",
       "4                             Appartement à Rabat Agdal  3 100 000 DH   \n",
       "...                                                 ...           ...   \n",
       "1768                Appartement à vendre 62 m² à Agadir           NaN   \n",
       "1769                        Appartement 110 m² à Agadir           NaN   \n",
       "1770             Appartement à vendre 12000 m² à Temara           NaN   \n",
       "1771                      appartement de 84 m² à vendre    700 000 DH   \n",
       "1772                 Appartement Neuf à vendre à Temara  1 200 000 DH   \n",
       "\n",
       "        city_name  salon  nb_rooms  nb_baths  surface_area  \\\n",
       "0      Casablanca    NaN       2.0       2.0         168.0   \n",
       "1      Casablanca    NaN       2.0       2.0          98.0   \n",
       "2     Dar Bouazza    1.0       2.0       2.0          81.0   \n",
       "3      Casablanca    NaN       1.0       1.0          56.0   \n",
       "4           Rabat    2.0       3.0       2.0         200.0   \n",
       "...           ...    ...       ...       ...           ...   \n",
       "1768       Agadir    1.0       NaN       NaN          62.0   \n",
       "1769       Agadir    2.0       NaN       NaN         110.0   \n",
       "1770       Temara    2.0       NaN       NaN       12000.0   \n",
       "1771   Casablanca    1.0       2.0       2.0          84.0   \n",
       "1772       Temara    1.0       2.0       2.0          84.0   \n",
       "\n",
       "                                              equipment  \\\n",
       "0                     Ascenseur/Balcon/Parking/Terrasse   \n",
       "1     Ascenseur/Balcon/Chauffage/Climatisation/Cuisi...   \n",
       "2     Ascenseur/Balcon/Chauffage/Climatisation/Conci...   \n",
       "3     Ascenseur/Chauffage/Climatisation/Cuisine Équi...   \n",
       "4           Ascenseur/Balcon/Concierge/Parking/Sécurité   \n",
       "...                                                 ...   \n",
       "1768  Ascenseur/Balcon/Cuisine Équipée/Parking/Sécurité   \n",
       "1769                                  Ascenseur/Parking   \n",
       "1770                  Ascenseur/Balcon/Parking/Sécurité   \n",
       "1771                   Cuisine Équipée/Parking/Sécurité   \n",
       "1772  Ascenseur/Balcon/Climatisation/Concierge/Cuisi...   \n",
       "\n",
       "                                                   link  \n",
       "0     https://www.avito.ma/fr/palmier/appartements/C...  \n",
       "1     https://www.avito.ma/fr/hay_hassani/appartemen...  \n",
       "2     https://www.avito.ma/fr/dar_bouazza/appartemen...  \n",
       "3     https://www.avito.ma/fr/centre_ville/apparteme...  \n",
       "4     https://www.avito.ma/fr/agdal/appartements/App...  \n",
       "...                                                 ...  \n",
       "1768  https://www.avito.ma/fr/cit%C3%A9_adrar/appart...  \n",
       "1769  https://www.avito.ma/fr/av_des_far/appartement...  \n",
       "1770  https://www.avito.ma/fr/massira_2/appartements...  \n",
       "1771               https://www.avito.ma/vi/55818389.htm  \n",
       "1772               https://www.avito.ma/vi/55832294.htm  \n",
       "\n",
       "[1773 rows x 9 columns]>"
      ]
     },
     "execution_count": 378,
     "metadata": {},
     "output_type": "execute_result"
    }
   ],
   "source": [
    "df.corr"
   ]
  },
  {
   "cell_type": "markdown",
   "id": "aba30574",
   "metadata": {},
   "source": [
    "3. Prétraitement des données"
   ]
  },
  {
   "cell_type": "code",
   "execution_count": 379,
   "id": "768c0a46",
   "metadata": {},
   "outputs": [
    {
     "data": {
      "image/png": "[encoded data removed]",
      "text/plain": [
       "<Figure size 640x480 with 2 Axes>"
      ]
     },
     "metadata": {},
     "output_type": "display_data"
    }
   ],
   "source": [
    "numeric_df = df.select_dtypes(include='number')\n",
    "\n",
    "sns.heatmap(numeric_df)\n",
    "\n",
    "plt.show()"
   ]
  },
  {
   "cell_type": "markdown",
   "id": "190f6fb7",
   "metadata": {},
   "source": [
    "✅ Nettoyage & Transformation"
   ]
  },
  {
   "cell_type": "markdown",
   "id": "6d664ea4",
   "metadata": {},
   "source": [
    "Extraire les équipements (equipment) avec str.get_dummies() ➝ nouvelles colonnes booléennes."
   ]
  },
  {
   "cell_type": "code",
   "execution_count": 380,
   "id": "5499686c",
   "metadata": {},
   "outputs": [
    {
     "name": "stdout",
     "output_type": "stream",
     "text": [
      "      Ascenseur  Balcon  Chauffage  Climatisation  Concierge  Cuisine Équipée  \\\n",
      "0             1       1          0              0          0                0   \n",
      "1             1       1          1              1          0                1   \n",
      "2             1       1          1              1          1                1   \n",
      "3             1       0          1              1          0                1   \n",
      "4             1       1          0              0          1                0   \n",
      "...         ...     ...        ...            ...        ...              ...   \n",
      "1768          1       1          0              0          0                1   \n",
      "1769          1       0          0              0          0                0   \n",
      "1770          1       1          0              0          0                0   \n",
      "1771          0       0          0              0          0                1   \n",
      "1772          1       1          0              1          1                1   \n",
      "\n",
      "      Duplex  Meublé  Parking  Sécurité  Terrasse  \n",
      "0          0       0        1         0         1  \n",
      "1          0       0        1         0         0  \n",
      "2          1       0        1         1         1  \n",
      "3          0       1        1         1         1  \n",
      "4          0       0        1         1         0  \n",
      "...      ...     ...      ...       ...       ...  \n",
      "1768       0       0        1         1         0  \n",
      "1769       0       0        1         0         0  \n",
      "1770       0       0        1         1         0  \n",
      "1771       0       0        1         1         0  \n",
      "1772       0       0        1         1         1  \n",
      "\n",
      "[1773 rows x 11 columns]\n"
     ]
    }
   ],
   "source": [
    "equipments_dummies = df['equipment'].str.get_dummies(sep=\"/\")\n",
    "df = pd.concat([df, equipments_dummies], axis=1)\n",
    "print(equipments_dummies)"
   ]
  },
  {
   "cell_type": "code",
   "execution_count": 381,
   "id": "b6d39d41",
   "metadata": {},
   "outputs": [],
   "source": [
    "\n",
    "df['price'] = (\n",
    "    df['price']\n",
    "    .astype(str)\n",
    "    .str.replace(r'[^\\d,]', '', regex=True)   \n",
    "    .str.replace(',', '.', 1)                 \n",
    "    .str.replace(',', '')                     \n",
    ")\n",
    "\n",
    "df['price'] = df['price'].replace('', np.nan)\n",
    "df['price'] = df['price'].astype(float)\n",
    "\n"
   ]
  },
  {
   "cell_type": "code",
   "execution_count": 382,
   "id": "c4692df1",
   "metadata": {},
   "outputs": [
    {
     "name": "stdout",
     "output_type": "stream",
     "text": [
      "0    2000000.0\n",
      "1    1195000.0\n",
      "2    1350000.0\n",
      "3     900000.0\n",
      "4    3100000.0\n",
      "Name: price, dtype: float64\n"
     ]
    }
   ],
   "source": [
    "print(df['price'].head())"
   ]
  },
  {
   "cell_type": "markdown",
   "id": "373403e1",
   "metadata": {},
   "source": [
    "Supprimer les colonnes inutiles (equipment, link)"
   ]
  },
  {
   "cell_type": "code",
   "execution_count": 383,
   "id": "630be21c",
   "metadata": {},
   "outputs": [],
   "source": [
    "df.drop(columns=['equipment', 'link'], inplace=True)\n"
   ]
  },
  {
   "cell_type": "code",
   "execution_count": 384,
   "id": "8b62f638",
   "metadata": {},
   "outputs": [
    {
     "name": "stdout",
     "output_type": "stream",
     "text": [
      "['title', 'price', 'city_name', 'salon', 'nb_rooms', 'nb_baths', 'surface_area', 'Ascenseur', 'Balcon', 'Chauffage', 'Climatisation', 'Concierge', 'Cuisine Équipée', 'Duplex', 'Meublé', 'Parking', 'Sécurité', 'Terrasse']\n"
     ]
    }
   ],
   "source": [
    "print(list(df.columns))"
   ]
  },
  {
   "cell_type": "markdown",
   "id": "b0e40b41",
   "metadata": {},
   "source": [
    "Uniformiser les noms de ville (arabe → français)"
   ]
  },
  {
   "cell_type": "code",
   "execution_count": 385,
   "id": "07eb4265",
   "metadata": {},
   "outputs": [
    {
     "name": "stdout",
     "output_type": "stream",
     "text": [
      "['Casablanca' 'Dar Bouazza' 'Rabat' 'Marrakech' 'Asilah' 'Bouskoura'\n",
      " 'Kénitra' 'Mohammedia' 'Agadir' 'Tamesna' 'Salé' 'Had Soualem' 'Temara'\n",
      " 'Benslimane' 'Tanger' 'Bouznika' 'Meknès' 'Fès' 'El Jadida'\n",
      " 'El Mansouria' 'Martil' 'Fnideq' 'Tétouan' 'Saidia' 'Nouaceur' 'Tamaris'\n",
      " 'Cabo Negro' 'Sidi Allal El Bahraoui' 'Béni Mellal' nan 'Essaouira'\n",
      " 'Mehdia' 'Oujda' 'Oued Laou' 'Dcheira' 'Sidi Rahal' 'Deroua' 'Ain Attig'\n",
      " 'Safi' 'Inzegan' 'Ifrane' 'Dakhla' 'Dcheïra El Jihadia' 'Taghazout'\n",
      " 'Sidi Bouknadel' 'Skhirat' 'Khouribga' 'Berkane' 'Mers El Kheir'\n",
      " 'Berrechid' 'Tiznit' 'Agadir Melloul' 'Nador' 'El Menzeh' 'Bni Ansar'\n",
      " 'Mdiq' 'Tit Mellil' 'Souk El Arbaa' 'Biougra' 'Settat' 'Ain Aouda' 'Taza'\n",
      " 'Khemisset' 'Oued Zem' 'Sefrou' 'Merzouga' 'El Hajeb' 'Selouane'\n",
      " 'Taounate' 'Sidi Bennour' 'El Ksiba']\n"
     ]
    }
   ],
   "source": [
    "city_mapping = {\n",
    "    \"الدار البيضاء\": \"Casablanca\",\n",
    "    \"الرباط\": \"Rabat\",\n",
    "    \"القنيطرة\": \"Kénitra\",\n",
    "    \"مراكش\": \"Marrakech\",\n",
    "    \"أكادير\": \"Agadir\",\n",
    "    \"المحمدية\": \"Mohammedia\",\n",
    "    \"طنجة\":\"Tanger\"\n",
    "}\n",
    "\n",
    "\n",
    "df['city_name'] = df['city_name'].replace(city_mapping)\n",
    "print(df['city_name'].unique())"
   ]
  },
  {
   "cell_type": "markdown",
   "id": "cdc27143",
   "metadata": {},
   "source": [
    "Remplacer les valeurs manquantes dans city_name par \"Unknown\"."
   ]
  },
  {
   "cell_type": "code",
   "execution_count": 386,
   "id": "921216da",
   "metadata": {},
   "outputs": [],
   "source": [
    "df['city_name'] = df['city_name'].fillna(\"Unknown\")"
   ]
  },
  {
   "cell_type": "code",
   "execution_count": 387,
   "id": "c5513968",
   "metadata": {},
   "outputs": [
    {
     "name": "stdout",
     "output_type": "stream",
     "text": [
      "0\n",
      "['Casablanca' 'Dar Bouazza' 'Rabat' 'Marrakech' 'Asilah' 'Bouskoura'\n",
      " 'Kénitra' 'Mohammedia' 'Agadir' 'Tamesna' 'Salé' 'Had Soualem' 'Temara'\n",
      " 'Benslimane' 'Tanger' 'Bouznika' 'Meknès' 'Fès' 'El Jadida'\n",
      " 'El Mansouria' 'Martil' 'Fnideq' 'Tétouan' 'Saidia' 'Nouaceur' 'Tamaris'\n",
      " 'Cabo Negro' 'Sidi Allal El Bahraoui' 'Béni Mellal' 'Unknown' 'Essaouira'\n",
      " 'Mehdia' 'Oujda' 'Oued Laou' 'Dcheira' 'Sidi Rahal' 'Deroua' 'Ain Attig'\n",
      " 'Safi' 'Inzegan' 'Ifrane' 'Dakhla' 'Dcheïra El Jihadia' 'Taghazout'\n",
      " 'Sidi Bouknadel' 'Skhirat' 'Khouribga' 'Berkane' 'Mers El Kheir'\n",
      " 'Berrechid' 'Tiznit' 'Agadir Melloul' 'Nador' 'El Menzeh' 'Bni Ansar'\n",
      " 'Mdiq' 'Tit Mellil' 'Souk El Arbaa' 'Biougra' 'Settat' 'Ain Aouda' 'Taza'\n",
      " 'Khemisset' 'Oued Zem' 'Sefrou' 'Merzouga' 'El Hajeb' 'Selouane'\n",
      " 'Taounate' 'Sidi Bennour' 'El Ksiba']\n"
     ]
    }
   ],
   "source": [
    "print(df['city_name'].isna().sum())\n",
    "print(df['city_name'].unique()) "
   ]
  },
  {
   "cell_type": "markdown",
   "id": "b6aa7ae9",
   "metadata": {},
   "source": [
    "# *Gestion des valeurs manquantes:*\n"
   ]
  },
  {
   "cell_type": "markdown",
   "id": "b344bff3",
   "metadata": {},
   "source": [
    "Pour les colonnes numériques : imputer les valeurs manquantes par la médiane.\n"
   ]
  },
  {
   "cell_type": "code",
   "execution_count": 1,
   "id": "119e5079",
   "metadata": {},
   "outputs": [
    {
     "ename": "NameError",
     "evalue": "name 'df' is not defined",
     "output_type": "error",
     "traceback": [
      "\u001b[1;31m---------------------------------------------------------------------------\u001b[0m",
      "\u001b[1;31mNameError\u001b[0m                                 Traceback (most recent call last)",
      "Cell \u001b[1;32mIn[1], line 2\u001b[0m\n\u001b[0;32m      1\u001b[0m \u001b[38;5;66;03m# ! trouver les cols numers\u001b[39;00m\n\u001b[1;32m----> 2\u001b[0m cols_numeric \u001b[38;5;241m=\u001b[39m df\u001b[38;5;241m.\u001b[39mselect_dtypes(include\u001b[38;5;241m=\u001b[39m[\u001b[38;5;124m'\u001b[39m\u001b[38;5;124mfloat64\u001b[39m\u001b[38;5;124m'\u001b[39m, \u001b[38;5;124m'\u001b[39m\u001b[38;5;124mint64\u001b[39m\u001b[38;5;124m'\u001b[39m])\u001b[38;5;241m.\u001b[39mcolumns\n\u001b[0;32m      5\u001b[0m \u001b[38;5;28;01mfor\u001b[39;00m col \u001b[38;5;129;01min\u001b[39;00m cols_numeric:\n\u001b[0;32m      6\u001b[0m     df[col]\u001b[38;5;241m.\u001b[39mfillna(df[col]\u001b[38;5;241m.\u001b[39mmedian(), inplace\u001b[38;5;241m=\u001b[39m\u001b[38;5;28;01mTrue\u001b[39;00m)\n",
      "\u001b[1;31mNameError\u001b[0m: name 'df' is not defined"
     ]
    }
   ],
   "source": [
    "\n",
    "# ! trouver les cols numers\n",
    "cols_numeric = df.select_dtypes(include=['float64', 'int64']).columns\n",
    "\n",
    "\n",
    "for col in cols_numeric:\n",
    "    df[col].fillna(df[col].median(), inplace=True)\n"
   ]
  },
  {
   "cell_type": "markdown",
   "id": "51e5d9d4",
   "metadata": {},
   "source": [
    "Pour les colonnes catégorielles (chaînes de caractères) : imputer avec \"Unknown\"."
   ]
  },
  {
   "cell_type": "code",
   "execution_count": null,
   "id": "67d84f96",
   "metadata": {},
   "outputs": [
    {
     "name": "stderr",
     "output_type": "stream",
     "text": [
      "C:\\Users\\lenovo\\AppData\\Local\\Temp\\ipykernel_11904\\3486513613.py:4: FutureWarning: A value is trying to be set on a copy of a DataFrame or Series through chained assignment using an inplace method.\n",
      "The behavior will change in pandas 3.0. This inplace method will never work because the intermediate object on which we are setting values always behaves as a copy.\n",
      "\n",
      "For example, when doing 'df[col].method(value, inplace=True)', try using 'df.method({col: value}, inplace=True)' or df[col] = df[col].method(value) instead, to perform the operation inplace on the original object.\n",
      "\n",
      "\n",
      "  df[col].fillna(\"Unknown\", inplace=True)\n"
     ]
    }
   ],
   "source": [
    "cols_categorical = df.select_dtypes(include='object').columns\n",
    "\n",
    "for col in cols_categorical:\n",
    "    df[col].fillna(\"Unknown\", inplace=True)\n"
   ]
  },
  {
   "cell_type": "code",
   "execution_count": null,
   "id": "d4204aeb",
   "metadata": {},
   "outputs": [
    {
     "name": "stdout",
     "output_type": "stream",
     "text": [
      "title              0\n",
      "price              0\n",
      "city_name          0\n",
      "salon              0\n",
      "nb_rooms           0\n",
      "nb_baths           0\n",
      "surface_area       0\n",
      "Ascenseur          0\n",
      "Balcon             0\n",
      "Chauffage          0\n",
      "Climatisation      0\n",
      "Concierge          0\n",
      "Cuisine Équipée    0\n",
      "Duplex             0\n",
      "Meublé             0\n",
      "Parking            0\n",
      "Sécurité           0\n",
      "Terrasse           0\n",
      "dtype: int64\n"
     ]
    }
   ],
   "source": [
    "# ! verification \n",
    "print(df.isna().sum())\n"
   ]
  },
  {
   "cell_type": "code",
   "execution_count": null,
   "id": "6bd3b2be",
   "metadata": {},
   "outputs": [
    {
     "name": "stdout",
     "output_type": "stream",
     "text": [
      "Index(['title', 'price', 'city_name', 'salon', 'nb_rooms', 'nb_baths',\n",
      "       'surface_area', 'Ascenseur', 'Balcon', 'Chauffage', 'Climatisation',\n",
      "       'Concierge', 'Cuisine Équipée', 'Duplex', 'Meublé', 'Parking',\n",
      "       'Sécurité', 'Terrasse'],\n",
      "      dtype='object')\n"
     ]
    }
   ],
   "source": [
    "print(df.columns)"
   ]
  },
  {
   "cell_type": "code",
   "execution_count": null,
   "id": "89641ba8",
   "metadata": {},
   "outputs": [],
   "source": [
    "df['nb_appartements_ville'] = df.groupby('city_name')['city_name'].transform('count')"
   ]
  },
  {
   "cell_type": "code",
   "execution_count": null,
   "id": "728078a0",
   "metadata": {},
   "outputs": [],
   "source": [
    "df['prix_m2'] = df['price'] / df['surface_area']"
   ]
  },
  {
   "cell_type": "code",
   "execution_count": null,
   "id": "b9c643b1",
   "metadata": {},
   "outputs": [],
   "source": [
    "# df['prix_moyen_ville'] = df.groupby('city_name')['price'].transform('mean')"
   ]
  },
  {
   "cell_type": "markdown",
   "id": "1309dc36",
   "metadata": {},
   "source": [
    "IQA"
   ]
  },
  {
   "cell_type": "code",
   "execution_count": null,
   "id": "0de47501",
   "metadata": {},
   "outputs": [],
   "source": [
    "\n",
    "# ! Utiliser  IQR\n",
    "def remv_outs_IQR(df, column):\n",
    "    Q1 = df[column].quantile(0.25)\n",
    "    Q3 = df[column].quantile(0.75)\n",
    "    IQR = Q3 - Q1\n",
    "    lower_bound = Q1 - 1.5 * IQR\n",
    "    upper_bound = Q3 + 1.5 * IQR\n",
    "    \n",
    "    return df[(df[column] >= lower_bound) & (df[column] <= upper_bound)]\n",
    "\n",
    "# ! Supprimer les lignes price et surface_area\n",
    "df = remv_outs_IQR(df, 'price')\n",
    "df = remv_outs_IQR(df, 'surface_area')\n"
   ]
  },
  {
   "cell_type": "code",
   "execution_count": null,
   "id": "5fedf5a2",
   "metadata": {},
   "outputs": [
    {
     "name": "stdout",
     "output_type": "stream",
     "text": [
      "les lignes restantes : 1581\n"
     ]
    }
   ],
   "source": [
    "#! savoir les non-outliers\n",
    "print(\"les lignes restantes :\", len(df))\n"
   ]
  },
  {
   "cell_type": "markdown",
   "id": "8bd50153",
   "metadata": {},
   "source": [
    "Boîtes à moustaches"
   ]
  },
  {
   "cell_type": "code",
   "execution_count": null,
   "id": "5db6323e",
   "metadata": {},
   "outputs": [
    {
     "data": {
      "image/png": "[encoded data removed]",
      "text/plain": [
       "<Figure size 800x400 with 1 Axes>"
      ]
     },
     "metadata": {},
     "output_type": "display_data"
    },
    {
     "data": {
      "image/png": "[encoded data removed]",
      "text/plain": [
       "<Figure size 800x400 with 1 Axes>"
      ]
     },
     "metadata": {},
     "output_type": "display_data"
    }
   ],
   "source": [
    "\n",
    "# ! price\n",
    "plt.figure(figsize=(8, 4))\n",
    "sns.boxplot(x=df['price'])\n",
    "plt.title('Boxplot de la variable price')\n",
    "plt.show()\n",
    "\n",
    "\n",
    "#! surface_area\n",
    "plt.figure(figsize=(8, 4))\n",
    "sns.boxplot(x=df['surface_area'])\n",
    "plt.title('Boxplot de la variable surface_area')\n",
    "plt.show()\n"
   ]
  },
  {
   "cell_type": "markdown",
   "id": "d3ed9aba",
   "metadata": {},
   "source": [
    "Utiliser des méthodes statistiques \" z-score \" "
   ]
  },
  {
   "cell_type": "code",
   "execution_count": null,
   "id": "b4821e5a",
   "metadata": {},
   "outputs": [],
   "source": [
    "from scipy.stats import zscore\n",
    "\n",
    "# Calculer le z-score pour les colonnes numériques clés\n",
    "df_z = df[['price', 'surface_area']].copy()\n",
    "z_scores = zscore(df_z)\n",
    "\n",
    "# Garder les lignes où les z-scores sont < 3 (valeurs normales)\n",
    "mask = (abs(z_scores) < 3).all(axis=1)\n",
    "df = df[mask]\n"
   ]
  },
  {
   "cell_type": "code",
   "execution_count": null,
   "id": "c7efce8b",
   "metadata": {},
   "outputs": [
    {
     "name": "stdout",
     "output_type": "stream",
     "text": [
      "Nombre de lignes après suppression des outliers : 1580\n"
     ]
    }
   ],
   "source": [
    "print(\"Nombre de lignes après suppression des outliers :\", len(df))\n"
   ]
  },
  {
   "cell_type": "markdown",
   "id": "809160b7",
   "metadata": {},
   "source": [
    "Encodage des variables catégorielles:\n",
    "\n"
   ]
  },
  {
   "cell_type": "markdown",
   "id": "193b6367",
   "metadata": {},
   "source": [
    "Appliquer un Label Encoding selon le modèle utilisé, en particulier sur city_name.\n",
    "\n"
   ]
  },
  {
   "cell_type": "code",
   "execution_count": null,
   "id": "79a4c277",
   "metadata": {},
   "outputs": [
    {
     "name": "stdout",
     "output_type": "stream",
     "text": [
      "     city_name  city_name_encoded\n",
      "1   Casablanca                 13\n",
      "2  Dar Bouazza                 15\n",
      "3   Casablanca                 13\n",
      "6    Marrakech                 32\n",
      "7   Casablanca                 13\n"
     ]
    }
   ],
   "source": [
    "from sklearn.preprocessing import LabelEncoder \n",
    "\n",
    "\n",
    "label_encoder = LabelEncoder()\n",
    "\n",
    "df['city_name_encoded'] = label_encoder.fit_transform(df['city_name'])\n",
    "\n",
    "print(df[['city_name', 'city_name_encoded']].head())\n"
   ]
  },
  {
   "cell_type": "code",
   "execution_count": null,
   "id": "261d120f",
   "metadata": {},
   "outputs": [],
   "source": [
    "from sklearn.preprocessing import MinMaxScaler, StandardScaler\n",
    "\n",
    "numeric_cols = df.select_dtypes(include=['float64', 'int64']).columns\n"
   ]
  },
  {
   "cell_type": "markdown",
   "id": "020deb28",
   "metadata": {},
   "source": [
    "Normalisation avec MinMaxScaler"
   ]
  },
  {
   "cell_type": "code",
   "execution_count": null,
   "id": "6fd78977",
   "metadata": {},
   "outputs": [],
   "source": [
    "scaler = MinMaxScaler()\n",
    "df[numeric_cols] = scaler.fit_transform(df[numeric_cols])\n"
   ]
  },
  {
   "cell_type": "code",
   "execution_count": null,
   "id": "8c1e5a24",
   "metadata": {},
   "outputs": [
    {
     "name": "stdout",
     "output_type": "stream",
     "text": [
      "      price  salon  nb_rooms  nb_baths  surface_area  Ascenseur  Balcon  \\\n",
      "1  0.543175  0.125  0.333333  0.014925      0.541096        1.0     1.0   \n",
      "2  0.613630  0.125  0.333333  0.014925      0.424658        1.0     1.0   \n",
      "3  0.409082  0.125  0.000000  0.007463      0.253425        1.0     0.0   \n",
      "6  0.345444  0.125  0.666667  0.022388      0.541096        1.0     1.0   \n",
      "7  0.359081  0.125  0.666667  0.014925      0.369863        0.0     0.0   \n",
      "\n",
      "   Chauffage  Climatisation  Concierge  Cuisine Équipée  Duplex  Meublé  \\\n",
      "1        1.0            1.0        0.0              1.0     0.0     0.0   \n",
      "2        1.0            1.0        1.0              1.0     1.0     0.0   \n",
      "3        1.0            1.0        0.0              1.0     0.0     1.0   \n",
      "6        0.0            0.0        1.0              1.0     0.0     0.0   \n",
      "7        0.0            0.0        0.0              1.0     0.0     0.0   \n",
      "\n",
      "   Parking  Sécurité  Terrasse  nb_appartements_ville   prix_m2  \n",
      "1      1.0       0.0       0.0               1.000000  0.277122  \n",
      "2      1.0       1.0       1.0               0.023885  0.378778  \n",
      "3      1.0       1.0       1.0               1.000000  0.365249  \n",
      "6      1.0       1.0       0.0               0.251592  0.176239  \n",
      "7      0.0       0.0       0.0               1.000000  0.245941  \n"
     ]
    }
   ],
   "source": [
    "print(df[numeric_cols].head())\n"
   ]
  },
  {
   "cell_type": "markdown",
   "id": "16013708",
   "metadata": {},
   "source": [
    "une standardisation (StandardScaler)"
   ]
  },
  {
   "cell_type": "code",
   "execution_count": null,
   "id": "39516ccb",
   "metadata": {},
   "outputs": [
    {
     "name": "stdout",
     "output_type": "stream",
     "text": [
      "         price     salon  nb_rooms  nb_baths  surface_area  Ascenseur  \\\n",
      "1     0.686295 -0.418253 -0.442533 -0.034828      0.353823   0.992434   \n",
      "2     1.039310 -0.418253 -0.442533 -0.034828     -0.289840   0.992434   \n",
      "3     0.014427 -0.418253 -2.212665 -0.170366     -1.236402   0.992434   \n",
      "6    -0.304426 -0.418253  1.327599  0.100710      0.353823   0.992434   \n",
      "7    -0.236101 -0.418253  1.327599 -0.034828     -0.592740  -1.007624   \n",
      "...        ...       ...       ...       ...           ...        ...   \n",
      "1767 -0.441077 -0.418253 -0.442533 -0.170366     -0.706327   0.992434   \n",
      "1768 -0.031124 -0.418253 -0.442533 -0.034828     -1.009227   0.992434   \n",
      "1769 -0.031124  1.615098 -0.442533 -0.034828      0.808172   0.992434   \n",
      "1771 -0.441077 -0.418253 -0.442533 -0.034828     -0.176252  -1.007624   \n",
      "1772  0.697682 -0.418253 -0.442533 -0.034828     -0.176252   0.992434   \n",
      "\n",
      "        Balcon  Chauffage  Climatisation  Concierge  Cuisine Équipée  \\\n",
      "1     0.888456   2.263632       1.577295  -0.813271         0.993691   \n",
      "2     0.888456   2.263632       1.577295   1.229603         0.993691   \n",
      "3    -1.125548   2.263632       1.577295  -0.813271         0.993691   \n",
      "6     0.888456  -0.441768      -0.633997   1.229603         0.993691   \n",
      "7    -1.125548  -0.441768      -0.633997  -0.813271         0.993691   \n",
      "...        ...        ...            ...        ...              ...   \n",
      "1767  0.888456  -0.441768      -0.633997  -0.813271        -1.006349   \n",
      "1768  0.888456  -0.441768      -0.633997  -0.813271         0.993691   \n",
      "1769 -1.125548  -0.441768      -0.633997  -0.813271        -1.006349   \n",
      "1771 -1.125548  -0.441768      -0.633997  -0.813271         0.993691   \n",
      "1772  0.888456  -0.441768       1.577295   1.229603         0.993691   \n",
      "\n",
      "        Duplex    Meublé   Parking  Sécurité  Terrasse  nb_appartements_ville  \\\n",
      "1    -0.152696 -0.335673  0.968840 -1.007624 -0.804705               1.382101   \n",
      "2     6.548961 -0.335673  0.968840  0.992434  1.242692              -0.924016   \n",
      "3    -0.152696  2.979094  0.968840  0.992434  1.242692               1.382101   \n",
      "6    -0.152696 -0.335673  0.968840  0.992434 -0.804705              -0.386047   \n",
      "7    -0.152696 -0.335673 -1.032163 -1.007624 -0.804705               1.382101   \n",
      "...        ...       ...       ...       ...       ...                    ...   \n",
      "1767 -0.152696 -0.335673 -1.032163 -1.007624 -0.804705              -0.574148   \n",
      "1768 -0.152696 -0.335673  0.968840  0.992434 -0.804705              -0.638103   \n",
      "1769 -0.152696 -0.335673  0.968840 -1.007624 -0.804705              -0.638103   \n",
      "1771 -0.152696 -0.335673  0.968840  0.992434 -0.804705               1.382101   \n",
      "1772 -0.152696 -0.335673  0.968840  0.992434  1.242692              -0.656913   \n",
      "\n",
      "       prix_m2  \n",
      "1     0.398672  \n",
      "2     1.350425  \n",
      "3     1.223766  \n",
      "6    -0.545843  \n",
      "7     0.106736  \n",
      "...        ...  \n",
      "1767 -0.068157  \n",
      "1768  0.824176  \n",
      "1769 -0.493732  \n",
      "1771 -0.422803  \n",
      "1772  0.843788  \n",
      "\n",
      "[1580 rows x 18 columns]\n"
     ]
    }
   ],
   "source": [
    "scaler = StandardScaler()\n",
    "df[numeric_cols] = scaler.fit_transform(df[numeric_cols])\n",
    "print(df[numeric_cols])\n"
   ]
  },
  {
   "cell_type": "code",
   "execution_count": null,
   "id": "7b5fded0",
   "metadata": {},
   "outputs": [
    {
     "name": "stdout",
     "output_type": "stream",
     "text": [
      "              price         salon      nb_rooms      nb_baths  surface_area  \\\n",
      "count  1.580000e+03  1.580000e+03  1.580000e+03  1.580000e+03  1.580000e+03   \n",
      "mean  -1.124276e-16  9.443922e-17  2.338495e-16  5.171672e-17  1.349132e-16   \n",
      "std    1.000317e+00  1.000317e+00  1.000317e+00  1.000317e+00  1.000317e+00   \n",
      "min   -2.035261e+00 -2.451603e+00 -2.212665e+00 -3.059033e-01 -2.637314e+00   \n",
      "25%   -6.232789e-01 -4.182526e-01 -4.425329e-01 -1.703657e-01 -7.063272e-01   \n",
      "50%   -3.112385e-02 -4.182526e-01 -4.425329e-01 -3.482803e-02 -1.383898e-01   \n",
      "75%    4.699304e-01 -4.182526e-01  1.327599e+00 -3.482803e-02  6.567225e-01   \n",
      "max    2.975202e+00  1.381520e+01  3.097731e+00  1.785614e+01  2.890609e+00   \n",
      "\n",
      "          Ascenseur        Balcon     Chauffage  Climatisation     Concierge  \\\n",
      "count  1.580000e+03  1.580000e+03  1.580000e+03   1.580000e+03  1.580000e+03   \n",
      "mean  -4.497106e-18  5.396527e-17 -7.195369e-17   1.349132e-17  1.798842e-17   \n",
      "std    1.000317e+00  1.000317e+00  1.000317e+00   1.000317e+00  1.000317e+00   \n",
      "min   -1.007624e+00 -1.125548e+00 -4.417679e-01  -6.339969e-01 -8.132706e-01   \n",
      "25%   -1.007624e+00 -1.125548e+00 -4.417679e-01  -6.339969e-01 -8.132706e-01   \n",
      "50%    9.924337e-01  8.884562e-01 -4.417679e-01  -6.339969e-01 -8.132706e-01   \n",
      "75%    9.924337e-01  8.884562e-01 -4.417679e-01   1.577295e+00  1.229603e+00   \n",
      "max    9.924337e-01  8.884562e-01  2.263632e+00   1.577295e+00  1.229603e+00   \n",
      "\n",
      "       Cuisine Équipée        Duplex        Meublé       Parking  \\\n",
      "count     1.580000e+03  1.580000e+03  1.580000e+03  1.580000e+03   \n",
      "mean     -8.094791e-17  1.349132e-17 -2.192339e-17  8.994212e-18   \n",
      "std       1.000317e+00  1.000317e+00  1.000317e+00  1.000317e+00   \n",
      "min      -1.006349e+00 -1.526960e-01 -3.356725e-01 -1.032163e+00   \n",
      "25%      -1.006349e+00 -1.526960e-01 -3.356725e-01 -1.032163e+00   \n",
      "50%       9.936908e-01 -1.526960e-01 -3.356725e-01  9.688397e-01   \n",
      "75%       9.936908e-01 -1.526960e-01 -3.356725e-01  9.688397e-01   \n",
      "max       9.936908e-01  6.548961e+00  2.979094e+00  9.688397e-01   \n",
      "\n",
      "           Sécurité      Terrasse  nb_appartements_ville       prix_m2  \n",
      "count  1.580000e+03  1.580000e+03           1.580000e+03  1.580000e+03  \n",
      "mean  -6.295948e-17  8.994212e-18          -9.443922e-17 -2.360981e-16  \n",
      "std    1.000317e+00  1.000317e+00           1.000317e+00  1.000317e+00  \n",
      "min   -1.007624e+00 -8.047046e-01          -9.804464e-01 -2.195880e+00  \n",
      "25%   -1.007624e+00 -8.047046e-01          -7.885834e-01 -6.183506e-01  \n",
      "50%    9.924337e-01 -8.047046e-01          -6.155306e-01 -9.206617e-02  \n",
      "75%    9.924337e-01  1.242692e+00           1.382101e+00  4.790099e-01  \n",
      "max    9.924337e-01  1.242692e+00           1.382101e+00  7.166611e+00  \n"
     ]
    }
   ],
   "source": [
    "print(df[numeric_cols].describe())\n"
   ]
  },
  {
   "cell_type": "code",
   "execution_count": null,
   "id": "81b2acb7",
   "metadata": {},
   "outputs": [
    {
     "data": {
      "image/png": "[encoded data removed]",
      "text/plain": [
       "<Figure size 640x480 with 1 Axes>"
      ]
     },
     "metadata": {},
     "output_type": "display_data"
    }
   ],
   "source": [
    "import matplotlib.pyplot as plt\n",
    "\n",
    "df['price'].hist(bins=30)\n",
    "plt.title('Distribution de la variable \"price\" après mise à l’échelle')\n",
    "plt.show()\n"
   ]
  },
  {
   "cell_type": "code",
   "execution_count": null,
   "id": "11c48f57",
   "metadata": {},
   "outputs": [
    {
     "name": "stdout",
     "output_type": "stream",
     "text": [
      "price                    1.000000\n",
      "prix_m2                  0.726403\n",
      "surface_area             0.460179\n",
      "Ascenseur                0.311405\n",
      "nb_rooms                 0.244590\n",
      "Parking                  0.212627\n",
      "Concierge                0.194198\n",
      "Climatisation            0.190729\n",
      "Terrasse                 0.162093\n",
      "nb_appartements_ville    0.160814\n",
      "Chauffage                0.149044\n",
      "salon                    0.146202\n",
      "Sécurité                 0.134219\n",
      "Balcon                   0.116408\n",
      "Cuisine Équipée          0.107260\n",
      "Meublé                   0.039047\n",
      "Duplex                   0.031775\n",
      "nb_baths                 0.014667\n",
      "city_name_encoded       -0.046706\n",
      "Name: price, dtype: float64\n"
     ]
    }
   ],
   "source": [
    "correlation_matrix = df.corr(numeric_only=True)\n",
    "\n",
    "\n",
    "corr_with_price = correlation_matrix['price'].sort_values(ascending=False)\n",
    "print(corr_with_price)\n"
   ]
  },
  {
   "cell_type": "code",
   "execution_count": null,
   "id": "4bdc1ae6",
   "metadata": {},
   "outputs": [
    {
     "name": "stdout",
     "output_type": "stream",
     "text": [
      "Variables corrélées à 'price' : ['prix_m2', 'surface_area', 'Ascenseur', 'nb_rooms', 'Parking', 'Concierge', 'Climatisation', 'Terrasse', 'nb_appartements_ville']\n"
     ]
    }
   ],
   "source": [
    "selected_features = corr_with_price[corr_with_price > 0.15].index.tolist()\n",
    "\n",
    "selected_features.remove('price')\n",
    "print(\"Variables corrélées à 'price' :\", selected_features)\n"
   ]
  },
  {
   "cell_type": "markdown",
   "id": "bdd37a17",
   "metadata": {},
   "source": [
    "Choisir les variables numériques corrélées au prix (corr > 0.15).\n",
    "\n"
   ]
  },
  {
   "cell_type": "code",
   "execution_count": null,
   "id": "0e23c841",
   "metadata": {},
   "outputs": [
    {
     "data": {
      "text/html": [
       "<div>\n",
       "<style scoped>\n",
       "    .dataframe tbody tr th:only-of-type {\n",
       "        vertical-align: middle;\n",
       "    }\n",
       "\n",
       "    .dataframe tbody tr th {\n",
       "        vertical-align: top;\n",
       "    }\n",
       "\n",
       "    .dataframe thead th {\n",
       "        text-align: right;\n",
       "    }\n",
       "</style>\n",
       "<table border=\"1\" class=\"dataframe\">\n",
       "  <thead>\n",
       "    <tr style=\"text-align: right;\">\n",
       "      <th></th>\n",
       "      <th>prix_m2</th>\n",
       "      <th>surface_area</th>\n",
       "      <th>Ascenseur</th>\n",
       "      <th>nb_rooms</th>\n",
       "      <th>Parking</th>\n",
       "      <th>Concierge</th>\n",
       "      <th>Climatisation</th>\n",
       "      <th>Terrasse</th>\n",
       "      <th>nb_appartements_ville</th>\n",
       "    </tr>\n",
       "  </thead>\n",
       "  <tbody>\n",
       "    <tr>\n",
       "      <th>prix_m2</th>\n",
       "      <td>1.000000</td>\n",
       "      <td>-0.171461</td>\n",
       "      <td>0.222208</td>\n",
       "      <td>-0.136218</td>\n",
       "      <td>0.139262</td>\n",
       "      <td>0.120155</td>\n",
       "      <td>0.171892</td>\n",
       "      <td>0.036024</td>\n",
       "      <td>0.179096</td>\n",
       "    </tr>\n",
       "    <tr>\n",
       "      <th>surface_area</th>\n",
       "      <td>-0.171461</td>\n",
       "      <td>1.000000</td>\n",
       "      <td>0.170461</td>\n",
       "      <td>0.548824</td>\n",
       "      <td>0.137578</td>\n",
       "      <td>0.142505</td>\n",
       "      <td>0.091687</td>\n",
       "      <td>0.203769</td>\n",
       "      <td>-0.029754</td>\n",
       "    </tr>\n",
       "    <tr>\n",
       "      <th>Ascenseur</th>\n",
       "      <td>0.222208</td>\n",
       "      <td>0.170461</td>\n",
       "      <td>1.000000</td>\n",
       "      <td>0.051537</td>\n",
       "      <td>0.558283</td>\n",
       "      <td>0.520072</td>\n",
       "      <td>0.366077</td>\n",
       "      <td>0.324332</td>\n",
       "      <td>0.166495</td>\n",
       "    </tr>\n",
       "    <tr>\n",
       "      <th>nb_rooms</th>\n",
       "      <td>-0.136218</td>\n",
       "      <td>0.548824</td>\n",
       "      <td>0.051537</td>\n",
       "      <td>1.000000</td>\n",
       "      <td>0.054364</td>\n",
       "      <td>0.038336</td>\n",
       "      <td>-0.055122</td>\n",
       "      <td>0.047596</td>\n",
       "      <td>-0.033991</td>\n",
       "    </tr>\n",
       "    <tr>\n",
       "      <th>Parking</th>\n",
       "      <td>0.139262</td>\n",
       "      <td>0.137578</td>\n",
       "      <td>0.558283</td>\n",
       "      <td>0.054364</td>\n",
       "      <td>1.000000</td>\n",
       "      <td>0.560254</td>\n",
       "      <td>0.356595</td>\n",
       "      <td>0.338830</td>\n",
       "      <td>0.108296</td>\n",
       "    </tr>\n",
       "    <tr>\n",
       "      <th>Concierge</th>\n",
       "      <td>0.120155</td>\n",
       "      <td>0.142505</td>\n",
       "      <td>0.520072</td>\n",
       "      <td>0.038336</td>\n",
       "      <td>0.560254</td>\n",
       "      <td>1.000000</td>\n",
       "      <td>0.422176</td>\n",
       "      <td>0.287960</td>\n",
       "      <td>0.062829</td>\n",
       "    </tr>\n",
       "    <tr>\n",
       "      <th>Climatisation</th>\n",
       "      <td>0.171892</td>\n",
       "      <td>0.091687</td>\n",
       "      <td>0.366077</td>\n",
       "      <td>-0.055122</td>\n",
       "      <td>0.356595</td>\n",
       "      <td>0.422176</td>\n",
       "      <td>1.000000</td>\n",
       "      <td>0.243430</td>\n",
       "      <td>-0.004189</td>\n",
       "    </tr>\n",
       "    <tr>\n",
       "      <th>Terrasse</th>\n",
       "      <td>0.036024</td>\n",
       "      <td>0.203769</td>\n",
       "      <td>0.324332</td>\n",
       "      <td>0.047596</td>\n",
       "      <td>0.338830</td>\n",
       "      <td>0.287960</td>\n",
       "      <td>0.243430</td>\n",
       "      <td>1.000000</td>\n",
       "      <td>0.031978</td>\n",
       "    </tr>\n",
       "    <tr>\n",
       "      <th>nb_appartements_ville</th>\n",
       "      <td>0.179096</td>\n",
       "      <td>-0.029754</td>\n",
       "      <td>0.166495</td>\n",
       "      <td>-0.033991</td>\n",
       "      <td>0.108296</td>\n",
       "      <td>0.062829</td>\n",
       "      <td>-0.004189</td>\n",
       "      <td>0.031978</td>\n",
       "      <td>1.000000</td>\n",
       "    </tr>\n",
       "  </tbody>\n",
       "</table>\n",
       "</div>"
      ],
      "text/plain": [
       "                        prix_m2  surface_area  Ascenseur  nb_rooms   Parking  \\\n",
       "prix_m2                1.000000     -0.171461   0.222208 -0.136218  0.139262   \n",
       "surface_area          -0.171461      1.000000   0.170461  0.548824  0.137578   \n",
       "Ascenseur              0.222208      0.170461   1.000000  0.051537  0.558283   \n",
       "nb_rooms              -0.136218      0.548824   0.051537  1.000000  0.054364   \n",
       "Parking                0.139262      0.137578   0.558283  0.054364  1.000000   \n",
       "Concierge              0.120155      0.142505   0.520072  0.038336  0.560254   \n",
       "Climatisation          0.171892      0.091687   0.366077 -0.055122  0.356595   \n",
       "Terrasse               0.036024      0.203769   0.324332  0.047596  0.338830   \n",
       "nb_appartements_ville  0.179096     -0.029754   0.166495 -0.033991  0.108296   \n",
       "\n",
       "                       Concierge  Climatisation  Terrasse  \\\n",
       "prix_m2                 0.120155       0.171892  0.036024   \n",
       "surface_area            0.142505       0.091687  0.203769   \n",
       "Ascenseur               0.520072       0.366077  0.324332   \n",
       "nb_rooms                0.038336      -0.055122  0.047596   \n",
       "Parking                 0.560254       0.356595  0.338830   \n",
       "Concierge               1.000000       0.422176  0.287960   \n",
       "Climatisation           0.422176       1.000000  0.243430   \n",
       "Terrasse                0.287960       0.243430  1.000000   \n",
       "nb_appartements_ville   0.062829      -0.004189  0.031978   \n",
       "\n",
       "                       nb_appartements_ville  \n",
       "prix_m2                             0.179096  \n",
       "surface_area                       -0.029754  \n",
       "Ascenseur                           0.166495  \n",
       "nb_rooms                           -0.033991  \n",
       "Parking                             0.108296  \n",
       "Concierge                           0.062829  \n",
       "Climatisation                      -0.004189  \n",
       "Terrasse                            0.031978  \n",
       "nb_appartements_ville               1.000000  "
      ]
     },
     "execution_count": 411,
     "metadata": {},
     "output_type": "execute_result"
    }
   ],
   "source": [
    "df[selected_features].corr()\n"
   ]
  },
  {
   "cell_type": "code",
   "execution_count": null,
   "id": "dc159fd9",
   "metadata": {},
   "outputs": [
    {
     "data": {
      "image/png": "[encoded data removed]",
      "text/plain": [
       "<Figure size 800x600 with 2 Axes>"
      ]
     },
     "metadata": {},
     "output_type": "display_data"
    }
   ],
   "source": [
    "plt.figure(figsize=(8, 6))\n",
    "sns.heatmap(df[selected_features].corr(), annot=True, cmap='coolwarm')\n",
    "plt.title('Corrélation entre les variables sélectionnées')\n",
    "plt.show()"
   ]
  },
  {
   "cell_type": "markdown",
   "id": "8f7328db",
   "metadata": {},
   "source": [
    "Définir la variable cible y = df[\"price\"].\n",
    "\n",
    "Définir les variables explicatives X à partir des colonnes sélectionnées. Diviser les données en ensemble d’entraînement et de test (80% / 20%) avec train_test_split."
   ]
  },
  {
   "cell_type": "code",
   "execution_count": null,
   "id": "d79bc8cb",
   "metadata": {},
   "outputs": [],
   "source": [
    "y = df['price']"
   ]
  },
  {
   "cell_type": "code",
   "execution_count": null,
   "id": "763e5772",
   "metadata": {},
   "outputs": [],
   "source": [
    "X = df[selected_features]\n"
   ]
  },
  {
   "cell_type": "code",
   "execution_count": null,
   "id": "2e3016c9",
   "metadata": {},
   "outputs": [],
   "source": [
    "from sklearn.model_selection import train_test_split\n",
    "\n",
    "X_train, X_test, y_train, y_test = train_test_split(\n",
    "    X, y,\n",
    "    test_size=0.2,\n",
    "    random_state=42\n",
    ")\n"
   ]
  },
  {
   "cell_type": "code",
   "execution_count": null,
   "id": "3850faeb",
   "metadata": {},
   "outputs": [
    {
     "name": "stdout",
     "output_type": "stream",
     "text": [
      "Taille du X_train : (1264, 9)\n",
      "Taille du X_test  : (316, 9)\n",
      "Taille du y_train : (1264,)\n",
      "Taille du y_test  : (316,)\n"
     ]
    }
   ],
   "source": [
    "print(\"Taille du X_train :\", X_train.shape)\n",
    "print(\"Taille du X_test  :\", X_test.shape)\n",
    "print(\"Taille du y_train :\", y_train.shape)\n",
    "print(\"Taille du y_test  :\", y_test.shape)\n"
   ]
  },
  {
   "cell_type": "markdown",
   "id": "9ab7a535",
   "metadata": {},
   "source": [
    "## **Entraînement des modèles de régression**"
   ]
  },
  {
   "cell_type": "markdown",
   "id": "d1ed48ec",
   "metadata": {},
   "source": [
    "Entraîner plusieurs modèles :\n",
    "\n",
    "    Régression Linéaire\n",
    "\n",
    "    Random Forest Regressor\n",
    "\n",
    "    SVR (Support Vector Regressor)\n",
    "\n",
    "    Gradient Boosting Regressor"
   ]
  },
  {
   "cell_type": "code",
   "execution_count": null,
   "id": "31b229c8",
   "metadata": {},
   "outputs": [],
   "source": [
    "from sklearn.linear_model import LinearRegression\n",
    "from sklearn.ensemble import RandomForestRegressor, GradientBoostingRegressor\n",
    "from sklearn.svm import SVR\n",
    "\n",
    "models = {\n",
    "    'LinearRegression': LinearRegression(),\n",
    "    'RandomForest': RandomForestRegressor(random_state=42),\n",
    "    'SVR': SVR(),\n",
    "    'GradientBoosting': GradientBoostingRegressor(random_state=42)\n",
    "}\n",
    "\n",
    "param_grids = {\n",
    "    'LinearRegression': {},\n",
    "    'RandomForest': {\n",
    "        'n_estimators': [50, 100, 200],\n",
    "        'max_depth': [None, 10, 20]\n",
    "    },\n",
    "    'SVR': {\n",
    "        'C': [0.1, 1, 10],\n",
    "        'kernel': ['rbf', 'linear']\n",
    "    },\n",
    "    'GradientBoosting': {\n",
    "        'n_estimators': [50, 100, 200],\n",
    "        'learning_rate': [0.01, 0.1, 0.2]\n",
    "    }\n",
    "}"
   ]
  },
  {
   "cell_type": "markdown",
   "id": "2ffc7382",
   "metadata": {},
   "source": [
    "Évaluer les modèles à l’aide de métriques adaptées à la régression :\n",
    "\n",
    "MSE (Mean Squared Error) / RMSE (Root Mean Squared Error) / MAE (Mean Absolute Error) / R² Score\n",
    "\n",
    "Validation croisée:\n",
    "\n",
    "Utiliser la validation croisée (cross-validation) pour évaluer la robustesse des modèles sur différentes portions du jeu de données.\n",
    "\n",
    "Optimisation des hyperparamètres:\n",
    "\n",
    "Utiliser GridSearchCV ou RandomizedSearchCV pour rechercher les meilleurs hyperparamètres pour chaque modèle."
   ]
  },
  {
   "cell_type": "code",
   "execution_count": null,
   "id": "6254bed4",
   "metadata": {},
   "outputs": [
    {
     "name": "stdout",
     "output_type": "stream",
     "text": [
      "Optimisation et entraînement pour LinearRegression...\n",
      "Optimisation et entraînement pour RandomForest...\n"
     ]
    },
    {
     "name": "stdout",
     "output_type": "stream",
     "text": [
      "Optimisation et entraînement pour SVR...\n",
      "Optimisation et entraînement pour GradientBoosting...\n",
      "\n",
      "LinearRegression:\n",
      "  R2 (CV): 0.889 ± 0.021\n",
      "  R2 (Test): 0.848\n",
      "  RMSE: 0.408\n",
      "  MAE: 0.213\n",
      "\n",
      "RandomForest:\n",
      "  R2 (CV): 0.992 ± 0.002\n",
      "  R2 (Test): 0.996\n",
      "  RMSE: 0.070\n",
      "  MAE: 0.036\n",
      "\n",
      "SVR:\n",
      "  R2 (CV): 0.984 ± 0.005\n",
      "  R2 (Test): 0.985\n",
      "  RMSE: 0.129\n",
      "  MAE: 0.074\n",
      "\n",
      "GradientBoosting:\n",
      "  R2 (CV): 0.994 ± 0.001\n",
      "  R2 (Test): 0.996\n",
      "  RMSE: 0.065\n",
      "  MAE: 0.044\n"
     ]
    }
   ],
   "source": [
    "from sklearn.model_selection import GridSearchCV, cross_val_score\n",
    "from sklearn.metrics import mean_squared_error, mean_absolute_error, r2_score\n",
    "import numpy as np\n",
    "\n",
    "results = {}\n",
    "best_models = {}\n",
    "\n",
    "for name, model in models.items():\n",
    "    print(f\"Optimisation et entraînement pour {name}...\")\n",
    "    if param_grids[name]:\n",
    "        search = GridSearchCV(model, param_grids[name], cv=5, scoring='neg_mean_squared_error', n_jobs=-1)\n",
    "        search.fit(X_train, y_train)\n",
    "        best_model = search.best_estimator_\n",
    "    else:\n",
    "        best_model = model\n",
    "        best_model.fit(X_train, y_train)\n",
    "    \n",
    "    # !  Validation croisée\n",
    "    cv_scores = cross_val_score(best_model, X_train, y_train, cv=5, scoring='r2')\n",
    "    \n",
    "    # !  Prédictions\n",
    "    y_pred = best_model.predict(X_test)\n",
    "    \n",
    "    # !  Évaluation\n",
    "    mse = mean_squared_error(y_test, y_pred)\n",
    "    rmse = np.sqrt(mse)\n",
    "    mae = mean_absolute_error(y_test, y_pred)\n",
    "    r2 = r2_score(y_test, y_pred)\n",
    "    \n",
    "    results[name] = {\n",
    "        'model': best_model,\n",
    "        'cv_r2_mean': np.mean(cv_scores),\n",
    "        'cv_r2_std': np.std(cv_scores),\n",
    "        'MSE': mse,\n",
    "        'RMSE': rmse,\n",
    "        'MAE': mae,\n",
    "        'R2': r2\n",
    "    }\n",
    "    best_models[name] = best_model\n",
    "\n",
    "# ! Affichage des résultats\n",
    "for name, res in results.items():\n",
    "    print(f\"\\n{name}:\")\n",
    "    print(f\"  R2 (CV): {res['cv_r2_mean']:.3f} ± {res['cv_r2_std']:.3f}\")\n",
    "    print(f\"  R2 (Test): {res['R2']:.3f}\")\n",
    "    print(f\"  RMSE: {res['RMSE']:.3f}\")\n",
    "    print(f\"  MAE: {res['MAE']:.3f}\")"
   ]
  },
  {
   "cell_type": "markdown",
   "id": "4bdfbe36",
   "metadata": {},
   "source": [
    "Comparer les performances des modèles et sélectionner celui avec les meilleurs scores (ex: R² élevé, RMSE faible).\n",
    "\n",
    "Sauvegarder le modèle entraîné (model.pkl)"
   ]
  },
  {
   "cell_type": "code",
   "execution_count": null,
   "id": "723da295",
   "metadata": {},
   "outputs": [
    {
     "name": "stdout",
     "output_type": "stream",
     "text": [
      "\n",
      "Meilleur modèle : GradientBoosting\n",
      "Modèle sauvegardé sous 'model.pkl'\n"
     ]
    }
   ],
   "source": [
    "import joblib\n",
    "\n",
    "#! Sélection du meilleur modèle\n",
    "best_model_name = max(results, key=lambda name: results[name]['R2'])\n",
    "print(f\"\\nMeilleur modèle : {best_model_name}\")\n",
    "\n",
    "# !  Sauvegarde du modèle et du scaler\n",
    "joblib.dump({\n",
    "    'model': results[best_model_name]['model'],\n",
    "    'scaler': scaler\n",
    "}, 'model.pkl')\n",
    "print(\"Modèle sauvegardé sous 'model.pkl'\")"
   ]
  }
 ],
 "metadata": {
  "kernelspec": {
   "display_name": "base",
   "language": "python",
   "name": "python3"
  },
  "language_info": {
   "codemirror_mode": {
    "name": "ipython",
    "version": 3
   },
   "file_extension": ".py",
   "mimetype": "text/x-python",
   "name": "python",
   "nbconvert_exporter": "python",
   "pygments_lexer": "ipython3",
   "version": "3.12.7"
  }
 },
 "nbformat": 4,
 "nbformat_minor": 5
}
