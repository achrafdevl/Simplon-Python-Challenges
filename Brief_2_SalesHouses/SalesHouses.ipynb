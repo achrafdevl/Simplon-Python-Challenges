{
 "cells": [
  {
   "cell_type": "markdown",
   "id": "d844cc4d",
   "metadata": {},
   "source": [
    "install packages"
   ]
  },
  {
   "cell_type": "code",
   "execution_count": 2,
   "id": "bf490cc2",
   "metadata": {},
   "outputs": [
    {
     "name": "stdout",
     "output_type": "stream",
     "text": [
      "Requirement already satisfied: pandas in c:\\users\\lenovo\\anaconda3\\lib\\site-packages (2.2.2)\n",
      "Requirement already satisfied: numpy in c:\\users\\lenovo\\anaconda3\\lib\\site-packages (1.26.4)\n",
      "Requirement already satisfied: matplotlib in c:\\users\\lenovo\\anaconda3\\lib\\site-packages (3.9.2)\n",
      "Requirement already satisfied: seaborn in c:\\users\\lenovo\\anaconda3\\lib\\site-packages (0.13.2)\n",
      "Requirement already satisfied: scikit-learn in c:\\users\\lenovo\\anaconda3\\lib\\site-packages (1.5.1)\n",
      "Requirement already satisfied: joblib in c:\\users\\lenovo\\anaconda3\\lib\\site-packages (1.4.2)\n",
      "Requirement already satisfied: python-dateutil>=2.8.2 in c:\\users\\lenovo\\anaconda3\\lib\\site-packages (from pandas) (2.9.0.post0)\n",
      "Requirement already satisfied: pytz>=2020.1 in c:\\users\\lenovo\\anaconda3\\lib\\site-packages (from pandas) (2024.1)\n",
      "Requirement already satisfied: tzdata>=2022.7 in c:\\users\\lenovo\\anaconda3\\lib\\site-packages (from pandas) (2023.3)\n",
      "Requirement already satisfied: contourpy>=1.0.1 in c:\\users\\lenovo\\anaconda3\\lib\\site-packages (from matplotlib) (1.2.0)\n",
      "Requirement already satisfied: cycler>=0.10 in c:\\users\\lenovo\\anaconda3\\lib\\site-packages (from matplotlib) (0.11.0)\n",
      "Requirement already satisfied: fonttools>=4.22.0 in c:\\users\\lenovo\\anaconda3\\lib\\site-packages (from matplotlib) (4.51.0)\n",
      "Requirement already satisfied: kiwisolver>=1.3.1 in c:\\users\\lenovo\\anaconda3\\lib\\site-packages (from matplotlib) (1.4.4)\n",
      "Requirement already satisfied: packaging>=20.0 in c:\\users\\lenovo\\anaconda3\\lib\\site-packages (from matplotlib) (24.1)\n",
      "Requirement already satisfied: pillow>=8 in c:\\users\\lenovo\\anaconda3\\lib\\site-packages (from matplotlib) (10.4.0)\n",
      "Requirement already satisfied: pyparsing>=2.3.1 in c:\\users\\lenovo\\anaconda3\\lib\\site-packages (from matplotlib) (3.1.2)\n",
      "Requirement already satisfied: scipy>=1.6.0 in c:\\users\\lenovo\\anaconda3\\lib\\site-packages (from scikit-learn) (1.13.1)\n",
      "Requirement already satisfied: threadpoolctl>=3.1.0 in c:\\users\\lenovo\\anaconda3\\lib\\site-packages (from scikit-learn) (3.5.0)\n",
      "Requirement already satisfied: six>=1.5 in c:\\users\\lenovo\\anaconda3\\lib\\site-packages (from python-dateutil>=2.8.2->pandas) (1.16.0)\n",
      "Note: you may need to restart the kernel to use updated packages.\n"
     ]
    }
   ],
   "source": [
    "%pip install pandas numpy matplotlib seaborn scikit-learn joblib "
   ]
  },
  {
   "cell_type": "markdown",
   "id": "000a58dc",
   "metadata": {},
   "source": [
    "🔹 1. Chargement des données"
   ]
  },
  {
   "cell_type": "code",
   "execution_count": 3,
   "id": "ec39f361",
   "metadata": {},
   "outputs": [],
   "source": [
    "import pandas as pd\n",
    "import seaborn as sns\n",
    "import matplotlib.pyplot as plt\n",
    "import numpy as np\n",
    "\n"
   ]
  },
  {
   "cell_type": "markdown",
   "id": "932710f2",
   "metadata": {},
   "source": [
    "1.Importer le fichier CSV à l’aide de Pandas avec pandas.read_csv().  \n"
   ]
  },
  {
   "cell_type": "code",
   "execution_count": 4,
   "id": "883da5a7",
   "metadata": {},
   "outputs": [],
   "source": [
    "\n",
    "\n",
    "df = pd.read_csv('appartements-data-db-6872f0ba853ec096170787.csv')"
   ]
  },
  {
   "cell_type": "markdown",
   "id": "c6678de0",
   "metadata": {},
   "source": [
    "Utiliser df.info() pour voir le type de chaque colonne."
   ]
  },
  {
   "cell_type": "code",
   "execution_count": 5,
   "id": "a5252803",
   "metadata": {},
   "outputs": [
    {
     "name": "stdout",
     "output_type": "stream",
     "text": [
      "<class 'pandas.core.frame.DataFrame'>\n",
      "RangeIndex: 1773 entries, 0 to 1772\n",
      "Data columns (total 9 columns):\n",
      " #   Column        Non-Null Count  Dtype  \n",
      "---  ------        --------------  -----  \n",
      " 0   title         1772 non-null   object \n",
      " 1   price         1490 non-null   object \n",
      " 2   city_name     1772 non-null   object \n",
      " 3   salon         1620 non-null   float64\n",
      " 4   nb_rooms      1490 non-null   float64\n",
      " 5   nb_baths      1480 non-null   float64\n",
      " 6   surface_area  1742 non-null   float64\n",
      " 7   equipment     1402 non-null   object \n",
      " 8   link          1773 non-null   object \n",
      "dtypes: float64(4), object(5)\n",
      "memory usage: 124.8+ KB\n",
      "None\n"
     ]
    }
   ],
   "source": [
    "print(df.info())"
   ]
  },
  {
   "cell_type": "markdown",
   "id": "94fb33ce",
   "metadata": {},
   "source": [
    "Utiliser df.head() pour voir les premières lignes."
   ]
  },
  {
   "cell_type": "code",
   "execution_count": 6,
   "id": "d0580ce5",
   "metadata": {},
   "outputs": [
    {
     "name": "stdout",
     "output_type": "stream",
     "text": [
      "                                               title         price  \\\n",
      "0       CMN-MA-1752 - Appartement à vendre à Palmier  2 000 000 DH   \n",
      "1  66370-Vente Appt à Casablanca Hay Hassani de 1...  1 195 000 DH   \n",
      "2           Appartement à vendre 81 m² à Dar Bouazza  1 350 000 DH   \n",
      "3  63860-Vente Appt à Casablanca Quartier Bd Med ...    900 000 DH   \n",
      "4                          Appartement à Rabat Agdal  3 100 000 DH   \n",
      "\n",
      "     city_name  salon  nb_rooms  nb_baths  surface_area  \\\n",
      "0   Casablanca    NaN       2.0       2.0         168.0   \n",
      "1   Casablanca    NaN       2.0       2.0          98.0   \n",
      "2  Dar Bouazza    1.0       2.0       2.0          81.0   \n",
      "3   Casablanca    NaN       1.0       1.0          56.0   \n",
      "4        Rabat    2.0       3.0       2.0         200.0   \n",
      "\n",
      "                                           equipment  \\\n",
      "0                  Ascenseur/Balcon/Parking/Terrasse   \n",
      "1  Ascenseur/Balcon/Chauffage/Climatisation/Cuisi...   \n",
      "2  Ascenseur/Balcon/Chauffage/Climatisation/Conci...   \n",
      "3  Ascenseur/Chauffage/Climatisation/Cuisine Équi...   \n",
      "4        Ascenseur/Balcon/Concierge/Parking/Sécurité   \n",
      "\n",
      "                                                link  \n",
      "0  https://www.avito.ma/fr/palmier/appartements/C...  \n",
      "1  https://www.avito.ma/fr/hay_hassani/appartemen...  \n",
      "2  https://www.avito.ma/fr/dar_bouazza/appartemen...  \n",
      "3  https://www.avito.ma/fr/centre_ville/apparteme...  \n",
      "4  https://www.avito.ma/fr/agdal/appartements/App...  \n"
     ]
    }
   ],
   "source": [
    "print(df.head())"
   ]
  },
  {
   "cell_type": "markdown",
   "id": "0bb0b021",
   "metadata": {},
   "source": [
    "🔹 2. Analyse Exploratoire des Données (EDA)"
   ]
  },
  {
   "cell_type": "markdown",
   "id": "e1166e62",
   "metadata": {},
   "source": [
    "Afficher les dimensions et types des données : df.shape, df.dtypes.\n"
   ]
  },
  {
   "cell_type": "code",
   "execution_count": 7,
   "id": "520e46be",
   "metadata": {},
   "outputs": [
    {
     "data": {
      "text/plain": [
       "(1773, 9)"
      ]
     },
     "execution_count": 7,
     "metadata": {},
     "output_type": "execute_result"
    }
   ],
   "source": [
    "df.shape"
   ]
  },
  {
   "cell_type": "code",
   "execution_count": 8,
   "id": "b8d041b0",
   "metadata": {},
   "outputs": [
    {
     "data": {
      "text/plain": [
       "title            object\n",
       "price            object\n",
       "city_name        object\n",
       "salon           float64\n",
       "nb_rooms        float64\n",
       "nb_baths        float64\n",
       "surface_area    float64\n",
       "equipment        object\n",
       "link             object\n",
       "dtype: object"
      ]
     },
     "execution_count": 8,
     "metadata": {},
     "output_type": "execute_result"
    }
   ],
   "source": [
    "df.dtypes"
   ]
  },
  {
   "cell_type": "markdown",
   "id": "a3bf08a6",
   "metadata": {},
   "source": [
    "Rechercher les valeurs manquantes avec df.isnull().sum()."
   ]
  },
  {
   "cell_type": "code",
   "execution_count": 9,
   "id": "4734df53",
   "metadata": {},
   "outputs": [
    {
     "name": "stdout",
     "output_type": "stream",
     "text": [
      "title             1\n",
      "price           283\n",
      "city_name         1\n",
      "salon           153\n",
      "nb_rooms        283\n",
      "nb_baths        293\n",
      "surface_area     31\n",
      "equipment       371\n",
      "link              0\n",
      "dtype: int64\n",
      "      title  price  city_name  salon  nb_rooms  nb_baths  surface_area  \\\n",
      "0     False  False      False   True     False     False         False   \n",
      "1     False  False      False   True     False     False         False   \n",
      "2     False  False      False  False     False     False         False   \n",
      "3     False  False      False   True     False     False         False   \n",
      "4     False  False      False  False     False     False         False   \n",
      "...     ...    ...        ...    ...       ...       ...           ...   \n",
      "1768  False   True      False  False      True      True         False   \n",
      "1769  False   True      False  False      True      True         False   \n",
      "1770  False   True      False  False      True      True         False   \n",
      "1771  False  False      False  False     False     False         False   \n",
      "1772  False  False      False  False     False     False         False   \n",
      "\n",
      "      equipment   link  \n",
      "0         False  False  \n",
      "1         False  False  \n",
      "2         False  False  \n",
      "3         False  False  \n",
      "4         False  False  \n",
      "...         ...    ...  \n",
      "1768      False  False  \n",
      "1769      False  False  \n",
      "1770      False  False  \n",
      "1771      False  False  \n",
      "1772      False  False  \n",
      "\n",
      "[1773 rows x 9 columns]\n"
     ]
    }
   ],
   "source": [
    "data_nul = df.isna()\n",
    "print(df.isna().sum())\n",
    "print(data_nul)"
   ]
  },
  {
   "cell_type": "markdown",
   "id": "220ba8d3",
   "metadata": {},
   "source": [
    "Détecter les doublons"
   ]
  },
  {
   "cell_type": "code",
   "execution_count": 10,
   "id": "b6869ddd",
   "metadata": {},
   "outputs": [
    {
     "name": "stdout",
     "output_type": "stream",
     "text": [
      "41\n"
     ]
    }
   ],
   "source": [
    "print(df.duplicated().sum())"
   ]
  },
  {
   "cell_type": "markdown",
   "id": "8da9751c",
   "metadata": {},
   "source": [
    "Analyser la distribution des colonnes numériques"
   ]
  },
  {
   "cell_type": "code",
   "execution_count": 11,
   "id": "849071d3",
   "metadata": {},
   "outputs": [
    {
     "data": {
      "text/plain": [
       "array([[<Axes: title={'center': 'salon'}>,\n",
       "        <Axes: title={'center': 'nb_rooms'}>],\n",
       "       [<Axes: title={'center': 'nb_baths'}>,\n",
       "        <Axes: title={'center': 'surface_area'}>]], dtype=object)"
      ]
     },
     "execution_count": 11,
     "metadata": {},
     "output_type": "execute_result"
    },
    {
     "data": {
      "image/png": "[encoded data removed]",
      "text/plain": [
       "<Figure size 640x480 with 4 Axes>"
      ]
     },
     "metadata": {},
     "output_type": "display_data"
    }
   ],
   "source": [
    "df.hist()"
   ]
  },
  {
   "cell_type": "markdown",
   "id": "694555d6",
   "metadata": {},
   "source": [
    "Étudier les corrélations"
   ]
  },
  {
   "cell_type": "code",
   "execution_count": 12,
   "id": "e103719b",
   "metadata": {},
   "outputs": [
    {
     "data": {
      "text/plain": [
       "<bound method DataFrame.corr of                                                   title         price  \\\n",
       "0          CMN-MA-1752 - Appartement à vendre à Palmier  2 000 000 DH   \n",
       "1     66370-Vente Appt à Casablanca Hay Hassani de 1...  1 195 000 DH   \n",
       "2              Appartement à vendre 81 m² à Dar Bouazza  1 350 000 DH   \n",
       "3     63860-Vente Appt à Casablanca Quartier Bd Med ...    900 000 DH   \n",
       "4                             Appartement à Rabat Agdal  3 100 000 DH   \n",
       "...                                                 ...           ...   \n",
       "1768                Appartement à vendre 62 m² à Agadir           NaN   \n",
       "1769                        Appartement 110 m² à Agadir           NaN   \n",
       "1770             Appartement à vendre 12000 m² à Temara           NaN   \n",
       "1771                      appartement de 84 m² à vendre    700 000 DH   \n",
       "1772                 Appartement Neuf à vendre à Temara  1 200 000 DH   \n",
       "\n",
       "        city_name  salon  nb_rooms  nb_baths  surface_area  \\\n",
       "0      Casablanca    NaN       2.0       2.0         168.0   \n",
       "1      Casablanca    NaN       2.0       2.0          98.0   \n",
       "2     Dar Bouazza    1.0       2.0       2.0          81.0   \n",
       "3      Casablanca    NaN       1.0       1.0          56.0   \n",
       "4           Rabat    2.0       3.0       2.0         200.0   \n",
       "...           ...    ...       ...       ...           ...   \n",
       "1768       Agadir    1.0       NaN       NaN          62.0   \n",
       "1769       Agadir    2.0       NaN       NaN         110.0   \n",
       "1770       Temara    2.0       NaN       NaN       12000.0   \n",
       "1771   Casablanca    1.0       2.0       2.0          84.0   \n",
       "1772       Temara    1.0       2.0       2.0          84.0   \n",
       "\n",
       "                                              equipment  \\\n",
       "0                     Ascenseur/Balcon/Parking/Terrasse   \n",
       "1     Ascenseur/Balcon/Chauffage/Climatisation/Cuisi...   \n",
       "2     Ascenseur/Balcon/Chauffage/Climatisation/Conci...   \n",
       "3     Ascenseur/Chauffage/Climatisation/Cuisine Équi...   \n",
       "4           Ascenseur/Balcon/Concierge/Parking/Sécurité   \n",
       "...                                                 ...   \n",
       "1768  Ascenseur/Balcon/Cuisine Équipée/Parking/Sécurité   \n",
       "1769                                  Ascenseur/Parking   \n",
       "1770                  Ascenseur/Balcon/Parking/Sécurité   \n",
       "1771                   Cuisine Équipée/Parking/Sécurité   \n",
       "1772  Ascenseur/Balcon/Climatisation/Concierge/Cuisi...   \n",
       "\n",
       "                                                   link  \n",
       "0     https://www.avito.ma/fr/palmier/appartements/C...  \n",
       "1     https://www.avito.ma/fr/hay_hassani/appartemen...  \n",
       "2     https://www.avito.ma/fr/dar_bouazza/appartemen...  \n",
       "3     https://www.avito.ma/fr/centre_ville/apparteme...  \n",
       "4     https://www.avito.ma/fr/agdal/appartements/App...  \n",
       "...                                                 ...  \n",
       "1768  https://www.avito.ma/fr/cit%C3%A9_adrar/appart...  \n",
       "1769  https://www.avito.ma/fr/av_des_far/appartement...  \n",
       "1770  https://www.avito.ma/fr/massira_2/appartements...  \n",
       "1771               https://www.avito.ma/vi/55818389.htm  \n",
       "1772               https://www.avito.ma/vi/55832294.htm  \n",
       "\n",
       "[1773 rows x 9 columns]>"
      ]
     },
     "execution_count": 12,
     "metadata": {},
     "output_type": "execute_result"
    }
   ],
   "source": [
    "df.corr"
   ]
  },
  {
   "cell_type": "markdown",
   "id": "aba30574",
   "metadata": {},
   "source": [
    "3. Prétraitement des données"
   ]
  },
  {
   "cell_type": "code",
   "execution_count": 13,
   "id": "768c0a46",
   "metadata": {},
   "outputs": [
    {
     "data": {
      "image/png": "[encoded data removed]",
      "text/plain": [
       "<Figure size 640x480 with 2 Axes>"
      ]
     },
     "metadata": {},
     "output_type": "display_data"
    }
   ],
   "source": [
    "numeric_df = df.select_dtypes(include='number')\n",
    "\n",
    "sns.heatmap(numeric_df)\n",
    "\n",
    "plt.show()"
   ]
  },
  {
   "cell_type": "markdown",
   "id": "190f6fb7",
   "metadata": {},
   "source": [
    "✅ Nettoyage & Transformation"
   ]
  },
  {
   "cell_type": "markdown",
   "id": "6d664ea4",
   "metadata": {},
   "source": [
    "Extraire les équipements (equipment) avec str.get_dummies() ➝ nouvelles colonnes booléennes."
   ]
  },
  {
   "cell_type": "code",
   "execution_count": 14,
   "id": "5499686c",
   "metadata": {},
   "outputs": [
    {
     "name": "stdout",
     "output_type": "stream",
     "text": [
      "      Ascenseur  Balcon  Chauffage  Climatisation  Concierge  Cuisine Équipée  \\\n",
      "0             1       1          0              0          0                0   \n",
      "1             1       1          1              1          0                1   \n",
      "2             1       1          1              1          1                1   \n",
      "3             1       0          1              1          0                1   \n",
      "4             1       1          0              0          1                0   \n",
      "...         ...     ...        ...            ...        ...              ...   \n",
      "1768          1       1          0              0          0                1   \n",
      "1769          1       0          0              0          0                0   \n",
      "1770          1       1          0              0          0                0   \n",
      "1771          0       0          0              0          0                1   \n",
      "1772          1       1          0              1          1                1   \n",
      "\n",
      "      Duplex  Meublé  Parking  Sécurité  Terrasse  \n",
      "0          0       0        1         0         1  \n",
      "1          0       0        1         0         0  \n",
      "2          1       0        1         1         1  \n",
      "3          0       1        1         1         1  \n",
      "4          0       0        1         1         0  \n",
      "...      ...     ...      ...       ...       ...  \n",
      "1768       0       0        1         1         0  \n",
      "1769       0       0        1         0         0  \n",
      "1770       0       0        1         1         0  \n",
      "1771       0       0        1         1         0  \n",
      "1772       0       0        1         1         1  \n",
      "\n",
      "[1773 rows x 11 columns]\n"
     ]
    }
   ],
   "source": [
    "equipments_dummies = df['equipment'].str.get_dummies(sep=\"/\")\n",
    "df = pd.concat([df, equipments_dummies], axis=1)\n",
    "print(equipments_dummies)"
   ]
  },
  {
   "cell_type": "markdown",
   "id": "694f20bb",
   "metadata": {},
   "source": []
  },
  {
   "cell_type": "code",
   "execution_count": 15,
   "id": "b6d39d41",
   "metadata": {},
   "outputs": [],
   "source": [
    "\n",
    "df['price'] = (\n",
    "    df['price']\n",
    "    .astype(str)\n",
    "    .str.replace(r'[^\\d,]', '', regex=True)   \n",
    "    .str.replace(',', '.', 1)                 \n",
    "    .str.replace(',', '')                     \n",
    ")\n",
    "\n",
    "df['price'] = df['price'].replace('', np.nan)\n",
    "df['price'] = df['price'].astype(float)\n",
    "\n"
   ]
  },
  {
   "cell_type": "code",
   "execution_count": 16,
   "id": "c4692df1",
   "metadata": {},
   "outputs": [
    {
     "name": "stdout",
     "output_type": "stream",
     "text": [
      "0    2000000.0\n",
      "1    1195000.0\n",
      "2    1350000.0\n",
      "3     900000.0\n",
      "4    3100000.0\n",
      "Name: price, dtype: float64\n"
     ]
    }
   ],
   "source": [
    "print(df['price'].head())"
   ]
  },
  {
   "cell_type": "markdown",
   "id": "373403e1",
   "metadata": {},
   "source": [
    "Supprimer les colonnes inutiles (equipment, link)"
   ]
  },
  {
   "cell_type": "code",
   "execution_count": 17,
   "id": "630be21c",
   "metadata": {},
   "outputs": [],
   "source": [
    "df.drop(columns=['equipment', 'link'], inplace=True)\n"
   ]
  },
  {
   "cell_type": "code",
   "execution_count": 18,
   "id": "8b62f638",
   "metadata": {},
   "outputs": [
    {
     "name": "stdout",
     "output_type": "stream",
     "text": [
      "['title', 'price', 'city_name', 'salon', 'nb_rooms', 'nb_baths', 'surface_area', 'Ascenseur', 'Balcon', 'Chauffage', 'Climatisation', 'Concierge', 'Cuisine Équipée', 'Duplex', 'Meublé', 'Parking', 'Sécurité', 'Terrasse']\n"
     ]
    }
   ],
   "source": [
    "print(list(df.columns))"
   ]
  },
  {
   "cell_type": "markdown",
   "id": "b0e40b41",
   "metadata": {},
   "source": [
    "Uniformiser les noms de ville (arabe → français)"
   ]
  },
  {
   "cell_type": "code",
   "execution_count": 19,
   "id": "07eb4265",
   "metadata": {},
   "outputs": [
    {
     "name": "stdout",
     "output_type": "stream",
     "text": [
      "['Casablanca' 'Dar Bouazza' 'Rabat' 'Marrakech' 'Asilah' 'Bouskoura'\n",
      " 'Kénitra' 'Mohammedia' 'Agadir' 'Tamesna' 'Salé' 'Had Soualem' 'Temara'\n",
      " 'Benslimane' 'Tanger' 'Bouznika' 'Meknès' 'Fès' 'El Jadida'\n",
      " 'El Mansouria' 'Martil' 'Fnideq' 'Tétouan' 'Saidia' 'Nouaceur' 'Tamaris'\n",
      " 'Cabo Negro' 'Sidi Allal El Bahraoui' 'Béni Mellal' nan 'Essaouira'\n",
      " 'Mehdia' 'Oujda' 'Oued Laou' 'Dcheira' 'Sidi Rahal' 'Deroua' 'Ain Attig'\n",
      " 'Safi' 'Inzegan' 'Ifrane' 'Dakhla' 'Dcheïra El Jihadia' 'Taghazout'\n",
      " 'Sidi Bouknadel' 'Skhirat' 'Khouribga' 'Berkane' 'Mers El Kheir'\n",
      " 'Berrechid' 'Tiznit' 'Agadir Melloul' 'Nador' 'El Menzeh' 'Bni Ansar'\n",
      " 'Mdiq' 'Tit Mellil' 'Souk El Arbaa' 'Biougra' 'Settat' 'Ain Aouda' 'Taza'\n",
      " 'Khemisset' 'Oued Zem' 'Sefrou' 'Merzouga' 'El Hajeb' 'Selouane'\n",
      " 'Taounate' 'Sidi Bennour' 'El Ksiba']\n"
     ]
    }
   ],
   "source": [
    "city_mapping = {\n",
    "    \"الدار البيضاء\": \"Casablanca\",\n",
    "    \"الرباط\": \"Rabat\",\n",
    "    \"القنيطرة\": \"Kénitra\",\n",
    "    \"مراكش\": \"Marrakech\",\n",
    "    \"أكادير\": \"Agadir\",\n",
    "    \"المحمدية\": \"Mohammedia\",\n",
    "    \"طنجة\":\"Tanger\"\n",
    "}\n",
    "\n",
    "\n",
    "df['city_name'] = df['city_name'].replace(city_mapping)\n",
    "print(df['city_name'].unique())"
   ]
  },
  {
   "cell_type": "markdown",
   "id": "cdc27143",
   "metadata": {},
   "source": [
    "Remplacer les valeurs manquantes dans city_name par \"Unknown\"."
   ]
  },
  {
   "cell_type": "code",
   "execution_count": 20,
   "id": "921216da",
   "metadata": {},
   "outputs": [],
   "source": [
    "df['city_name'] = df['city_name'].fillna(\"Unknown\")"
   ]
  },
  {
   "cell_type": "code",
   "execution_count": 25,
   "id": "c5513968",
   "metadata": {},
   "outputs": [
    {
     "name": "stdout",
     "output_type": "stream",
     "text": [
      "0\n",
      "['Casablanca' 'Dar Bouazza' 'Rabat' 'Marrakech' 'Asilah' 'Bouskoura'\n",
      " 'Kénitra' 'Mohammedia' 'Agadir' 'Tamesna' 'Salé' 'Had Soualem' 'Temara'\n",
      " 'Benslimane' 'Tanger' 'Bouznika' 'Meknès' 'Fès' 'El Jadida'\n",
      " 'El Mansouria' 'Martil' 'Fnideq' 'Tétouan' 'Saidia' 'Nouaceur' 'Tamaris'\n",
      " 'Cabo Negro' 'Sidi Allal El Bahraoui' 'Béni Mellal' 'Unknown' 'Essaouira'\n",
      " 'Mehdia' 'Oujda' 'Oued Laou' 'Dcheira' 'Sidi Rahal' 'Deroua' 'Ain Attig'\n",
      " 'Safi' 'Inzegan' 'Ifrane' 'Dakhla' 'Dcheïra El Jihadia' 'Taghazout'\n",
      " 'Sidi Bouknadel' 'Skhirat' 'Khouribga' 'Berkane' 'Mers El Kheir'\n",
      " 'Berrechid' 'Tiznit' 'Agadir Melloul' 'Nador' 'El Menzeh' 'Bni Ansar'\n",
      " 'Mdiq' 'Tit Mellil' 'Souk El Arbaa' 'Biougra' 'Settat' 'Ain Aouda' 'Taza'\n",
      " 'Khemisset' 'Oued Zem' 'Sefrou' 'Merzouga' 'El Hajeb' 'Selouane'\n",
      " 'Taounate' 'Sidi Bennour' 'El Ksiba']\n"
     ]
    }
   ],
   "source": [
    "print(df['city_name'].isna().sum())\n",
    "print(df['city_name'].unique()) "
   ]
  },
  {
   "cell_type": "markdown",
   "id": "b6aa7ae9",
   "metadata": {},
   "source": [
    "# *Gestion des valeurs manquantes:*\n"
   ]
  },
  {
   "cell_type": "markdown",
   "id": "b344bff3",
   "metadata": {},
   "source": [
    "Pour les colonnes numériques : imputer les valeurs manquantes par la médiane.\n"
   ]
  },
  {
   "cell_type": "code",
   "execution_count": 26,
   "id": "119e5079",
   "metadata": {},
   "outputs": [
    {
     "name": "stderr",
     "output_type": "stream",
     "text": [
      "C:\\Users\\lenovo\\AppData\\Local\\Temp\\ipykernel_31000\\2696611444.py:6: FutureWarning: A value is trying to be set on a copy of a DataFrame or Series through chained assignment using an inplace method.\n",
      "The behavior will change in pandas 3.0. This inplace method will never work because the intermediate object on which we are setting values always behaves as a copy.\n",
      "\n",
      "For example, when doing 'df[col].method(value, inplace=True)', try using 'df.method({col: value}, inplace=True)' or df[col] = df[col].method(value) instead, to perform the operation inplace on the original object.\n",
      "\n",
      "\n",
      "  df[col].fillna(df[col].median(), inplace=True)\n"
     ]
    }
   ],
   "source": [
    "\n",
    "# ! trouver les cols numers\n",
    "cols_numeric = df.select_dtypes(include=['float64', 'int64']).columns\n",
    "\n",
    "\n",
    "for col in cols_numeric:\n",
    "    df[col].fillna(df[col].median(), inplace=True)\n"
   ]
  },
  {
   "cell_type": "markdown",
   "id": "51e5d9d4",
   "metadata": {},
   "source": [
    "Pour les colonnes catégorielles (chaînes de caractères) : imputer avec \"Unknown\"."
   ]
  },
  {
   "cell_type": "code",
   "execution_count": null,
   "id": "67d84f96",
   "metadata": {},
   "outputs": [],
   "source": [
    "categorical_cols = df.select_dtypes(include='object').columns\n",
    "\n",
    "for col in categorical_cols:\n",
    "    df[col].fillna(\"Unknown\", inplace=True)\n"
   ]
  }
 ],
 "metadata": {
  "kernelspec": {
   "display_name": "base",
   "language": "python",
   "name": "python3"
  },
  "language_info": {
   "codemirror_mode": {
    "name": "ipython",
    "version": 3
   },
   "file_extension": ".py",
   "mimetype": "text/x-python",
   "name": "python",
   "nbconvert_exporter": "python",
   "pygments_lexer": "ipython3",
   "version": "3.12.7"
  }
 },
 "nbformat": 4,
 "nbformat_minor": 5
}
