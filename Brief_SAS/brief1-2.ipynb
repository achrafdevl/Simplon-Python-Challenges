{
 "cells": [
  {
   "cell_type": "markdown",
   "id": "e32541c2",
   "metadata": {},
   "source": [
    "17.Les requêtes SQL Via SQLAlchemy\n",
    "\n",
    "-Insérer les données nettoyées dans une table PostgreSQL nommée, par exemple : -health_data_cleaned.\n",
    "-Quelle est la répartition des individus par genre (gender)\n",
    "-Quelle est la répartition des individus en fonction de leurs habitudes de tabagisme (smoking) ?\n",
    "-Quelle est la moyenne de l'IMC (bmi) pour chaque genre (gender) ?\n",
    "-Comment les individus se répartissent-ils en fonction de leur niveau d'éducation (education) ?\n",
    "-Quelle est l'évolution de l'IMC moyen (bmi) en fonction des tranches d'âge (par exemple, 18-30, 31-50, 51+) ?\n",
    "-Quelle est la moyenne d'âge (age) pour chaque catégorie de tabagisme (smoking) ?"
   ]
  },
  {
   "cell_type": "code",
   "execution_count": null,
   "id": "a0e2aeaf",
   "metadata": {},
   "outputs": [],
   "source": [
    "from sqlalchemy import create_engine, text\n",
    "from dotenv import load_dotenv\n",
    "import pandas as pd\n",
    "import os"
   ]
  },
  {
   "cell_type": "code",
   "execution_count": 2,
   "id": "ad82d478",
   "metadata": {},
   "outputs": [
    {
     "name": "stdout",
     "output_type": "stream",
     "text": [
      "2025-07-10 22:17:40,019 INFO sqlalchemy.engine.Engine select pg_catalog.version()\n",
      "2025-07-10 22:17:40,019 INFO sqlalchemy.engine.Engine [raw sql] {}\n",
      "2025-07-10 22:17:40,019 INFO sqlalchemy.engine.Engine select current_schema()\n",
      "2025-07-10 22:17:40,019 INFO sqlalchemy.engine.Engine [raw sql] {}\n",
      "2025-07-10 22:17:40,019 INFO sqlalchemy.engine.Engine show standard_conforming_strings\n",
      "2025-07-10 22:17:40,035 INFO sqlalchemy.engine.Engine [raw sql] {}\n",
      "2025-07-10 22:17:40,035 INFO sqlalchemy.engine.Engine BEGIN (implicit)\n",
      "2025-07-10 22:17:40,056 INFO sqlalchemy.engine.Engine SELECT pg_catalog.pg_class.relname \n",
      "FROM pg_catalog.pg_class JOIN pg_catalog.pg_namespace ON pg_catalog.pg_namespace.oid = pg_catalog.pg_class.relnamespace \n",
      "WHERE pg_catalog.pg_class.relname = %(table_name)s AND pg_catalog.pg_class.relkind = ANY (ARRAY[%(param_1)s, %(param_2)s, %(param_3)s, %(param_4)s, %(param_5)s]) AND pg_catalog.pg_table_is_visible(pg_catalog.pg_class.oid) AND pg_catalog.pg_namespace.nspname != %(nspname_1)s\n",
      "2025-07-10 22:17:40,056 INFO sqlalchemy.engine.Engine [generated in 0.00211s] {'table_name': 'health_data_cleaned', 'param_1': 'r', 'param_2': 'p', 'param_3': 'f', 'param_4': 'v', 'param_5': 'm', 'nspname_1': 'pg_catalog'}\n",
      "2025-07-10 22:17:40,072 INFO sqlalchemy.engine.Engine SELECT pg_catalog.pg_class.relname \n",
      "FROM pg_catalog.pg_class JOIN pg_catalog.pg_namespace ON pg_catalog.pg_namespace.oid = pg_catalog.pg_class.relnamespace \n",
      "WHERE pg_catalog.pg_class.relname = %(table_name)s AND pg_catalog.pg_class.relkind = ANY (ARRAY[%(param_1)s, %(param_2)s, %(param_3)s, %(param_4)s, %(param_5)s]) AND pg_catalog.pg_table_is_visible(pg_catalog.pg_class.oid) AND pg_catalog.pg_namespace.nspname != %(nspname_1)s\n",
      "2025-07-10 22:17:40,072 INFO sqlalchemy.engine.Engine [cached since 0.01515s ago] {'table_name': 'health_data_cleaned', 'param_1': 'r', 'param_2': 'p', 'param_3': 'f', 'param_4': 'v', 'param_5': 'm', 'nspname_1': 'pg_catalog'}\n",
      "2025-07-10 22:17:40,082 INFO sqlalchemy.engine.Engine SELECT pg_catalog.pg_class.relname \n",
      "FROM pg_catalog.pg_class JOIN pg_catalog.pg_namespace ON pg_catalog.pg_namespace.oid = pg_catalog.pg_class.relnamespace \n",
      "WHERE pg_catalog.pg_class.relkind = ANY (ARRAY[%(param_1)s, %(param_2)s]) AND pg_catalog.pg_class.relpersistence != %(relpersistence_1)s AND pg_catalog.pg_table_is_visible(pg_catalog.pg_class.oid) AND pg_catalog.pg_namespace.nspname != %(nspname_1)s\n",
      "2025-07-10 22:17:40,082 INFO sqlalchemy.engine.Engine [generated in 0.00205s] {'param_1': 'r', 'param_2': 'p', 'relpersistence_1': 't', 'nspname_1': 'pg_catalog'}\n",
      "2025-07-10 22:17:40,082 INFO sqlalchemy.engine.Engine SELECT pg_catalog.pg_class.relname \n",
      "FROM pg_catalog.pg_class JOIN pg_catalog.pg_namespace ON pg_catalog.pg_namespace.oid = pg_catalog.pg_class.relnamespace \n",
      "WHERE pg_catalog.pg_class.relkind = ANY (ARRAY[%(param_1)s]) AND pg_catalog.pg_class.relpersistence != %(relpersistence_1)s AND pg_catalog.pg_table_is_visible(pg_catalog.pg_class.oid) AND pg_catalog.pg_namespace.nspname != %(nspname_1)s\n",
      "2025-07-10 22:17:40,082 INFO sqlalchemy.engine.Engine [generated in 0.00209s] {'param_1': 'v', 'relpersistence_1': 't', 'nspname_1': 'pg_catalog'}\n",
      "2025-07-10 22:17:40,098 INFO sqlalchemy.engine.Engine SELECT pg_catalog.pg_class.relname \n",
      "FROM pg_catalog.pg_class JOIN pg_catalog.pg_namespace ON pg_catalog.pg_namespace.oid = pg_catalog.pg_class.relnamespace \n",
      "WHERE pg_catalog.pg_class.relkind = ANY (ARRAY[%(param_1)s]) AND pg_catalog.pg_class.relpersistence != %(relpersistence_1)s AND pg_catalog.pg_table_is_visible(pg_catalog.pg_class.oid) AND pg_catalog.pg_namespace.nspname != %(nspname_1)s\n",
      "2025-07-10 22:17:40,098 INFO sqlalchemy.engine.Engine [cached since 0.009651s ago] {'param_1': 'm', 'relpersistence_1': 't', 'nspname_1': 'pg_catalog'}\n",
      "2025-07-10 22:17:40,122 INFO sqlalchemy.engine.Engine SELECT pg_catalog.pg_attribute.attname AS name, pg_catalog.format_type(pg_catalog.pg_attribute.atttypid, pg_catalog.pg_attribute.atttypmod) AS format_type, (SELECT pg_catalog.pg_get_expr(pg_catalog.pg_attrdef.adbin, pg_catalog.pg_attrdef.adrelid) AS pg_get_expr_1 \n",
      "FROM pg_catalog.pg_attrdef \n",
      "WHERE pg_catalog.pg_attrdef.adrelid = pg_catalog.pg_attribute.attrelid AND pg_catalog.pg_attrdef.adnum = pg_catalog.pg_attribute.attnum AND pg_catalog.pg_attribute.atthasdef) AS \"default\", pg_catalog.pg_attribute.attnotnull AS not_null, pg_catalog.pg_class.relname AS table_name, pg_catalog.pg_description.description AS comment, pg_catalog.pg_attribute.attgenerated AS generated, (SELECT json_build_object(%(json_build_object_2)s, pg_catalog.pg_attribute.attidentity = %(attidentity_1)s, %(json_build_object_3)s, pg_catalog.pg_sequence.seqstart, %(json_build_object_4)s, pg_catalog.pg_sequence.seqincrement, %(json_build_object_5)s, pg_catalog.pg_sequence.seqmin, %(json_build_object_6)s, pg_catalog.pg_sequence.seqmax, %(json_build_object_7)s, pg_catalog.pg_sequence.seqcache, %(json_build_object_8)s, pg_catalog.pg_sequence.seqcycle) AS json_build_object_1 \n",
      "FROM pg_catalog.pg_sequence \n",
      "WHERE pg_catalog.pg_attribute.attidentity != %(attidentity_2)s AND pg_catalog.pg_sequence.seqrelid = CAST(CAST(pg_catalog.pg_get_serial_sequence(CAST(CAST(pg_catalog.pg_attribute.attrelid AS REGCLASS) AS TEXT), pg_catalog.pg_attribute.attname) AS REGCLASS) AS OID)) AS identity_options \n",
      "FROM pg_catalog.pg_class LEFT OUTER JOIN pg_catalog.pg_attribute ON pg_catalog.pg_class.oid = pg_catalog.pg_attribute.attrelid AND pg_catalog.pg_attribute.attnum > %(attnum_1)s AND NOT pg_catalog.pg_attribute.attisdropped LEFT OUTER JOIN pg_catalog.pg_description ON pg_catalog.pg_description.objoid = pg_catalog.pg_attribute.attrelid AND pg_catalog.pg_description.objsubid = pg_catalog.pg_attribute.attnum JOIN pg_catalog.pg_namespace ON pg_catalog.pg_namespace.oid = pg_catalog.pg_class.relnamespace \n",
      "WHERE pg_catalog.pg_class.relkind = ANY (ARRAY[%(param_1)s, %(param_2)s, %(param_3)s, %(param_4)s, %(param_5)s]) AND pg_catalog.pg_table_is_visible(pg_catalog.pg_class.oid) AND pg_catalog.pg_namespace.nspname != %(nspname_1)s AND pg_catalog.pg_class.relname IN (%(filter_names_1)s) ORDER BY pg_catalog.pg_class.relname, pg_catalog.pg_attribute.attnum\n",
      "2025-07-10 22:17:40,122 INFO sqlalchemy.engine.Engine [generated in 0.00232s] {'json_build_object_2': 'always', 'attidentity_1': 'a', 'json_build_object_3': 'start', 'json_build_object_4': 'increment', 'json_build_object_5': 'minvalue', 'json_build_object_6': 'maxvalue', 'json_build_object_7': 'cache', 'json_build_object_8': 'cycle', 'attidentity_2': '', 'attnum_1': 0, 'param_1': 'r', 'param_2': 'p', 'param_3': 'f', 'param_4': 'v', 'param_5': 'm', 'nspname_1': 'pg_catalog', 'filter_names_1': 'health_data_cleaned'}\n",
      "2025-07-10 22:17:40,163 INFO sqlalchemy.engine.Engine SELECT pg_catalog.pg_type.typname AS name, pg_catalog.format_type(pg_catalog.pg_type.typbasetype, pg_catalog.pg_type.typtypmod) AS attype, NOT pg_catalog.pg_type.typnotnull AS nullable, pg_catalog.pg_type.typdefault AS \"default\", pg_catalog.pg_type_is_visible(pg_catalog.pg_type.oid) AS visible, pg_catalog.pg_namespace.nspname AS schema, domain_constraints.condefs, domain_constraints.connames, pg_catalog.pg_collation.collname \n",
      "FROM pg_catalog.pg_type JOIN pg_catalog.pg_namespace ON pg_catalog.pg_namespace.oid = pg_catalog.pg_type.typnamespace LEFT OUTER JOIN pg_catalog.pg_collation ON pg_catalog.pg_type.typcollation = pg_catalog.pg_collation.oid LEFT OUTER JOIN (SELECT pg_catalog.pg_constraint.contypid AS contypid, array_agg(pg_catalog.pg_get_constraintdef(pg_catalog.pg_constraint.oid, %(pg_get_constraintdef_1)s)) AS condefs, array_agg(CAST(pg_catalog.pg_constraint.conname AS TEXT)) AS connames \n",
      "FROM pg_catalog.pg_constraint \n",
      "WHERE pg_catalog.pg_constraint.contypid != %(contypid_1)s GROUP BY pg_catalog.pg_constraint.contypid) AS domain_constraints ON pg_catalog.pg_type.oid = domain_constraints.contypid \n",
      "WHERE pg_catalog.pg_type.typtype = %(typtype_1)s ORDER BY pg_catalog.pg_namespace.nspname, pg_catalog.pg_type.typname\n",
      "2025-07-10 22:17:40,163 INFO sqlalchemy.engine.Engine [generated in 0.00204s] {'pg_get_constraintdef_1': True, 'contypid_1': 0, 'typtype_1': 'd'}\n",
      "2025-07-10 22:17:40,194 INFO sqlalchemy.engine.Engine SELECT pg_catalog.pg_type.typname AS name, pg_catalog.pg_type_is_visible(pg_catalog.pg_type.oid) AS visible, pg_catalog.pg_namespace.nspname AS schema, lbl_agg.labels AS labels \n",
      "FROM pg_catalog.pg_type JOIN pg_catalog.pg_namespace ON pg_catalog.pg_namespace.oid = pg_catalog.pg_type.typnamespace LEFT OUTER JOIN (SELECT pg_catalog.pg_enum.enumtypid AS enumtypid, array_agg(CAST(pg_catalog.pg_enum.enumlabel AS TEXT) ORDER BY pg_catalog.pg_enum.enumsortorder) AS labels \n",
      "FROM pg_catalog.pg_enum GROUP BY pg_catalog.pg_enum.enumtypid) AS lbl_agg ON pg_catalog.pg_type.oid = lbl_agg.enumtypid \n",
      "WHERE pg_catalog.pg_type.typtype = %(typtype_1)s ORDER BY pg_catalog.pg_namespace.nspname, pg_catalog.pg_type.typname\n",
      "2025-07-10 22:17:40,194 INFO sqlalchemy.engine.Engine [generated in 0.00196s] {'typtype_1': 'e'}\n",
      "2025-07-10 22:17:40,212 INFO sqlalchemy.engine.Engine SELECT pg_catalog.pg_class.oid, pg_catalog.pg_class.relname \n",
      "FROM pg_catalog.pg_class JOIN pg_catalog.pg_namespace ON pg_catalog.pg_namespace.oid = pg_catalog.pg_class.relnamespace \n",
      "WHERE pg_catalog.pg_class.relkind = ANY (ARRAY[%(param_1)s, %(param_2)s, %(param_3)s, %(param_4)s, %(param_5)s]) AND pg_catalog.pg_table_is_visible(pg_catalog.pg_class.oid) AND pg_catalog.pg_namespace.nspname != %(nspname_1)s AND pg_catalog.pg_class.relname IN (%(filter_names_1)s)\n",
      "2025-07-10 22:17:40,212 INFO sqlalchemy.engine.Engine [generated in 0.00290s] {'param_1': 'r', 'param_2': 'p', 'param_3': 'f', 'param_4': 'v', 'param_5': 'm', 'nspname_1': 'pg_catalog', 'filter_names_1': 'health_data_cleaned'}\n",
      "2025-07-10 22:17:40,226 INFO sqlalchemy.engine.Engine SELECT attr.conrelid, array_agg(CAST(attr.attname AS TEXT) ORDER BY attr.ord) AS cols, attr.conname, min(attr.description) AS description, NULL AS extra \n",
      "FROM (SELECT con.conrelid AS conrelid, con.conname AS conname, con.conindid AS conindid, con.description AS description, con.ord AS ord, pg_catalog.pg_attribute.attname AS attname \n",
      "FROM pg_catalog.pg_attribute JOIN (SELECT pg_catalog.pg_constraint.conrelid AS conrelid, pg_catalog.pg_constraint.conname AS conname, pg_catalog.pg_constraint.conindid AS conindid, unnest(pg_catalog.pg_constraint.conkey) AS attnum, generate_subscripts(pg_catalog.pg_constraint.conkey, %(generate_subscripts_1)s) AS ord, pg_catalog.pg_description.description AS description \n",
      "FROM pg_catalog.pg_constraint LEFT OUTER JOIN pg_catalog.pg_description ON pg_catalog.pg_description.objoid = pg_catalog.pg_constraint.oid \n",
      "WHERE pg_catalog.pg_constraint.contype = %(contype)s AND pg_catalog.pg_constraint.conrelid IN (%(oids_1)s)) AS con ON pg_catalog.pg_attribute.attnum = con.attnum AND pg_catalog.pg_attribute.attrelid = con.conrelid \n",
      "WHERE con.conrelid IN (%(oids_1)s)) AS attr GROUP BY attr.conrelid, attr.conname ORDER BY attr.conrelid, attr.conname\n",
      "2025-07-10 22:17:40,229 INFO sqlalchemy.engine.Engine [generated in 0.00247s] {'generate_subscripts_1': 1, 'contype': 'p', 'oids_1': 16610}\n",
      "2025-07-10 22:17:40,246 INFO sqlalchemy.engine.Engine SELECT pg_catalog.pg_class.relname, pg_catalog.pg_constraint.conname, CASE WHEN (pg_catalog.pg_constraint.oid IS NOT NULL) THEN pg_catalog.pg_get_constraintdef(pg_catalog.pg_constraint.oid, %(pg_get_constraintdef_1)s) END AS anon_1, nsp_ref.nspname, pg_catalog.pg_description.description \n",
      "FROM pg_catalog.pg_class LEFT OUTER JOIN pg_catalog.pg_constraint ON pg_catalog.pg_class.oid = pg_catalog.pg_constraint.conrelid AND pg_catalog.pg_constraint.contype = %(contype_1)s LEFT OUTER JOIN pg_catalog.pg_class AS cls_ref ON cls_ref.oid = pg_catalog.pg_constraint.confrelid LEFT OUTER JOIN pg_catalog.pg_namespace AS nsp_ref ON cls_ref.relnamespace = nsp_ref.oid LEFT OUTER JOIN pg_catalog.pg_description ON pg_catalog.pg_description.objoid = pg_catalog.pg_constraint.oid JOIN pg_catalog.pg_namespace ON pg_catalog.pg_namespace.oid = pg_catalog.pg_class.relnamespace \n",
      "WHERE pg_catalog.pg_class.relkind = ANY (ARRAY[%(param_1)s, %(param_2)s, %(param_3)s, %(param_4)s, %(param_5)s]) AND pg_catalog.pg_table_is_visible(pg_catalog.pg_class.oid) AND pg_catalog.pg_namespace.nspname != %(nspname_1)s AND pg_catalog.pg_class.relname IN (%(filter_names_1)s) ORDER BY pg_catalog.pg_class.relname, pg_catalog.pg_constraint.conname\n",
      "2025-07-10 22:17:40,246 INFO sqlalchemy.engine.Engine [generated in 0.00260s] {'pg_get_constraintdef_1': True, 'contype_1': 'f', 'param_1': 'r', 'param_2': 'p', 'param_3': 'f', 'param_4': 'v', 'param_5': 'm', 'nspname_1': 'pg_catalog', 'filter_names_1': 'health_data_cleaned'}\n",
      "2025-07-10 22:17:40,277 INFO sqlalchemy.engine.Engine SELECT pg_catalog.pg_index.indrelid, cls_idx.relname AS relname_index, pg_catalog.pg_index.indisunique, pg_catalog.pg_constraint.conrelid IS NOT NULL AS has_constraint, pg_catalog.pg_index.indoption, cls_idx.reloptions, pg_catalog.pg_am.amname, CASE WHEN (pg_catalog.pg_index.indpred IS NOT NULL) THEN pg_catalog.pg_get_expr(pg_catalog.pg_index.indpred, pg_catalog.pg_index.indrelid) END AS filter_definition, pg_catalog.pg_index.indnkeyatts, pg_catalog.pg_index.indnullsnotdistinct, idx_cols.elements, idx_cols.elements_is_expr \n",
      "FROM pg_catalog.pg_index JOIN pg_catalog.pg_class AS cls_idx ON pg_catalog.pg_index.indexrelid = cls_idx.oid JOIN pg_catalog.pg_am ON cls_idx.relam = pg_catalog.pg_am.oid LEFT OUTER JOIN (SELECT idx_attr.indexrelid AS indexrelid, min(idx_attr.indrelid) AS min_1, array_agg(idx_attr.element ORDER BY idx_attr.ord) AS elements, array_agg(idx_attr.is_expr ORDER BY idx_attr.ord) AS elements_is_expr \n",
      "FROM (SELECT idx.indexrelid AS indexrelid, idx.indrelid AS indrelid, idx.ord AS ord, CASE WHEN (idx.attnum = %(attnum_1)s) THEN pg_catalog.pg_get_indexdef(idx.indexrelid, idx.ord + %(ord_1)s, %(pg_get_indexdef_1)s) ELSE CAST(pg_catalog.pg_attribute.attname AS TEXT) END AS element, idx.attnum = %(attnum_2)s AS is_expr \n",
      "FROM (SELECT pg_catalog.pg_index.indexrelid AS indexrelid, pg_catalog.pg_index.indrelid AS indrelid, unnest(pg_catalog.pg_index.indkey) AS attnum, generate_subscripts(pg_catalog.pg_index.indkey, %(generate_subscripts_1)s) AS ord \n",
      "FROM pg_catalog.pg_index \n",
      "WHERE NOT pg_catalog.pg_index.indisprimary AND pg_catalog.pg_index.indrelid IN (%(oids_1)s)) AS idx LEFT OUTER JOIN pg_catalog.pg_attribute ON pg_catalog.pg_attribute.attnum = idx.attnum AND pg_catalog.pg_attribute.attrelid = idx.indrelid \n",
      "WHERE idx.indrelid IN (%(oids_1)s)) AS idx_attr GROUP BY idx_attr.indexrelid) AS idx_cols ON pg_catalog.pg_index.indexrelid = idx_cols.indexrelid LEFT OUTER JOIN pg_catalog.pg_constraint ON pg_catalog.pg_index.indrelid = pg_catalog.pg_constraint.conrelid AND pg_catalog.pg_index.indexrelid = pg_catalog.pg_constraint.conindid AND pg_catalog.pg_constraint.contype = ANY (ARRAY[%(param_1)s, %(param_2)s, %(param_3)s]) \n",
      "WHERE pg_catalog.pg_index.indrelid IN (%(oids_1)s) AND NOT pg_catalog.pg_index.indisprimary ORDER BY pg_catalog.pg_index.indrelid, cls_idx.relname\n",
      "2025-07-10 22:17:40,277 INFO sqlalchemy.engine.Engine [generated in 0.00310s] {'attnum_1': 0, 'ord_1': 1, 'pg_get_indexdef_1': True, 'attnum_2': 0, 'generate_subscripts_1': 1, 'param_1': 'p', 'param_2': 'u', 'param_3': 'x', 'oids_1': 16610}\n",
      "2025-07-10 22:17:40,310 INFO sqlalchemy.engine.Engine SELECT attr.conrelid, array_agg(CAST(attr.attname AS TEXT) ORDER BY attr.ord) AS cols, attr.conname, min(attr.description) AS description, bool_and(pg_catalog.pg_index.indnullsnotdistinct) AS indnullsnotdistinct \n",
      "FROM (SELECT con.conrelid AS conrelid, con.conname AS conname, con.conindid AS conindid, con.description AS description, con.ord AS ord, pg_catalog.pg_attribute.attname AS attname \n",
      "FROM pg_catalog.pg_attribute JOIN (SELECT pg_catalog.pg_constraint.conrelid AS conrelid, pg_catalog.pg_constraint.conname AS conname, pg_catalog.pg_constraint.conindid AS conindid, unnest(pg_catalog.pg_constraint.conkey) AS attnum, generate_subscripts(pg_catalog.pg_constraint.conkey, %(generate_subscripts_1)s) AS ord, pg_catalog.pg_description.description AS description \n",
      "FROM pg_catalog.pg_constraint LEFT OUTER JOIN pg_catalog.pg_description ON pg_catalog.pg_description.objoid = pg_catalog.pg_constraint.oid \n",
      "WHERE pg_catalog.pg_constraint.contype = %(contype)s AND pg_catalog.pg_constraint.conrelid IN (%(oids_1)s)) AS con ON pg_catalog.pg_attribute.attnum = con.attnum AND pg_catalog.pg_attribute.attrelid = con.conrelid \n",
      "WHERE con.conrelid IN (%(oids_1)s)) AS attr JOIN pg_catalog.pg_index ON attr.conindid = pg_catalog.pg_index.indexrelid GROUP BY attr.conrelid, attr.conname ORDER BY attr.conrelid, attr.conname\n",
      "2025-07-10 22:17:40,313 INFO sqlalchemy.engine.Engine [generated in 0.00369s] {'generate_subscripts_1': 1, 'contype': 'u', 'oids_1': 16610}\n",
      "2025-07-10 22:17:40,326 INFO sqlalchemy.engine.Engine SELECT pg_catalog.pg_class.relname, pg_catalog.pg_description.description \n",
      "FROM pg_catalog.pg_class LEFT OUTER JOIN pg_catalog.pg_description ON pg_catalog.pg_class.oid = pg_catalog.pg_description.objoid AND pg_catalog.pg_description.objsubid = %(objsubid_1)s JOIN pg_catalog.pg_namespace ON pg_catalog.pg_namespace.oid = pg_catalog.pg_class.relnamespace \n",
      "WHERE pg_catalog.pg_class.relkind = ANY (ARRAY[%(param_1)s, %(param_2)s, %(param_3)s, %(param_4)s, %(param_5)s]) AND pg_catalog.pg_table_is_visible(pg_catalog.pg_class.oid) AND pg_catalog.pg_namespace.nspname != %(nspname_1)s AND pg_catalog.pg_class.relname IN (%(filter_names_1)s)\n",
      "2025-07-10 22:17:40,326 INFO sqlalchemy.engine.Engine [generated in 0.00533s] {'objsubid_1': 0, 'param_1': 'r', 'param_2': 'p', 'param_3': 'f', 'param_4': 'v', 'param_5': 'm', 'nspname_1': 'pg_catalog', 'filter_names_1': 'health_data_cleaned'}\n",
      "2025-07-10 22:17:40,344 INFO sqlalchemy.engine.Engine SELECT pg_catalog.pg_class.relname, pg_catalog.pg_constraint.conname, CASE WHEN (pg_catalog.pg_constraint.oid IS NOT NULL) THEN pg_catalog.pg_get_constraintdef(pg_catalog.pg_constraint.oid, %(pg_get_constraintdef_1)s) END AS anon_1, pg_catalog.pg_description.description \n",
      "FROM pg_catalog.pg_class LEFT OUTER JOIN pg_catalog.pg_constraint ON pg_catalog.pg_class.oid = pg_catalog.pg_constraint.conrelid AND pg_catalog.pg_constraint.contype = %(contype_1)s LEFT OUTER JOIN pg_catalog.pg_description ON pg_catalog.pg_description.objoid = pg_catalog.pg_constraint.oid JOIN pg_catalog.pg_namespace ON pg_catalog.pg_namespace.oid = pg_catalog.pg_class.relnamespace \n",
      "WHERE pg_catalog.pg_class.relkind = ANY (ARRAY[%(param_1)s, %(param_2)s, %(param_3)s, %(param_4)s, %(param_5)s]) AND pg_catalog.pg_table_is_visible(pg_catalog.pg_class.oid) AND pg_catalog.pg_namespace.nspname != %(nspname_1)s AND pg_catalog.pg_class.relname IN (%(filter_names_1)s) ORDER BY pg_catalog.pg_class.relname, pg_catalog.pg_constraint.conname\n",
      "2025-07-10 22:17:40,347 INFO sqlalchemy.engine.Engine [generated in 0.00333s] {'pg_get_constraintdef_1': True, 'contype_1': 'c', 'param_1': 'r', 'param_2': 'p', 'param_3': 'f', 'param_4': 'v', 'param_5': 'm', 'nspname_1': 'pg_catalog', 'filter_names_1': 'health_data_cleaned'}\n",
      "2025-07-10 22:17:40,365 INFO sqlalchemy.engine.Engine \n",
      "DROP TABLE health_data_cleaned\n",
      "2025-07-10 22:17:40,367 INFO sqlalchemy.engine.Engine [no key 0.00351s] {}\n",
      "2025-07-10 22:17:40,396 INFO sqlalchemy.engine.Engine \n",
      "CREATE TABLE health_data_cleaned (\n",
      "\tsmoking TEXT, \n",
      "\tgender TEXT, \n",
      "\tage BIGINT, \n",
      "\teducation TEXT, \n",
      "\tweight FLOAT(53), \n",
      "\theight FLOAT(53), \n",
      "\tbmi FLOAT(53)\n",
      ")\n",
      "\n",
      "\n",
      "2025-07-10 22:17:40,405 INFO sqlalchemy.engine.Engine [no key 0.00364s] {}\n",
      "2025-07-10 22:17:40,566 INFO sqlalchemy.engine.Engine INSERT INTO health_data_cleaned (smoking, gender, age, education, weight, height, bmi) VALUES (%(smoking__0)s, %(gender__0)s, %(age__0)s, %(education__0)s, %(weight__0)s, %(height__0)s, %(bmi__0)s), (%(smoking__1)s, %(gender__1)s, %(age__1)s, %(educa ... 117972 characters truncated ... , %(gender__999)s, %(age__999)s, %(education__999)s, %(weight__999)s, %(height__999)s, %(bmi__999)s)\n",
      "2025-07-10 22:17:40,572 INFO sqlalchemy.engine.Engine [generated in 0.05586s (insertmanyvalues) 1/5 (unordered)] {'weight__0': 94.8, 'gender__0': 'male', 'smoking__0': 'yes', 'education__0': 'College or above', 'age__0': 62, 'height__0': 184.5, 'bmi__0': 27.8, 'weight__1': 90.4, 'gender__1': 'male', 'smoking__1': 'yes', 'education__1': 'HS or GED', 'age__1': 53, 'height__1': 171.4, 'bmi__1': 30.8, 'weight__2': 83.4, 'gender__2': 'male', 'smoking__2': 'yes', 'education__2': 'HS or GED', 'age__2': 78, 'height__2': 170.1, 'bmi__2': 28.8, 'weight__3': 109.8, 'gender__3': 'female', 'smoking__3': 'no', 'education__3': 'College or above', 'age__3': 56, 'height__3': 160.9, 'bmi__3': 42.4, 'weight__4': 55.2, 'gender__4': 'female', 'smoking__4': 'no', 'education__4': 'Some college / AA', 'age__4': 42, 'height__4': 164.9, 'bmi__4': 20.3, 'weight__5': 64.4, 'gender__5': 'female', 'smoking__5': 'no', 'education__5': '9-11th grade', 'age__5': 72, 'height__5': 150.0, 'bmi__5': 28.6, 'weight__6': 76.6, 'gender__6': 'male', 'smoking__6': 'yes', 'education__6': 'Some college / AA', 'age__6': 22, 'height__6': 165.4, 'bmi__6': 28.0, 'weight__7': 64.5 ... 6900 parameters truncated ... 'bmi__992': 27.7, 'weight__993': 83.8, 'gender__993': 'male', 'smoking__993': 'no', 'education__993': 'College or above', 'age__993': 60, 'height__993': 168.5, 'bmi__993': 29.5, 'weight__994': 101.0, 'gender__994': 'female', 'smoking__994': 'yes', 'education__994': 'HS or GED', 'age__994': 51, 'height__994': 151.3, 'bmi__994': 44.1, 'weight__995': 57.7, 'gender__995': 'female', 'smoking__995': 'yes', 'education__995': 'HS or GED', 'age__995': 60, 'height__995': 165.4, 'bmi__995': 21.1, 'weight__996': 85.6, 'gender__996': 'female', 'smoking__996': 'yes', 'education__996': 'HS or GED', 'age__996': 70, 'height__996': 166.8, 'bmi__996': 30.8, 'weight__997': 80.4, 'gender__997': 'female', 'smoking__997': 'no', 'education__997': 'Some college / AA', 'age__997': 60, 'height__997': 167.0, 'bmi__997': 28.8, 'weight__998': 77.9, 'gender__998': 'male', 'smoking__998': 'no', 'education__998': 'Some college / AA', 'age__998': 69, 'height__998': 164.7, 'bmi__998': 28.7, 'weight__999': 81.34267560889516, 'gender__999': 'male', 'smoking__999': 'yes', 'education__999': 'Some college / AA', 'age__999': 78, 'height__999': 169.5, 'bmi__999': 29.382197103497}\n",
      "2025-07-10 22:17:40,676 INFO sqlalchemy.engine.Engine INSERT INTO health_data_cleaned (smoking, gender, age, education, weight, height, bmi) VALUES (%(smoking__0)s, %(gender__0)s, %(age__0)s, %(education__0)s, %(weight__0)s, %(height__0)s, %(bmi__0)s), (%(smoking__1)s, %(gender__1)s, %(age__1)s, %(educa ... 117972 characters truncated ... , %(gender__999)s, %(age__999)s, %(education__999)s, %(weight__999)s, %(height__999)s, %(bmi__999)s)\n",
      "2025-07-10 22:17:40,676 INFO sqlalchemy.engine.Engine [insertmanyvalues 2/5 (unordered)] {'weight__0': 60.7, 'gender__0': 'female', 'smoking__0': 'no', 'education__0': 'Some college / AA', 'age__0': 50, 'height__0': 146.1, 'bmi__0': 28.4, 'weight__1': 76.9, 'gender__1': 'female', 'smoking__1': 'no', 'education__1': 'College or above', 'age__1': 51, 'height__1': 160.3, 'bmi__1': 29.9, 'weight__2': 75.7, 'gender__2': 'female', 'smoking__2': 'no', 'education__2': 'Some college / AA', 'age__2': 64, 'height__2': 157.3, 'bmi__2': 30.6, 'weight__3': 76.9, 'gender__3': 'male', 'smoking__3': 'yes', 'education__3': '9-11th grade', 'age__3': 42, 'height__3': 169.7, 'bmi__3': 26.7, 'weight__4': 59.6, 'gender__4': 'female', 'smoking__4': 'no', 'education__4': '9-11th grade', 'age__4': 58, 'height__4': 156.7, 'bmi__4': 24.3, 'weight__5': 67.5, 'gender__5': 'male', 'smoking__5': 'no', 'education__5': 'College or above', 'age__5': 27, 'height__5': 171.3, 'bmi__5': 23.0, 'weight__6': 78.3, 'gender__6': 'female', 'smoking__6': 'no', 'education__6': 'Some college / AA', 'age__6': 43, 'height__6': 155.7, 'bmi__6': 32.3, 'weight__7': 89.3 ... 6900 parameters truncated ... 'bmi__992': 18.4, 'weight__993': 63.8, 'gender__993': 'female', 'smoking__993': 'yes', 'education__993': 'Some college / AA', 'age__993': 41, 'height__993': 160.3, 'bmi__993': 24.8, 'weight__994': 91.7, 'gender__994': 'male', 'smoking__994': 'yes', 'education__994': 'College or above', 'age__994': 70, 'height__994': 167.9, 'bmi__994': 32.5, 'weight__995': 79.8, 'gender__995': 'female', 'smoking__995': 'no', 'education__995': 'Some college / AA', 'age__995': 78, 'height__995': 167.5, 'bmi__995': 28.4, 'weight__996': 78.7, 'gender__996': 'male', 'smoking__996': 'yes', 'education__996': 'Some college / AA', 'age__996': 66, 'height__996': 171.6, 'bmi__996': 26.7, 'weight__997': 71.5, 'gender__997': 'male', 'smoking__997': 'no', 'education__997': 'Some college / AA', 'age__997': 18, 'height__997': 180.4, 'bmi__997': 22.0, 'weight__998': 92.6, 'gender__998': 'female', 'smoking__998': 'no', 'education__998': 'Some college / AA', 'age__998': 57, 'height__998': 170.1, 'bmi__998': 32.0, 'weight__999': 81.8, 'gender__999': 'male', 'smoking__999': 'yes', 'education__999': 'Some college / AA', 'age__999': 49, 'height__999': 167.9, 'bmi__999': 29.0}\n",
      "2025-07-10 22:17:40,820 INFO sqlalchemy.engine.Engine INSERT INTO health_data_cleaned (smoking, gender, age, education, weight, height, bmi) VALUES (%(smoking__0)s, %(gender__0)s, %(age__0)s, %(education__0)s, %(weight__0)s, %(height__0)s, %(bmi__0)s), (%(smoking__1)s, %(gender__1)s, %(age__1)s, %(educa ... 117972 characters truncated ... , %(gender__999)s, %(age__999)s, %(education__999)s, %(weight__999)s, %(height__999)s, %(bmi__999)s)\n",
      "2025-07-10 22:17:40,824 INFO sqlalchemy.engine.Engine [insertmanyvalues 3/5 (unordered)] {'weight__0': 91.5, 'gender__0': 'male', 'smoking__0': 'yes', 'education__0': 'Some college / AA', 'age__0': 53, 'height__0': 184.0, 'bmi__0': 27.0, 'weight__1': 57.1, 'gender__1': 'female', 'smoking__1': 'no', 'education__1': '9-11th grade', 'age__1': 80, 'height__1': 152.6, 'bmi__1': 24.5, 'weight__2': 99.5, 'gender__2': 'male', 'smoking__2': 'yes', 'education__2': '9-11th grade', 'age__2': 51, 'height__2': 182.6, 'bmi__2': 29.8, 'weight__3': 63.5, 'gender__3': 'female', 'smoking__3': 'yes', 'education__3': 'HS or GED', 'age__3': 78, 'height__3': 163.8, 'bmi__3': 23.7, 'weight__4': 92.1, 'gender__4': 'female', 'smoking__4': 'yes', 'education__4': 'HS or GED', 'age__4': 37, 'height__4': 156.4, 'bmi__4': 37.7, 'weight__5': 86.5, 'gender__5': 'male', 'smoking__5': 'yes', 'education__5': 'Some college / AA', 'age__5': 68, 'height__5': 177.2, 'bmi__5': 27.5, 'weight__6': 60.6, 'gender__6': 'female', 'smoking__6': 'no', 'education__6': '9-11th grade', 'age__6': 36, 'height__6': 155.5, 'bmi__6': 25.1, 'weight__7': 88.9 ... 6900 parameters truncated ... 'bmi__992': 36.1, 'weight__993': 75.2, 'gender__993': 'female', 'smoking__993': 'yes', 'education__993': 'Some college / AA', 'age__993': 40, 'height__993': 152.6, 'bmi__993': 32.3, 'weight__994': 124.1, 'gender__994': 'male', 'smoking__994': 'yes', 'education__994': '9-11th grade', 'age__994': 33, 'height__994': 181.7, 'bmi__994': 37.6, 'weight__995': 62.0, 'gender__995': 'female', 'smoking__995': 'no', 'education__995': '9-11th grade', 'age__995': 26, 'height__995': 162.5, 'bmi__995': 23.5, 'weight__996': 67.7, 'gender__996': 'female', 'smoking__996': 'no', 'education__996': 'College or above', 'age__996': 35, 'height__996': 157.8, 'bmi__996': 27.2, 'weight__997': 117.7, 'gender__997': 'male', 'smoking__997': 'no', 'education__997': 'Some college / AA', 'age__997': 60, 'height__997': 175.3, 'bmi__997': 38.3, 'weight__998': 55.4, 'gender__998': 'female', 'smoking__998': 'no', 'education__998': 'Some college / AA', 'age__998': 21, 'height__998': 147.0, 'bmi__998': 25.6, 'weight__999': 70.3, 'gender__999': 'female', 'smoking__999': 'yes', 'education__999': '9-11th grade', 'age__999': 60, 'height__999': 160.8, 'bmi__999': 27.2}\n",
      "2025-07-10 22:17:40,949 INFO sqlalchemy.engine.Engine INSERT INTO health_data_cleaned (smoking, gender, age, education, weight, height, bmi) VALUES (%(smoking__0)s, %(gender__0)s, %(age__0)s, %(education__0)s, %(weight__0)s, %(height__0)s, %(bmi__0)s), (%(smoking__1)s, %(gender__1)s, %(age__1)s, %(educa ... 117972 characters truncated ... , %(gender__999)s, %(age__999)s, %(education__999)s, %(weight__999)s, %(height__999)s, %(bmi__999)s)\n",
      "2025-07-10 22:17:40,949 INFO sqlalchemy.engine.Engine [insertmanyvalues 4/5 (unordered)] {'weight__0': 52.9, 'gender__0': 'female', 'smoking__0': 'no', 'education__0': 'HS or GED', 'age__0': 23, 'height__0': 161.6, 'bmi__0': 20.3, 'weight__1': 63.0, 'gender__1': 'female', 'smoking__1': 'no', 'education__1': 'College or above', 'age__1': 26, 'height__1': 167.3, 'bmi__1': 22.5, 'weight__2': 116.7, 'gender__2': 'female', 'smoking__2': 'yes', 'education__2': 'Some college / AA', 'age__2': 36, 'height__2': 163.2, 'bmi__2': 43.8, 'weight__3': 87.7, 'gender__3': 'female', 'smoking__3': 'no', 'education__3': 'HS or GED', 'age__3': 75, 'height__3': 157.7, 'bmi__3': 35.3, 'weight__4': 85.5, 'gender__4': 'female', 'smoking__4': 'yes', 'education__4': 'Some college / AA', 'age__4': 36, 'height__4': 168.5, 'bmi__4': 30.1, 'weight__5': 104.3, 'gender__5': 'male', 'smoking__5': 'yes', 'education__5': 'Some college / AA', 'age__5': 57, 'height__5': 169.3, 'bmi__5': 36.4, 'weight__6': 72.1, 'gender__6': 'male', 'smoking__6': 'no', 'education__6': 'Some college / AA', 'age__6': 28, 'height__6': 171.4, 'bmi__6': 24.5, 'weight__7': 115.4 ... 6900 parameters truncated ... 'bmi__992': 25.2, 'weight__993': 106.6, 'gender__993': 'male', 'smoking__993': 'yes', 'education__993': 'Some college / AA', 'age__993': 66, 'height__993': 179.7, 'bmi__993': 33.0, 'weight__994': 56.2, 'gender__994': 'female', 'smoking__994': 'no', 'education__994': 'College or above', 'age__994': 45, 'height__994': 153.9, 'bmi__994': 23.7, 'weight__995': 88.2, 'gender__995': 'male', 'smoking__995': 'yes', 'education__995': '9-11th grade', 'age__995': 66, 'height__995': 164.7, 'bmi__995': 32.5, 'weight__996': 93.0, 'gender__996': 'male', 'smoking__996': 'yes', 'education__996': 'College or above', 'age__996': 60, 'height__996': 167.8, 'bmi__996': 33.0, 'weight__997': 82.9, 'gender__997': 'female', 'smoking__997': 'no', 'education__997': 'Some college / AA', 'age__997': 33, 'height__997': 155.7, 'bmi__997': 34.2, 'weight__998': 58.8, 'gender__998': 'male', 'smoking__998': 'no', 'education__998': 'College or above', 'age__998': 25, 'height__998': 150.8, 'bmi__998': 25.9, 'weight__999': 108.7, 'gender__999': 'female', 'smoking__999': 'yes', 'education__999': 'HS or GED', 'age__999': 57, 'height__999': 170.2, 'bmi__999': 37.5}\n",
      "2025-07-10 22:17:41,072 INFO sqlalchemy.engine.Engine INSERT INTO health_data_cleaned (smoking, gender, age, education, weight, height, bmi) VALUES (%(smoking__0)s, %(gender__0)s, %(age__0)s, %(education__0)s, %(weight__0)s, %(height__0)s, %(bmi__0)s), (%(smoking__1)s, %(gender__1)s, %(age__1)s, %(educa ... 99408 characters truncated ... , %(gender__843)s, %(age__843)s, %(education__843)s, %(weight__843)s, %(height__843)s, %(bmi__843)s)\n",
      "2025-07-10 22:17:41,076 INFO sqlalchemy.engine.Engine [insertmanyvalues 5/5 (unordered)] {'weight__0': 79.8, 'gender__0': 'male', 'smoking__0': 'yes', 'education__0': 'Some college / AA', 'age__0': 61, 'height__0': 178.1, 'bmi__0': 25.2, 'weight__1': 53.8, 'gender__1': 'female', 'smoking__1': 'no', 'education__1': 'College or above', 'age__1': 48, 'height__1': 160.2, 'bmi__1': 21.0, 'weight__2': 96.4, 'gender__2': 'female', 'smoking__2': 'no', 'education__2': 'College or above', 'age__2': 46, 'height__2': 162.3, 'bmi__2': 36.6, 'weight__3': 91.4, 'gender__3': 'female', 'smoking__3': 'no', 'education__3': 'HS or GED', 'age__3': 50, 'height__3': 169.4, 'bmi__3': 31.9, 'weight__4': 60.8, 'gender__4': 'male', 'smoking__4': 'no', 'education__4': 'College or above', 'age__4': 29, 'height__4': 178.2, 'bmi__4': 19.1, 'weight__5': 97.7, 'gender__5': 'male', 'smoking__5': 'no', 'education__5': 'College or above', 'age__5': 54, 'height__5': 183.1, 'bmi__5': 29.1, 'weight__6': 86.2, 'gender__6': 'female', 'smoking__6': 'yes', 'education__6': 'College or above', 'age__6': 51, 'height__6': 163.4, 'bmi__6': 32.3, 'weight__7': 83.1 ... 5808 parameters truncated ... 'bmi__836': 20.9, 'weight__837': 101.2, 'gender__837': 'male', 'smoking__837': 'no', 'education__837': 'College or above', 'age__837': 34, 'height__837': 180.9, 'bmi__837': 30.9, 'weight__838': 78.7, 'gender__838': 'male', 'smoking__838': 'yes', 'education__838': '9-11th grade', 'age__838': 53, 'height__838': 156.9, 'bmi__838': 32.0, 'weight__839': 89.5, 'gender__839': 'male', 'smoking__839': 'no', 'education__839': '9-11th grade', 'age__839': 32, 'height__839': 164.9, 'bmi__839': 32.9, 'weight__840': 59.1, 'gender__840': 'female', 'smoking__840': 'yes', 'education__840': 'HS or GED', 'age__840': 76, 'height__840': 165.8, 'bmi__840': 21.5, 'weight__841': 112.1, 'gender__841': 'male', 'smoking__841': 'no', 'education__841': 'College or above', 'age__841': 26, 'height__841': 182.2, 'bmi__841': 33.8, 'weight__842': 71.7, 'gender__842': 'female', 'smoking__842': 'yes', 'education__842': 'Some college / AA', 'age__842': 80, 'height__842': 152.2, 'bmi__842': 31.0, 'weight__843': 58.3, 'gender__843': 'female', 'smoking__843': 'no', 'education__843': 'College or above', 'age__843': 24, 'height__843': 165.0, 'bmi__843': 21.4}\n",
      "2025-07-10 22:17:41,150 INFO sqlalchemy.engine.Engine COMMIT\n",
      "✅ Données insérées avec succès dans la table 'health_data_cleaned'\n"
     ]
    }
   ],
   "source": [
    "\n",
    "\n",
    "load_dotenv()\n",
    "\n",
    "DATABASE_URL = os.getenv(\"DATABASE_URL\")\n",
    "\n",
    "engine = create_engine(DATABASE_URL, echo=True)\n",
    "\n",
    "df_cleaned = pd.read_csv('data_final.csv')\n",
    "\n",
    "df_cleaned.to_sql('health_data_cleaned', con=engine, if_exists='replace', index=False)\n",
    "\n",
    "print(\"✅ Données insérées avec succès dans la table 'health_data_cleaned'\")\n"
   ]
  },
  {
   "cell_type": "code",
   "execution_count": 3,
   "id": "0eeab6dd",
   "metadata": {},
   "outputs": [
    {
     "name": "stdout",
     "output_type": "stream",
     "text": [
      "2025-07-10 22:17:41,217 INFO sqlalchemy.engine.Engine BEGIN (implicit)\n",
      "2025-07-10 22:17:41,224 INFO sqlalchemy.engine.Engine SELECT gender, COUNT(*) FROM health_data_cleaned GROUP BY gender\n",
      "2025-07-10 22:17:41,229 INFO sqlalchemy.engine.Engine [generated in 0.00718s] {}\n",
      "Répartition par genre: [('female', 2498), ('male', 2346)]\n",
      "2025-07-10 22:17:41,239 INFO sqlalchemy.engine.Engine ROLLBACK\n",
      "************************************************************\n"
     ]
    }
   ],
   "source": [
    "from sqlalchemy import text\n",
    "\n",
    "query_gender = text(\"SELECT gender, COUNT(*) FROM health_data_cleaned GROUP BY gender\")\n",
    "with engine.connect() as conn:\n",
    "    result = conn.execute(query_gender).fetchall()\n",
    "    print(\"Répartition par genre:\", result)\n",
    "\n",
    "print(\"************************************************************\")\n",
    "\n"
   ]
  },
  {
   "cell_type": "code",
   "execution_count": 4,
   "id": "c81f3649",
   "metadata": {},
   "outputs": [
    {
     "name": "stdout",
     "output_type": "stream",
     "text": [
      "2025-07-10 22:17:41,268 INFO sqlalchemy.engine.Engine BEGIN (implicit)\n",
      "2025-07-10 22:17:41,284 INFO sqlalchemy.engine.Engine SELECT smoking, COUNT(*) FROM health_data_cleaned GROUP BY smoking\n",
      "2025-07-10 22:17:41,284 INFO sqlalchemy.engine.Engine [generated in 0.00589s] {}\n",
      "Répartition par tabagisme: [('yes', 1991), ('no', 2853)]\n",
      "2025-07-10 22:17:41,300 INFO sqlalchemy.engine.Engine ROLLBACK\n",
      "************************************************************\n"
     ]
    }
   ],
   "source": [
    "query_smoking = text(\"SELECT smoking, COUNT(*) FROM health_data_cleaned GROUP BY smoking\")\n",
    "with engine.connect() as conn:\n",
    "    print(\"Répartition par tabagisme:\", conn.execute(query_smoking).fetchall())\n",
    "\n",
    "print(\"************************************************************\")"
   ]
  },
  {
   "cell_type": "code",
   "execution_count": 5,
   "id": "e0e63072",
   "metadata": {},
   "outputs": [
    {
     "name": "stdout",
     "output_type": "stream",
     "text": [
      "2025-07-10 22:17:41,339 INFO sqlalchemy.engine.Engine BEGIN (implicit)\n",
      "2025-07-10 22:17:41,346 INFO sqlalchemy.engine.Engine SELECT gender, AVG(bmi) FROM health_data_cleaned GROUP BY gender\n",
      "2025-07-10 22:17:41,347 INFO sqlalchemy.engine.Engine [generated in 0.00678s] {}\n",
      "Moyenne BMI par genre: [('female', 28.81834240263993), ('male', 28.074151362201945)]\n",
      "2025-07-10 22:17:41,359 INFO sqlalchemy.engine.Engine ROLLBACK\n",
      "************************************************************\n"
     ]
    }
   ],
   "source": [
    "\n",
    "query_bmi_gender = text(\"SELECT gender, AVG(bmi) FROM health_data_cleaned GROUP BY gender\")\n",
    "with engine.connect() as conn:\n",
    "    print(\"Moyenne BMI par genre:\", conn.execute(query_bmi_gender).fetchall())\n",
    "\n",
    "print(\"************************************************************\")"
   ]
  },
  {
   "cell_type": "code",
   "execution_count": 6,
   "id": "a07f95b5",
   "metadata": {},
   "outputs": [
    {
     "name": "stdout",
     "output_type": "stream",
     "text": [
      "2025-07-10 22:17:41,400 INFO sqlalchemy.engine.Engine BEGIN (implicit)\n",
      "2025-07-10 22:17:41,400 INFO sqlalchemy.engine.Engine SELECT education, COUNT(*) FROM health_data_cleaned GROUP BY education\n",
      "2025-07-10 22:17:41,411 INFO sqlalchemy.engine.Engine [generated in 0.00856s] {}\n",
      "Répartition par éducation: [('College or above', 1319), ('HS or GED', 1132), ('9-11th grade', 613), ('Some college / AA', 1780)]\n",
      "2025-07-10 22:17:41,416 INFO sqlalchemy.engine.Engine ROLLBACK\n",
      "************************************************************\n"
     ]
    }
   ],
   "source": [
    "query_edu = text(\"SELECT education, COUNT(*) FROM health_data_cleaned GROUP BY education\")\n",
    "with engine.connect() as conn:\n",
    "    print(\"Répartition par éducation:\", conn.execute(query_edu).fetchall())\n",
    "\n",
    "print(\"************************************************************\")"
   ]
  },
  {
   "cell_type": "code",
   "execution_count": null,
   "id": "257ca5f1",
   "metadata": {},
   "outputs": [
    {
     "name": "stdout",
     "output_type": "stream",
     "text": [
      "************************************************************\n",
      "2025-07-10 22:17:41,453 INFO sqlalchemy.engine.Engine BEGIN (implicit)\n",
      "2025-07-10 22:17:41,453 INFO sqlalchemy.engine.Engine \n",
      "SELECT \n",
      "  CASE \n",
      "    WHEN age BETWEEN 18 AND 30 THEN '18-30'\n",
      "    WHEN age BETWEEN 31 AND 50 THEN '31-50'\n",
      "    ELSE '51+'\n",
      "  END AS age_group,\n",
      "  AVG(bmi)\n",
      "FROM health_data_cleaned\n",
      "GROUP BY age_group\n",
      "\n",
      "2025-07-10 22:17:41,453 INFO sqlalchemy.engine.Engine [generated in 0.00561s] {}\n",
      "BMI moyen par tranche d’âge: [('18-30', 26.841494866311244), ('51+', 28.862636516816455), ('31-50', 29.15740735441536)]\n",
      "2025-07-10 22:17:41,469 INFO sqlalchemy.engine.Engine ROLLBACK\n",
      "************************************************************\n"
     ]
    }
   ],
   "source": [
    "query_bmi_age_group = text(\"\"\"\n",
    "SELECT \n",
    "  CASE \n",
    "    WHEN age BETWEEN 18 AND 30 THEN '18-30'\n",
    "    WHEN age BETWEEN 31 AND 50 THEN '31-50'\n",
    "    ELSE '51+'\n",
    "  END AS age_group,\n",
    "  AVG(bmi)\n",
    "FROM health_data_cleaned\n",
    "GROUP BY age_group\n",
    "\"\"\")\n",
    "\n",
    "print(\"************************************************************\")\n",
    "\n",
    "with engine.connect() as conn:\n",
    "    print(\"BMI moyen par tranche d’âge:\", conn.execute(query_bmi_age_group).fetchall())\n",
    "\n",
    "print(\"************************************************************\")\n"
   ]
  },
  {
   "cell_type": "code",
   "execution_count": 8,
   "id": "04cddc98",
   "metadata": {},
   "outputs": [
    {
     "name": "stdout",
     "output_type": "stream",
     "text": [
      "2025-07-10 22:17:41,525 INFO sqlalchemy.engine.Engine BEGIN (implicit)\n",
      "2025-07-10 22:17:41,525 INFO sqlalchemy.engine.Engine SELECT smoking, AVG(age) FROM health_data_cleaned GROUP BY smoking\n",
      "2025-07-10 22:17:41,533 INFO sqlalchemy.engine.Engine [generated in 0.00582s] {}\n",
      "Âge moyen par catégorie de tabagisme: [('yes', Decimal('51.6167754897036665')), ('no', Decimal('43.7690150718541886'))]\n",
      "2025-07-10 22:17:41,546 INFO sqlalchemy.engine.Engine ROLLBACK\n"
     ]
    }
   ],
   "source": [
    "query_age_smoking = text(\"SELECT smoking, AVG(age) FROM health_data_cleaned GROUP BY smoking\")\n",
    "with engine.connect() as conn:\n",
    "    print(\"Âge moyen par catégorie de tabagisme:\", conn.execute(query_age_smoking).fetchall())"
   ]
  }
 ],
 "metadata": {
  "kernelspec": {
   "display_name": "base",
   "language": "python",
   "name": "python3"
  },
  "language_info": {
   "codemirror_mode": {
    "name": "ipython",
    "version": 3
   },
   "file_extension": ".py",
   "mimetype": "text/x-python",
   "name": "python",
   "nbconvert_exporter": "python",
   "pygments_lexer": "ipython3",
   "version": "3.12.7"
  }
 },
 "nbformat": 4,
 "nbformat_minor": 5
}
