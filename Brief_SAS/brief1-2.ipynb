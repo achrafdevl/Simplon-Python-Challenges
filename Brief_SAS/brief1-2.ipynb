{
 "cells": [
  {
   "cell_type": "markdown",
   "id": "e32541c2",
   "metadata": {},
   "source": [
    "17.Les requêtes SQL Via SQLAlchemy\n",
    "\n",
    "-Insérer les données nettoyées dans une table PostgreSQL nommée, par exemple : -health_data_cleaned.\n",
    "-Quelle est la répartition des individus par genre (gender)\n",
    "-Quelle est la répartition des individus en fonction de leurs habitudes de tabagisme (smoking) ?\n",
    "-Quelle est la moyenne de l'IMC (bmi) pour chaque genre (gender) ?\n",
    "-Comment les individus se répartissent-ils en fonction de leur niveau d'éducation (education) ?\n",
    "-Quelle est l'évolution de l'IMC moyen (bmi) en fonction des tranches d'âge (par exemple, 18-30, 31-50, 51+) ?\n",
    "-Quelle est la moyenne d'âge (age) pour chaque catégorie de tabagisme (smoking) ?"
   ]
  },
  {
   "cell_type": "code",
   "execution_count": 1,
   "id": "a0e2aeaf",
   "metadata": {},
   "outputs": [],
   "source": [
    "from sqlalchemy import create_engine, text\n",
    "from dotenv import load_dotenv\n",
    "import pandas as pd\n",
    "import os"
   ]
  },
  {
   "cell_type": "code",
   "execution_count": 2,
   "id": "ad82d478",
   "metadata": {},
   "outputs": [
    {
     "name": "stdout",
     "output_type": "stream",
     "text": [
      "2025-07-14 12:15:47,817 INFO sqlalchemy.engine.Engine select pg_catalog.version()\n",
      "2025-07-14 12:15:47,820 INFO sqlalchemy.engine.Engine [raw sql] {}\n",
      "2025-07-14 12:15:47,832 INFO sqlalchemy.engine.Engine select current_schema()\n",
      "2025-07-14 12:15:47,834 INFO sqlalchemy.engine.Engine [raw sql] {}\n",
      "2025-07-14 12:15:47,845 INFO sqlalchemy.engine.Engine show standard_conforming_strings\n",
      "2025-07-14 12:15:47,847 INFO sqlalchemy.engine.Engine [raw sql] {}\n",
      "2025-07-14 12:15:47,853 INFO sqlalchemy.engine.Engine BEGIN (implicit)\n",
      "2025-07-14 12:15:47,881 INFO sqlalchemy.engine.Engine SELECT pg_catalog.pg_class.relname \n",
      "FROM pg_catalog.pg_class JOIN pg_catalog.pg_namespace ON pg_catalog.pg_namespace.oid = pg_catalog.pg_class.relnamespace \n",
      "WHERE pg_catalog.pg_class.relname = %(table_name)s AND pg_catalog.pg_class.relkind = ANY (ARRAY[%(param_1)s, %(param_2)s, %(param_3)s, %(param_4)s, %(param_5)s]) AND pg_catalog.pg_table_is_visible(pg_catalog.pg_class.oid) AND pg_catalog.pg_namespace.nspname != %(nspname_1)s\n",
      "2025-07-14 12:15:47,883 INFO sqlalchemy.engine.Engine [generated in 0.00255s] {'table_name': 'health_data_cleaned', 'param_1': 'r', 'param_2': 'p', 'param_3': 'f', 'param_4': 'v', 'param_5': 'm', 'nspname_1': 'pg_catalog'}\n",
      "2025-07-14 12:15:47,900 INFO sqlalchemy.engine.Engine SELECT pg_catalog.pg_class.relname \n",
      "FROM pg_catalog.pg_class JOIN pg_catalog.pg_namespace ON pg_catalog.pg_namespace.oid = pg_catalog.pg_class.relnamespace \n",
      "WHERE pg_catalog.pg_class.relname = %(table_name)s AND pg_catalog.pg_class.relkind = ANY (ARRAY[%(param_1)s, %(param_2)s, %(param_3)s, %(param_4)s, %(param_5)s]) AND pg_catalog.pg_table_is_visible(pg_catalog.pg_class.oid) AND pg_catalog.pg_namespace.nspname != %(nspname_1)s\n",
      "2025-07-14 12:15:47,902 INFO sqlalchemy.engine.Engine [cached since 0.02214s ago] {'table_name': 'health_data_cleaned', 'param_1': 'r', 'param_2': 'p', 'param_3': 'f', 'param_4': 'v', 'param_5': 'm', 'nspname_1': 'pg_catalog'}\n",
      "2025-07-14 12:15:47,912 INFO sqlalchemy.engine.Engine SELECT pg_catalog.pg_class.relname \n",
      "FROM pg_catalog.pg_class JOIN pg_catalog.pg_namespace ON pg_catalog.pg_namespace.oid = pg_catalog.pg_class.relnamespace \n",
      "WHERE pg_catalog.pg_class.relkind = ANY (ARRAY[%(param_1)s, %(param_2)s]) AND pg_catalog.pg_class.relpersistence != %(relpersistence_1)s AND pg_catalog.pg_table_is_visible(pg_catalog.pg_class.oid) AND pg_catalog.pg_namespace.nspname != %(nspname_1)s\n",
      "2025-07-14 12:15:47,914 INFO sqlalchemy.engine.Engine [generated in 0.00212s] {'param_1': 'r', 'param_2': 'p', 'relpersistence_1': 't', 'nspname_1': 'pg_catalog'}\n",
      "2025-07-14 12:15:47,924 INFO sqlalchemy.engine.Engine SELECT pg_catalog.pg_class.relname \n",
      "FROM pg_catalog.pg_class JOIN pg_catalog.pg_namespace ON pg_catalog.pg_namespace.oid = pg_catalog.pg_class.relnamespace \n",
      "WHERE pg_catalog.pg_class.relkind = ANY (ARRAY[%(param_1)s]) AND pg_catalog.pg_class.relpersistence != %(relpersistence_1)s AND pg_catalog.pg_table_is_visible(pg_catalog.pg_class.oid) AND pg_catalog.pg_namespace.nspname != %(nspname_1)s\n",
      "2025-07-14 12:15:47,928 INFO sqlalchemy.engine.Engine [generated in 0.00374s] {'param_1': 'v', 'relpersistence_1': 't', 'nspname_1': 'pg_catalog'}\n",
      "2025-07-14 12:15:47,934 INFO sqlalchemy.engine.Engine SELECT pg_catalog.pg_class.relname \n",
      "FROM pg_catalog.pg_class JOIN pg_catalog.pg_namespace ON pg_catalog.pg_namespace.oid = pg_catalog.pg_class.relnamespace \n",
      "WHERE pg_catalog.pg_class.relkind = ANY (ARRAY[%(param_1)s]) AND pg_catalog.pg_class.relpersistence != %(relpersistence_1)s AND pg_catalog.pg_table_is_visible(pg_catalog.pg_class.oid) AND pg_catalog.pg_namespace.nspname != %(nspname_1)s\n",
      "2025-07-14 12:15:47,936 INFO sqlalchemy.engine.Engine [cached since 0.01121s ago] {'param_1': 'm', 'relpersistence_1': 't', 'nspname_1': 'pg_catalog'}\n",
      "2025-07-14 12:15:47,967 INFO sqlalchemy.engine.Engine SELECT pg_catalog.pg_attribute.attname AS name, pg_catalog.format_type(pg_catalog.pg_attribute.atttypid, pg_catalog.pg_attribute.atttypmod) AS format_type, (SELECT pg_catalog.pg_get_expr(pg_catalog.pg_attrdef.adbin, pg_catalog.pg_attrdef.adrelid) AS pg_get_expr_1 \n",
      "FROM pg_catalog.pg_attrdef \n",
      "WHERE pg_catalog.pg_attrdef.adrelid = pg_catalog.pg_attribute.attrelid AND pg_catalog.pg_attrdef.adnum = pg_catalog.pg_attribute.attnum AND pg_catalog.pg_attribute.atthasdef) AS \"default\", pg_catalog.pg_attribute.attnotnull AS not_null, pg_catalog.pg_class.relname AS table_name, pg_catalog.pg_description.description AS comment, pg_catalog.pg_attribute.attgenerated AS generated, (SELECT json_build_object(%(json_build_object_2)s, pg_catalog.pg_attribute.attidentity = %(attidentity_1)s, %(json_build_object_3)s, pg_catalog.pg_sequence.seqstart, %(json_build_object_4)s, pg_catalog.pg_sequence.seqincrement, %(json_build_object_5)s, pg_catalog.pg_sequence.seqmin, %(json_build_object_6)s, pg_catalog.pg_sequence.seqmax, %(json_build_object_7)s, pg_catalog.pg_sequence.seqcache, %(json_build_object_8)s, pg_catalog.pg_sequence.seqcycle) AS json_build_object_1 \n",
      "FROM pg_catalog.pg_sequence \n",
      "WHERE pg_catalog.pg_attribute.attidentity != %(attidentity_2)s AND pg_catalog.pg_sequence.seqrelid = CAST(CAST(pg_catalog.pg_get_serial_sequence(CAST(CAST(pg_catalog.pg_attribute.attrelid AS REGCLASS) AS TEXT), pg_catalog.pg_attribute.attname) AS REGCLASS) AS OID)) AS identity_options \n",
      "FROM pg_catalog.pg_class LEFT OUTER JOIN pg_catalog.pg_attribute ON pg_catalog.pg_class.oid = pg_catalog.pg_attribute.attrelid AND pg_catalog.pg_attribute.attnum > %(attnum_1)s AND NOT pg_catalog.pg_attribute.attisdropped LEFT OUTER JOIN pg_catalog.pg_description ON pg_catalog.pg_description.objoid = pg_catalog.pg_attribute.attrelid AND pg_catalog.pg_description.objsubid = pg_catalog.pg_attribute.attnum JOIN pg_catalog.pg_namespace ON pg_catalog.pg_namespace.oid = pg_catalog.pg_class.relnamespace \n",
      "WHERE pg_catalog.pg_class.relkind = ANY (ARRAY[%(param_1)s, %(param_2)s, %(param_3)s, %(param_4)s, %(param_5)s]) AND pg_catalog.pg_table_is_visible(pg_catalog.pg_class.oid) AND pg_catalog.pg_namespace.nspname != %(nspname_1)s AND pg_catalog.pg_class.relname IN (%(filter_names_1)s) ORDER BY pg_catalog.pg_class.relname, pg_catalog.pg_attribute.attnum\n",
      "2025-07-14 12:15:47,969 INFO sqlalchemy.engine.Engine [generated in 0.00250s] {'json_build_object_2': 'always', 'attidentity_1': 'a', 'json_build_object_3': 'start', 'json_build_object_4': 'increment', 'json_build_object_5': 'minvalue', 'json_build_object_6': 'maxvalue', 'json_build_object_7': 'cache', 'json_build_object_8': 'cycle', 'attidentity_2': '', 'attnum_1': 0, 'param_1': 'r', 'param_2': 'p', 'param_3': 'f', 'param_4': 'v', 'param_5': 'm', 'nspname_1': 'pg_catalog', 'filter_names_1': 'health_data_cleaned'}\n",
      "2025-07-14 12:15:48,026 INFO sqlalchemy.engine.Engine SELECT pg_catalog.pg_type.typname AS name, pg_catalog.format_type(pg_catalog.pg_type.typbasetype, pg_catalog.pg_type.typtypmod) AS attype, NOT pg_catalog.pg_type.typnotnull AS nullable, pg_catalog.pg_type.typdefault AS \"default\", pg_catalog.pg_type_is_visible(pg_catalog.pg_type.oid) AS visible, pg_catalog.pg_namespace.nspname AS schema, domain_constraints.condefs, domain_constraints.connames, pg_catalog.pg_collation.collname \n",
      "FROM pg_catalog.pg_type JOIN pg_catalog.pg_namespace ON pg_catalog.pg_namespace.oid = pg_catalog.pg_type.typnamespace LEFT OUTER JOIN pg_catalog.pg_collation ON pg_catalog.pg_type.typcollation = pg_catalog.pg_collation.oid LEFT OUTER JOIN (SELECT pg_catalog.pg_constraint.contypid AS contypid, array_agg(pg_catalog.pg_get_constraintdef(pg_catalog.pg_constraint.oid, %(pg_get_constraintdef_1)s)) AS condefs, array_agg(CAST(pg_catalog.pg_constraint.conname AS TEXT)) AS connames \n",
      "FROM pg_catalog.pg_constraint \n",
      "WHERE pg_catalog.pg_constraint.contypid != %(contypid_1)s GROUP BY pg_catalog.pg_constraint.contypid) AS domain_constraints ON pg_catalog.pg_type.oid = domain_constraints.contypid \n",
      "WHERE pg_catalog.pg_type.typtype = %(typtype_1)s ORDER BY pg_catalog.pg_namespace.nspname, pg_catalog.pg_type.typname\n",
      "2025-07-14 12:15:48,028 INFO sqlalchemy.engine.Engine [generated in 0.00232s] {'pg_get_constraintdef_1': True, 'contypid_1': 0, 'typtype_1': 'd'}\n",
      "2025-07-14 12:15:48,073 INFO sqlalchemy.engine.Engine SELECT pg_catalog.pg_type.typname AS name, pg_catalog.pg_type_is_visible(pg_catalog.pg_type.oid) AS visible, pg_catalog.pg_namespace.nspname AS schema, lbl_agg.labels AS labels \n",
      "FROM pg_catalog.pg_type JOIN pg_catalog.pg_namespace ON pg_catalog.pg_namespace.oid = pg_catalog.pg_type.typnamespace LEFT OUTER JOIN (SELECT pg_catalog.pg_enum.enumtypid AS enumtypid, array_agg(CAST(pg_catalog.pg_enum.enumlabel AS TEXT) ORDER BY pg_catalog.pg_enum.enumsortorder) AS labels \n",
      "FROM pg_catalog.pg_enum GROUP BY pg_catalog.pg_enum.enumtypid) AS lbl_agg ON pg_catalog.pg_type.oid = lbl_agg.enumtypid \n",
      "WHERE pg_catalog.pg_type.typtype = %(typtype_1)s ORDER BY pg_catalog.pg_namespace.nspname, pg_catalog.pg_type.typname\n",
      "2025-07-14 12:15:48,079 INFO sqlalchemy.engine.Engine [generated in 0.00588s] {'typtype_1': 'e'}\n",
      "2025-07-14 12:15:48,098 INFO sqlalchemy.engine.Engine SELECT pg_catalog.pg_class.oid, pg_catalog.pg_class.relname \n",
      "FROM pg_catalog.pg_class JOIN pg_catalog.pg_namespace ON pg_catalog.pg_namespace.oid = pg_catalog.pg_class.relnamespace \n",
      "WHERE pg_catalog.pg_class.relkind = ANY (ARRAY[%(param_1)s, %(param_2)s, %(param_3)s, %(param_4)s, %(param_5)s]) AND pg_catalog.pg_table_is_visible(pg_catalog.pg_class.oid) AND pg_catalog.pg_namespace.nspname != %(nspname_1)s AND pg_catalog.pg_class.relname IN (%(filter_names_1)s)\n",
      "2025-07-14 12:15:48,099 INFO sqlalchemy.engine.Engine [generated in 0.00202s] {'param_1': 'r', 'param_2': 'p', 'param_3': 'f', 'param_4': 'v', 'param_5': 'm', 'nspname_1': 'pg_catalog', 'filter_names_1': 'health_data_cleaned'}\n",
      "2025-07-14 12:15:48,116 INFO sqlalchemy.engine.Engine SELECT attr.conrelid, array_agg(CAST(attr.attname AS TEXT) ORDER BY attr.ord) AS cols, attr.conname, min(attr.description) AS description, NULL AS extra \n",
      "FROM (SELECT con.conrelid AS conrelid, con.conname AS conname, con.conindid AS conindid, con.description AS description, con.ord AS ord, pg_catalog.pg_attribute.attname AS attname \n",
      "FROM pg_catalog.pg_attribute JOIN (SELECT pg_catalog.pg_constraint.conrelid AS conrelid, pg_catalog.pg_constraint.conname AS conname, pg_catalog.pg_constraint.conindid AS conindid, unnest(pg_catalog.pg_constraint.conkey) AS attnum, generate_subscripts(pg_catalog.pg_constraint.conkey, %(generate_subscripts_1)s) AS ord, pg_catalog.pg_description.description AS description \n",
      "FROM pg_catalog.pg_constraint LEFT OUTER JOIN pg_catalog.pg_description ON pg_catalog.pg_description.objoid = pg_catalog.pg_constraint.oid \n",
      "WHERE pg_catalog.pg_constraint.contype = %(contype)s AND pg_catalog.pg_constraint.conrelid IN (%(oids_1)s)) AS con ON pg_catalog.pg_attribute.attnum = con.attnum AND pg_catalog.pg_attribute.attrelid = con.conrelid \n",
      "WHERE con.conrelid IN (%(oids_1)s)) AS attr GROUP BY attr.conrelid, attr.conname ORDER BY attr.conrelid, attr.conname\n",
      "2025-07-14 12:15:48,117 INFO sqlalchemy.engine.Engine [generated in 0.00245s] {'generate_subscripts_1': 1, 'contype': 'p', 'oids_1': 16620}\n",
      "2025-07-14 12:15:48,143 INFO sqlalchemy.engine.Engine SELECT pg_catalog.pg_class.relname, pg_catalog.pg_constraint.conname, CASE WHEN (pg_catalog.pg_constraint.oid IS NOT NULL) THEN pg_catalog.pg_get_constraintdef(pg_catalog.pg_constraint.oid, %(pg_get_constraintdef_1)s) END AS anon_1, nsp_ref.nspname, pg_catalog.pg_description.description \n",
      "FROM pg_catalog.pg_class LEFT OUTER JOIN pg_catalog.pg_constraint ON pg_catalog.pg_class.oid = pg_catalog.pg_constraint.conrelid AND pg_catalog.pg_constraint.contype = %(contype_1)s LEFT OUTER JOIN pg_catalog.pg_class AS cls_ref ON cls_ref.oid = pg_catalog.pg_constraint.confrelid LEFT OUTER JOIN pg_catalog.pg_namespace AS nsp_ref ON cls_ref.relnamespace = nsp_ref.oid LEFT OUTER JOIN pg_catalog.pg_description ON pg_catalog.pg_description.objoid = pg_catalog.pg_constraint.oid JOIN pg_catalog.pg_namespace ON pg_catalog.pg_namespace.oid = pg_catalog.pg_class.relnamespace \n",
      "WHERE pg_catalog.pg_class.relkind = ANY (ARRAY[%(param_1)s, %(param_2)s, %(param_3)s, %(param_4)s, %(param_5)s]) AND pg_catalog.pg_table_is_visible(pg_catalog.pg_class.oid) AND pg_catalog.pg_namespace.nspname != %(nspname_1)s AND pg_catalog.pg_class.relname IN (%(filter_names_1)s) ORDER BY pg_catalog.pg_class.relname, pg_catalog.pg_constraint.conname\n",
      "2025-07-14 12:15:48,146 INFO sqlalchemy.engine.Engine [generated in 0.00242s] {'pg_get_constraintdef_1': True, 'contype_1': 'f', 'param_1': 'r', 'param_2': 'p', 'param_3': 'f', 'param_4': 'v', 'param_5': 'm', 'nspname_1': 'pg_catalog', 'filter_names_1': 'health_data_cleaned'}\n",
      "2025-07-14 12:15:48,177 INFO sqlalchemy.engine.Engine SELECT pg_catalog.pg_index.indrelid, cls_idx.relname AS relname_index, pg_catalog.pg_index.indisunique, pg_catalog.pg_constraint.conrelid IS NOT NULL AS has_constraint, pg_catalog.pg_index.indoption, cls_idx.reloptions, pg_catalog.pg_am.amname, CASE WHEN (pg_catalog.pg_index.indpred IS NOT NULL) THEN pg_catalog.pg_get_expr(pg_catalog.pg_index.indpred, pg_catalog.pg_index.indrelid) END AS filter_definition, pg_catalog.pg_index.indnkeyatts, pg_catalog.pg_index.indnullsnotdistinct, idx_cols.elements, idx_cols.elements_is_expr \n",
      "FROM pg_catalog.pg_index JOIN pg_catalog.pg_class AS cls_idx ON pg_catalog.pg_index.indexrelid = cls_idx.oid JOIN pg_catalog.pg_am ON cls_idx.relam = pg_catalog.pg_am.oid LEFT OUTER JOIN (SELECT idx_attr.indexrelid AS indexrelid, min(idx_attr.indrelid) AS min_1, array_agg(idx_attr.element ORDER BY idx_attr.ord) AS elements, array_agg(idx_attr.is_expr ORDER BY idx_attr.ord) AS elements_is_expr \n",
      "FROM (SELECT idx.indexrelid AS indexrelid, idx.indrelid AS indrelid, idx.ord AS ord, CASE WHEN (idx.attnum = %(attnum_1)s) THEN pg_catalog.pg_get_indexdef(idx.indexrelid, idx.ord + %(ord_1)s, %(pg_get_indexdef_1)s) ELSE CAST(pg_catalog.pg_attribute.attname AS TEXT) END AS element, idx.attnum = %(attnum_2)s AS is_expr \n",
      "FROM (SELECT pg_catalog.pg_index.indexrelid AS indexrelid, pg_catalog.pg_index.indrelid AS indrelid, unnest(pg_catalog.pg_index.indkey) AS attnum, generate_subscripts(pg_catalog.pg_index.indkey, %(generate_subscripts_1)s) AS ord \n",
      "FROM pg_catalog.pg_index \n",
      "WHERE NOT pg_catalog.pg_index.indisprimary AND pg_catalog.pg_index.indrelid IN (%(oids_1)s)) AS idx LEFT OUTER JOIN pg_catalog.pg_attribute ON pg_catalog.pg_attribute.attnum = idx.attnum AND pg_catalog.pg_attribute.attrelid = idx.indrelid \n",
      "WHERE idx.indrelid IN (%(oids_1)s)) AS idx_attr GROUP BY idx_attr.indexrelid) AS idx_cols ON pg_catalog.pg_index.indexrelid = idx_cols.indexrelid LEFT OUTER JOIN pg_catalog.pg_constraint ON pg_catalog.pg_index.indrelid = pg_catalog.pg_constraint.conrelid AND pg_catalog.pg_index.indexrelid = pg_catalog.pg_constraint.conindid AND pg_catalog.pg_constraint.contype = ANY (ARRAY[%(param_1)s, %(param_2)s, %(param_3)s]) \n",
      "WHERE pg_catalog.pg_index.indrelid IN (%(oids_1)s) AND NOT pg_catalog.pg_index.indisprimary ORDER BY pg_catalog.pg_index.indrelid, cls_idx.relname\n",
      "2025-07-14 12:15:48,181 INFO sqlalchemy.engine.Engine [generated in 0.00402s] {'attnum_1': 0, 'ord_1': 1, 'pg_get_indexdef_1': True, 'attnum_2': 0, 'generate_subscripts_1': 1, 'param_1': 'p', 'param_2': 'u', 'param_3': 'x', 'oids_1': 16620}\n",
      "2025-07-14 12:15:48,221 INFO sqlalchemy.engine.Engine SELECT attr.conrelid, array_agg(CAST(attr.attname AS TEXT) ORDER BY attr.ord) AS cols, attr.conname, min(attr.description) AS description, bool_and(pg_catalog.pg_index.indnullsnotdistinct) AS indnullsnotdistinct \n",
      "FROM (SELECT con.conrelid AS conrelid, con.conname AS conname, con.conindid AS conindid, con.description AS description, con.ord AS ord, pg_catalog.pg_attribute.attname AS attname \n",
      "FROM pg_catalog.pg_attribute JOIN (SELECT pg_catalog.pg_constraint.conrelid AS conrelid, pg_catalog.pg_constraint.conname AS conname, pg_catalog.pg_constraint.conindid AS conindid, unnest(pg_catalog.pg_constraint.conkey) AS attnum, generate_subscripts(pg_catalog.pg_constraint.conkey, %(generate_subscripts_1)s) AS ord, pg_catalog.pg_description.description AS description \n",
      "FROM pg_catalog.pg_constraint LEFT OUTER JOIN pg_catalog.pg_description ON pg_catalog.pg_description.objoid = pg_catalog.pg_constraint.oid \n",
      "WHERE pg_catalog.pg_constraint.contype = %(contype)s AND pg_catalog.pg_constraint.conrelid IN (%(oids_1)s)) AS con ON pg_catalog.pg_attribute.attnum = con.attnum AND pg_catalog.pg_attribute.attrelid = con.conrelid \n",
      "WHERE con.conrelid IN (%(oids_1)s)) AS attr JOIN pg_catalog.pg_index ON attr.conindid = pg_catalog.pg_index.indexrelid GROUP BY attr.conrelid, attr.conname ORDER BY attr.conrelid, attr.conname\n",
      "2025-07-14 12:15:48,226 INFO sqlalchemy.engine.Engine [generated in 0.00619s] {'generate_subscripts_1': 1, 'contype': 'u', 'oids_1': 16620}\n",
      "2025-07-14 12:15:48,236 INFO sqlalchemy.engine.Engine SELECT pg_catalog.pg_class.relname, pg_catalog.pg_description.description \n",
      "FROM pg_catalog.pg_class LEFT OUTER JOIN pg_catalog.pg_description ON pg_catalog.pg_class.oid = pg_catalog.pg_description.objoid AND pg_catalog.pg_description.objsubid = %(objsubid_1)s JOIN pg_catalog.pg_namespace ON pg_catalog.pg_namespace.oid = pg_catalog.pg_class.relnamespace \n",
      "WHERE pg_catalog.pg_class.relkind = ANY (ARRAY[%(param_1)s, %(param_2)s, %(param_3)s, %(param_4)s, %(param_5)s]) AND pg_catalog.pg_table_is_visible(pg_catalog.pg_class.oid) AND pg_catalog.pg_namespace.nspname != %(nspname_1)s AND pg_catalog.pg_class.relname IN (%(filter_names_1)s)\n",
      "2025-07-14 12:15:48,239 INFO sqlalchemy.engine.Engine [generated in 0.00366s] {'objsubid_1': 0, 'param_1': 'r', 'param_2': 'p', 'param_3': 'f', 'param_4': 'v', 'param_5': 'm', 'nspname_1': 'pg_catalog', 'filter_names_1': 'health_data_cleaned'}\n",
      "2025-07-14 12:15:48,251 INFO sqlalchemy.engine.Engine SELECT pg_catalog.pg_class.relname, pg_catalog.pg_constraint.conname, CASE WHEN (pg_catalog.pg_constraint.oid IS NOT NULL) THEN pg_catalog.pg_get_constraintdef(pg_catalog.pg_constraint.oid, %(pg_get_constraintdef_1)s) END AS anon_1, pg_catalog.pg_description.description \n",
      "FROM pg_catalog.pg_class LEFT OUTER JOIN pg_catalog.pg_constraint ON pg_catalog.pg_class.oid = pg_catalog.pg_constraint.conrelid AND pg_catalog.pg_constraint.contype = %(contype_1)s LEFT OUTER JOIN pg_catalog.pg_description ON pg_catalog.pg_description.objoid = pg_catalog.pg_constraint.oid JOIN pg_catalog.pg_namespace ON pg_catalog.pg_namespace.oid = pg_catalog.pg_class.relnamespace \n",
      "WHERE pg_catalog.pg_class.relkind = ANY (ARRAY[%(param_1)s, %(param_2)s, %(param_3)s, %(param_4)s, %(param_5)s]) AND pg_catalog.pg_table_is_visible(pg_catalog.pg_class.oid) AND pg_catalog.pg_namespace.nspname != %(nspname_1)s AND pg_catalog.pg_class.relname IN (%(filter_names_1)s) ORDER BY pg_catalog.pg_class.relname, pg_catalog.pg_constraint.conname\n",
      "2025-07-14 12:15:48,253 INFO sqlalchemy.engine.Engine [generated in 0.00192s] {'pg_get_constraintdef_1': True, 'contype_1': 'c', 'param_1': 'r', 'param_2': 'p', 'param_3': 'f', 'param_4': 'v', 'param_5': 'm', 'nspname_1': 'pg_catalog', 'filter_names_1': 'health_data_cleaned'}\n",
      "2025-07-14 12:15:48,263 INFO sqlalchemy.engine.Engine \n",
      "DROP TABLE health_data_cleaned\n",
      "2025-07-14 12:15:48,266 INFO sqlalchemy.engine.Engine [no key 0.00212s] {}\n",
      "2025-07-14 12:15:48,298 INFO sqlalchemy.engine.Engine \n",
      "CREATE TABLE health_data_cleaned (\n",
      "\tsmoking TEXT, \n",
      "\tgender TEXT, \n",
      "\tage BIGINT, \n",
      "\teducation TEXT, \n",
      "\tweight FLOAT(53), \n",
      "\theight FLOAT(53), \n",
      "\tbmi FLOAT(53)\n",
      ")\n",
      "\n",
      "\n",
      "2025-07-14 12:15:48,302 INFO sqlalchemy.engine.Engine [no key 0.00419s] {}\n",
      "2025-07-14 12:15:48,457 INFO sqlalchemy.engine.Engine INSERT INTO health_data_cleaned (smoking, gender, age, education, weight, height, bmi) VALUES (%(smoking__0)s, %(gender__0)s, %(age__0)s, %(education__0)s, %(weight__0)s, %(height__0)s, %(bmi__0)s), (%(smoking__1)s, %(gender__1)s, %(age__1)s, %(educa ... 117972 characters truncated ... , %(gender__999)s, %(age__999)s, %(education__999)s, %(weight__999)s, %(height__999)s, %(bmi__999)s)\n",
      "2025-07-14 12:15:48,461 INFO sqlalchemy.engine.Engine [generated in 0.06655s (insertmanyvalues) 1/5 (unordered)] {'education__0': 'College or above', 'bmi__0': 27.8, 'smoking__0': 'yes', 'gender__0': 'male', 'height__0': 184.5, 'weight__0': 94.8, 'age__0': 62, 'education__1': 'HS or GED', 'bmi__1': 30.8, 'smoking__1': 'yes', 'gender__1': 'male', 'height__1': 171.4, 'weight__1': 90.4, 'age__1': 53, 'education__2': 'HS or GED', 'bmi__2': 28.8, 'smoking__2': 'yes', 'gender__2': 'male', 'height__2': 170.1, 'weight__2': 83.4, 'age__2': 78, 'education__3': 'College or above', 'bmi__3': 42.4, 'smoking__3': 'no', 'gender__3': 'female', 'height__3': 160.9, 'weight__3': 109.8, 'age__3': 56, 'education__4': 'Some college / AA', 'bmi__4': 20.3, 'smoking__4': 'no', 'gender__4': 'female', 'height__4': 164.9, 'weight__4': 55.2, 'age__4': 42, 'education__5': '9-11th grade', 'bmi__5': 28.6, 'smoking__5': 'no', 'gender__5': 'female', 'height__5': 150.0, 'weight__5': 64.4, 'age__5': 72, 'education__6': 'Some college / AA', 'bmi__6': 28.0, 'smoking__6': 'yes', 'gender__6': 'male', 'height__6': 165.4, 'weight__6': 76.6, 'age__6': 22, 'education__7': 'Some college / AA' ... 6900 parameters truncated ... 'age__992': 60, 'education__993': 'College or above', 'bmi__993': 29.5, 'smoking__993': 'no', 'gender__993': 'male', 'height__993': 168.5, 'weight__993': 83.8, 'age__993': 60, 'education__994': 'HS or GED', 'bmi__994': 44.1, 'smoking__994': 'yes', 'gender__994': 'female', 'height__994': 151.3, 'weight__994': 101.0, 'age__994': 51, 'education__995': 'HS or GED', 'bmi__995': 21.1, 'smoking__995': 'yes', 'gender__995': 'female', 'height__995': 165.4, 'weight__995': 57.7, 'age__995': 60, 'education__996': 'HS or GED', 'bmi__996': 30.8, 'smoking__996': 'yes', 'gender__996': 'female', 'height__996': 166.8, 'weight__996': 85.6, 'age__996': 70, 'education__997': 'Some college / AA', 'bmi__997': 28.8, 'smoking__997': 'no', 'gender__997': 'female', 'height__997': 167.0, 'weight__997': 80.4, 'age__997': 60, 'education__998': 'Some college / AA', 'bmi__998': 28.7, 'smoking__998': 'no', 'gender__998': 'male', 'height__998': 164.7, 'weight__998': 77.9, 'age__998': 69, 'education__999': 'Some college / AA', 'bmi__999': 29.382197103497, 'smoking__999': 'yes', 'gender__999': 'male', 'height__999': 169.5, 'weight__999': 81.34267560889516, 'age__999': 78}\n",
      "2025-07-14 12:15:48,596 INFO sqlalchemy.engine.Engine INSERT INTO health_data_cleaned (smoking, gender, age, education, weight, height, bmi) VALUES (%(smoking__0)s, %(gender__0)s, %(age__0)s, %(education__0)s, %(weight__0)s, %(height__0)s, %(bmi__0)s), (%(smoking__1)s, %(gender__1)s, %(age__1)s, %(educa ... 117972 characters truncated ... , %(gender__999)s, %(age__999)s, %(education__999)s, %(weight__999)s, %(height__999)s, %(bmi__999)s)\n",
      "2025-07-14 12:15:48,598 INFO sqlalchemy.engine.Engine [insertmanyvalues 2/5 (unordered)] {'education__0': 'Some college / AA', 'bmi__0': 28.4, 'smoking__0': 'no', 'gender__0': 'female', 'height__0': 146.1, 'weight__0': 60.7, 'age__0': 50, 'education__1': 'College or above', 'bmi__1': 29.9, 'smoking__1': 'no', 'gender__1': 'female', 'height__1': 160.3, 'weight__1': 76.9, 'age__1': 51, 'education__2': 'Some college / AA', 'bmi__2': 30.6, 'smoking__2': 'no', 'gender__2': 'female', 'height__2': 157.3, 'weight__2': 75.7, 'age__2': 64, 'education__3': '9-11th grade', 'bmi__3': 26.7, 'smoking__3': 'yes', 'gender__3': 'male', 'height__3': 169.7, 'weight__3': 76.9, 'age__3': 42, 'education__4': '9-11th grade', 'bmi__4': 24.3, 'smoking__4': 'no', 'gender__4': 'female', 'height__4': 156.7, 'weight__4': 59.6, 'age__4': 58, 'education__5': 'College or above', 'bmi__5': 23.0, 'smoking__5': 'no', 'gender__5': 'male', 'height__5': 171.3, 'weight__5': 67.5, 'age__5': 27, 'education__6': 'Some college / AA', 'bmi__6': 32.3, 'smoking__6': 'no', 'gender__6': 'female', 'height__6': 155.7, 'weight__6': 78.3, 'age__6': 43, 'education__7': 'HS or GED' ... 6900 parameters truncated ... 'age__992': 26, 'education__993': 'Some college / AA', 'bmi__993': 24.8, 'smoking__993': 'yes', 'gender__993': 'female', 'height__993': 160.3, 'weight__993': 63.8, 'age__993': 41, 'education__994': 'College or above', 'bmi__994': 32.5, 'smoking__994': 'yes', 'gender__994': 'male', 'height__994': 167.9, 'weight__994': 91.7, 'age__994': 70, 'education__995': 'Some college / AA', 'bmi__995': 28.4, 'smoking__995': 'no', 'gender__995': 'female', 'height__995': 167.5, 'weight__995': 79.8, 'age__995': 78, 'education__996': 'Some college / AA', 'bmi__996': 26.7, 'smoking__996': 'yes', 'gender__996': 'male', 'height__996': 171.6, 'weight__996': 78.7, 'age__996': 66, 'education__997': 'Some college / AA', 'bmi__997': 22.0, 'smoking__997': 'no', 'gender__997': 'male', 'height__997': 180.4, 'weight__997': 71.5, 'age__997': 18, 'education__998': 'Some college / AA', 'bmi__998': 32.0, 'smoking__998': 'no', 'gender__998': 'female', 'height__998': 170.1, 'weight__998': 92.6, 'age__998': 57, 'education__999': 'Some college / AA', 'bmi__999': 29.0, 'smoking__999': 'yes', 'gender__999': 'male', 'height__999': 167.9, 'weight__999': 81.8, 'age__999': 49}\n",
      "2025-07-14 12:15:48,715 INFO sqlalchemy.engine.Engine INSERT INTO health_data_cleaned (smoking, gender, age, education, weight, height, bmi) VALUES (%(smoking__0)s, %(gender__0)s, %(age__0)s, %(education__0)s, %(weight__0)s, %(height__0)s, %(bmi__0)s), (%(smoking__1)s, %(gender__1)s, %(age__1)s, %(educa ... 117972 characters truncated ... , %(gender__999)s, %(age__999)s, %(education__999)s, %(weight__999)s, %(height__999)s, %(bmi__999)s)\n",
      "2025-07-14 12:15:48,717 INFO sqlalchemy.engine.Engine [insertmanyvalues 3/5 (unordered)] {'education__0': 'Some college / AA', 'bmi__0': 27.0, 'smoking__0': 'yes', 'gender__0': 'male', 'height__0': 184.0, 'weight__0': 91.5, 'age__0': 53, 'education__1': '9-11th grade', 'bmi__1': 24.5, 'smoking__1': 'no', 'gender__1': 'female', 'height__1': 152.6, 'weight__1': 57.1, 'age__1': 80, 'education__2': '9-11th grade', 'bmi__2': 29.8, 'smoking__2': 'yes', 'gender__2': 'male', 'height__2': 182.6, 'weight__2': 99.5, 'age__2': 51, 'education__3': 'HS or GED', 'bmi__3': 23.7, 'smoking__3': 'yes', 'gender__3': 'female', 'height__3': 163.8, 'weight__3': 63.5, 'age__3': 78, 'education__4': 'HS or GED', 'bmi__4': 37.7, 'smoking__4': 'yes', 'gender__4': 'female', 'height__4': 156.4, 'weight__4': 92.1, 'age__4': 37, 'education__5': 'Some college / AA', 'bmi__5': 27.5, 'smoking__5': 'yes', 'gender__5': 'male', 'height__5': 177.2, 'weight__5': 86.5, 'age__5': 68, 'education__6': '9-11th grade', 'bmi__6': 25.1, 'smoking__6': 'no', 'gender__6': 'female', 'height__6': 155.5, 'weight__6': 60.6, 'age__6': 36, 'education__7': 'HS or GED' ... 6900 parameters truncated ... 'age__992': 48, 'education__993': 'Some college / AA', 'bmi__993': 32.3, 'smoking__993': 'yes', 'gender__993': 'female', 'height__993': 152.6, 'weight__993': 75.2, 'age__993': 40, 'education__994': '9-11th grade', 'bmi__994': 37.6, 'smoking__994': 'yes', 'gender__994': 'male', 'height__994': 181.7, 'weight__994': 124.1, 'age__994': 33, 'education__995': '9-11th grade', 'bmi__995': 23.5, 'smoking__995': 'no', 'gender__995': 'female', 'height__995': 162.5, 'weight__995': 62.0, 'age__995': 26, 'education__996': 'College or above', 'bmi__996': 27.2, 'smoking__996': 'no', 'gender__996': 'female', 'height__996': 157.8, 'weight__996': 67.7, 'age__996': 35, 'education__997': 'Some college / AA', 'bmi__997': 38.3, 'smoking__997': 'no', 'gender__997': 'male', 'height__997': 175.3, 'weight__997': 117.7, 'age__997': 60, 'education__998': 'Some college / AA', 'bmi__998': 25.6, 'smoking__998': 'no', 'gender__998': 'female', 'height__998': 147.0, 'weight__998': 55.4, 'age__998': 21, 'education__999': '9-11th grade', 'bmi__999': 27.2, 'smoking__999': 'yes', 'gender__999': 'female', 'height__999': 160.8, 'weight__999': 70.3, 'age__999': 60}\n",
      "2025-07-14 12:15:48,839 INFO sqlalchemy.engine.Engine INSERT INTO health_data_cleaned (smoking, gender, age, education, weight, height, bmi) VALUES (%(smoking__0)s, %(gender__0)s, %(age__0)s, %(education__0)s, %(weight__0)s, %(height__0)s, %(bmi__0)s), (%(smoking__1)s, %(gender__1)s, %(age__1)s, %(educa ... 117972 characters truncated ... , %(gender__999)s, %(age__999)s, %(education__999)s, %(weight__999)s, %(height__999)s, %(bmi__999)s)\n",
      "2025-07-14 12:15:48,843 INFO sqlalchemy.engine.Engine [insertmanyvalues 4/5 (unordered)] {'education__0': 'HS or GED', 'bmi__0': 20.3, 'smoking__0': 'no', 'gender__0': 'female', 'height__0': 161.6, 'weight__0': 52.9, 'age__0': 23, 'education__1': 'College or above', 'bmi__1': 22.5, 'smoking__1': 'no', 'gender__1': 'female', 'height__1': 167.3, 'weight__1': 63.0, 'age__1': 26, 'education__2': 'Some college / AA', 'bmi__2': 43.8, 'smoking__2': 'yes', 'gender__2': 'female', 'height__2': 163.2, 'weight__2': 116.7, 'age__2': 36, 'education__3': 'HS or GED', 'bmi__3': 35.3, 'smoking__3': 'no', 'gender__3': 'female', 'height__3': 157.7, 'weight__3': 87.7, 'age__3': 75, 'education__4': 'Some college / AA', 'bmi__4': 30.1, 'smoking__4': 'yes', 'gender__4': 'female', 'height__4': 168.5, 'weight__4': 85.5, 'age__4': 36, 'education__5': 'Some college / AA', 'bmi__5': 36.4, 'smoking__5': 'yes', 'gender__5': 'male', 'height__5': 169.3, 'weight__5': 104.3, 'age__5': 57, 'education__6': 'Some college / AA', 'bmi__6': 24.5, 'smoking__6': 'no', 'gender__6': 'male', 'height__6': 171.4, 'weight__6': 72.1, 'age__6': 28, 'education__7': 'Some college / AA' ... 6900 parameters truncated ... 'age__992': 72, 'education__993': 'Some college / AA', 'bmi__993': 33.0, 'smoking__993': 'yes', 'gender__993': 'male', 'height__993': 179.7, 'weight__993': 106.6, 'age__993': 66, 'education__994': 'College or above', 'bmi__994': 23.7, 'smoking__994': 'no', 'gender__994': 'female', 'height__994': 153.9, 'weight__994': 56.2, 'age__994': 45, 'education__995': '9-11th grade', 'bmi__995': 32.5, 'smoking__995': 'yes', 'gender__995': 'male', 'height__995': 164.7, 'weight__995': 88.2, 'age__995': 66, 'education__996': 'College or above', 'bmi__996': 33.0, 'smoking__996': 'yes', 'gender__996': 'male', 'height__996': 167.8, 'weight__996': 93.0, 'age__996': 60, 'education__997': 'Some college / AA', 'bmi__997': 34.2, 'smoking__997': 'no', 'gender__997': 'female', 'height__997': 155.7, 'weight__997': 82.9, 'age__997': 33, 'education__998': 'College or above', 'bmi__998': 25.9, 'smoking__998': 'no', 'gender__998': 'male', 'height__998': 150.8, 'weight__998': 58.8, 'age__998': 25, 'education__999': 'HS or GED', 'bmi__999': 37.5, 'smoking__999': 'yes', 'gender__999': 'female', 'height__999': 170.2, 'weight__999': 108.7, 'age__999': 57}\n",
      "2025-07-14 12:15:48,961 INFO sqlalchemy.engine.Engine INSERT INTO health_data_cleaned (smoking, gender, age, education, weight, height, bmi) VALUES (%(smoking__0)s, %(gender__0)s, %(age__0)s, %(education__0)s, %(weight__0)s, %(height__0)s, %(bmi__0)s), (%(smoking__1)s, %(gender__1)s, %(age__1)s, %(educa ... 99408 characters truncated ... , %(gender__843)s, %(age__843)s, %(education__843)s, %(weight__843)s, %(height__843)s, %(bmi__843)s)\n",
      "2025-07-14 12:15:48,963 INFO sqlalchemy.engine.Engine [insertmanyvalues 5/5 (unordered)] {'education__0': 'Some college / AA', 'bmi__0': 25.2, 'smoking__0': 'yes', 'gender__0': 'male', 'height__0': 178.1, 'weight__0': 79.8, 'age__0': 61, 'education__1': 'College or above', 'bmi__1': 21.0, 'smoking__1': 'no', 'gender__1': 'female', 'height__1': 160.2, 'weight__1': 53.8, 'age__1': 48, 'education__2': 'College or above', 'bmi__2': 36.6, 'smoking__2': 'no', 'gender__2': 'female', 'height__2': 162.3, 'weight__2': 96.4, 'age__2': 46, 'education__3': 'HS or GED', 'bmi__3': 31.9, 'smoking__3': 'no', 'gender__3': 'female', 'height__3': 169.4, 'weight__3': 91.4, 'age__3': 50, 'education__4': 'College or above', 'bmi__4': 19.1, 'smoking__4': 'no', 'gender__4': 'male', 'height__4': 178.2, 'weight__4': 60.8, 'age__4': 29, 'education__5': 'College or above', 'bmi__5': 29.1, 'smoking__5': 'no', 'gender__5': 'male', 'height__5': 183.1, 'weight__5': 97.7, 'age__5': 54, 'education__6': 'College or above', 'bmi__6': 32.3, 'smoking__6': 'yes', 'gender__6': 'female', 'height__6': 163.4, 'weight__6': 86.2, 'age__6': 51, 'education__7': 'HS or GED' ... 5808 parameters truncated ... 'age__836': 41, 'education__837': 'College or above', 'bmi__837': 30.9, 'smoking__837': 'no', 'gender__837': 'male', 'height__837': 180.9, 'weight__837': 101.2, 'age__837': 34, 'education__838': '9-11th grade', 'bmi__838': 32.0, 'smoking__838': 'yes', 'gender__838': 'male', 'height__838': 156.9, 'weight__838': 78.7, 'age__838': 53, 'education__839': '9-11th grade', 'bmi__839': 32.9, 'smoking__839': 'no', 'gender__839': 'male', 'height__839': 164.9, 'weight__839': 89.5, 'age__839': 32, 'education__840': 'HS or GED', 'bmi__840': 21.5, 'smoking__840': 'yes', 'gender__840': 'female', 'height__840': 165.8, 'weight__840': 59.1, 'age__840': 76, 'education__841': 'College or above', 'bmi__841': 33.8, 'smoking__841': 'no', 'gender__841': 'male', 'height__841': 182.2, 'weight__841': 112.1, 'age__841': 26, 'education__842': 'Some college / AA', 'bmi__842': 31.0, 'smoking__842': 'yes', 'gender__842': 'female', 'height__842': 152.2, 'weight__842': 71.7, 'age__842': 80, 'education__843': 'College or above', 'bmi__843': 21.4, 'smoking__843': 'no', 'gender__843': 'female', 'height__843': 165.0, 'weight__843': 58.3, 'age__843': 24}\n",
      "2025-07-14 12:15:49,046 INFO sqlalchemy.engine.Engine COMMIT\n",
      "✅ Données insérées avec succès dans la table 'health_data_cleaned'\n"
     ]
    }
   ],
   "source": [
    "\n",
    "\n",
    "load_dotenv()\n",
    "\n",
    "DATABASE_URL = os.getenv(\"DATABASE_URL\")\n",
    "\n",
    "engine = create_engine(DATABASE_URL, echo=True)\n",
    "\n",
    "df_cleaned = pd.read_csv('data_final.csv')\n",
    "\n",
    "df_cleaned.to_sql('health_data_cleaned', con=engine, if_exists='replace', index=False)\n",
    "\n",
    "print(\"✅ Données insérées avec succès dans la table 'health_data_cleaned'\")\n"
   ]
  },
  {
   "cell_type": "code",
   "execution_count": 3,
   "id": "0eeab6dd",
   "metadata": {},
   "outputs": [
    {
     "name": "stdout",
     "output_type": "stream",
     "text": [
      "2025-07-14 12:15:49,111 INFO sqlalchemy.engine.Engine BEGIN (implicit)\n",
      "2025-07-14 12:15:49,114 INFO sqlalchemy.engine.Engine SELECT gender, COUNT(*) FROM health_data_cleaned GROUP BY gender\n",
      "2025-07-14 12:15:49,116 INFO sqlalchemy.engine.Engine [generated in 0.00618s] {}\n",
      "Répartition par genre: [('female', 2498), ('male', 2346)]\n",
      "2025-07-14 12:15:49,132 INFO sqlalchemy.engine.Engine ROLLBACK\n",
      "************************************************************\n"
     ]
    }
   ],
   "source": [
    "from sqlalchemy import text\n",
    "\n",
    "query_gender = text(\"SELECT gender, COUNT(*) FROM health_data_cleaned GROUP BY gender\")\n",
    "with engine.connect() as conn:\n",
    "    result = conn.execute(query_gender).fetchall()\n",
    "    print(\"Répartition par genre:\", result)\n",
    "\n",
    "print(\"************************************************************\")\n",
    "\n"
   ]
  },
  {
   "cell_type": "code",
   "execution_count": 4,
   "id": "c81f3649",
   "metadata": {},
   "outputs": [
    {
     "name": "stdout",
     "output_type": "stream",
     "text": [
      "2025-07-14 12:15:49,174 INFO sqlalchemy.engine.Engine BEGIN (implicit)\n",
      "2025-07-14 12:15:49,179 INFO sqlalchemy.engine.Engine SELECT smoking, COUNT(*) FROM health_data_cleaned GROUP BY smoking\n",
      "2025-07-14 12:15:49,182 INFO sqlalchemy.engine.Engine [generated in 0.00833s] {}\n",
      "Répartition par tabagisme: [('yes', 1991), ('no', 2853)]\n",
      "2025-07-14 12:15:49,193 INFO sqlalchemy.engine.Engine ROLLBACK\n",
      "************************************************************\n"
     ]
    }
   ],
   "source": [
    "query_smoking = text(\"SELECT smoking, COUNT(*) FROM health_data_cleaned GROUP BY smoking\")\n",
    "with engine.connect() as conn:\n",
    "    print(\"Répartition par tabagisme:\", conn.execute(query_smoking).fetchall())\n",
    "\n",
    "print(\"************************************************************\")"
   ]
  },
  {
   "cell_type": "code",
   "execution_count": 14,
   "id": "1d8991b4",
   "metadata": {},
   "outputs": [],
   "source": [
    "import matplotlib.pyplot as plt\n",
    "import seaborn as sns\n",
    "import pandas as pd\n",
    "\n",
    "\n"
   ]
  },
  {
   "cell_type": "code",
   "execution_count": 11,
   "id": "e0e63072",
   "metadata": {},
   "outputs": [
    {
     "name": "stdout",
     "output_type": "stream",
     "text": [
      "2025-07-14 12:30:55,379 INFO sqlalchemy.engine.Engine BEGIN (implicit)\n",
      "2025-07-14 12:30:55,382 INFO sqlalchemy.engine.Engine SELECT gender, AVG(bmi) FROM health_data_cleaned GROUP BY gender\n",
      "2025-07-14 12:30:55,385 INFO sqlalchemy.engine.Engine [cached since 71.52s ago] {}\n",
      "Moyenne BMI par genre: [('female', 28.81834240263993), ('male', 28.074151362201945)]\n",
      "2025-07-14 12:30:55,392 INFO sqlalchemy.engine.Engine ROLLBACK\n",
      "************************************************************\n"
     ]
    }
   ],
   "source": [
    "\n",
    "query_bmi_gender = text(\"SELECT gender, AVG(bmi) FROM health_data_cleaned GROUP BY gender\")\n",
    "with engine.connect() as conn:\n",
    "    print(\"Moyenne BMI par genre:\", conn.execute(query_bmi_gender).fetchall())\n",
    "\n",
    "print(\"************************************************************\")\n"
   ]
  },
  {
   "cell_type": "code",
   "execution_count": null,
   "id": "a07f95b5",
   "metadata": {},
   "outputs": [
    {
     "name": "stdout",
     "output_type": "stream",
     "text": [
      "2025-07-10 22:17:41,400 INFO sqlalchemy.engine.Engine BEGIN (implicit)\n",
      "2025-07-10 22:17:41,400 INFO sqlalchemy.engine.Engine SELECT education, COUNT(*) FROM health_data_cleaned GROUP BY education\n",
      "2025-07-10 22:17:41,411 INFO sqlalchemy.engine.Engine [generated in 0.00856s] {}\n",
      "Répartition par éducation: [('College or above', 1319), ('HS or GED', 1132), ('9-11th grade', 613), ('Some college / AA', 1780)]\n",
      "2025-07-10 22:17:41,416 INFO sqlalchemy.engine.Engine ROLLBACK\n",
      "************************************************************\n"
     ]
    }
   ],
   "source": [
    "query_edu = text(\"SELECT education, COUNT(*) FROM health_data_cleaned GROUP BY education\")\n",
    "with engine.connect() as conn:\n",
    "    print(\"Répartition par éducation:\", conn.execute(query_edu).fetchall())\n",
    "\n",
    "print(\"************************************************************\")"
   ]
  },
  {
   "cell_type": "code",
   "execution_count": null,
   "id": "257ca5f1",
   "metadata": {},
   "outputs": [
    {
     "name": "stdout",
     "output_type": "stream",
     "text": [
      "************************************************************\n",
      "2025-07-10 22:17:41,453 INFO sqlalchemy.engine.Engine BEGIN (implicit)\n",
      "2025-07-10 22:17:41,453 INFO sqlalchemy.engine.Engine \n",
      "SELECT \n",
      "  CASE \n",
      "    WHEN age BETWEEN 18 AND 30 THEN '18-30'\n",
      "    WHEN age BETWEEN 31 AND 50 THEN '31-50'\n",
      "    ELSE '51+'\n",
      "  END AS age_group,\n",
      "  AVG(bmi)\n",
      "FROM health_data_cleaned\n",
      "GROUP BY age_group\n",
      "\n",
      "2025-07-10 22:17:41,453 INFO sqlalchemy.engine.Engine [generated in 0.00561s] {}\n",
      "BMI moyen par tranche d’âge: [('18-30', 26.841494866311244), ('51+', 28.862636516816455), ('31-50', 29.15740735441536)]\n",
      "2025-07-10 22:17:41,469 INFO sqlalchemy.engine.Engine ROLLBACK\n",
      "************************************************************\n"
     ]
    }
   ],
   "source": [
    "query_bmi_age_group = text(\"\"\"\n",
    "SELECT \n",
    "  CASE \n",
    "    WHEN age BETWEEN 18 AND 30 THEN '18-30'\n",
    "    WHEN age BETWEEN 31 AND 50 THEN '31-50'\n",
    "    ELSE '51+'\n",
    "  END AS age_group,\n",
    "  AVG(bmi)\n",
    "FROM health_data_cleaned\n",
    "GROUP BY age_group\n",
    "\"\"\")\n",
    "\n",
    "print(\"************************************************************\")\n",
    "\n",
    "with engine.connect() as conn:\n",
    "    print(\"BMI moyen par tranche d’âge:\", conn.execute(query_bmi_age_group).fetchall())\n",
    "\n",
    "print(\"************************************************************\")\n"
   ]
  },
  {
   "cell_type": "code",
   "execution_count": null,
   "id": "04cddc98",
   "metadata": {},
   "outputs": [
    {
     "name": "stdout",
     "output_type": "stream",
     "text": [
      "2025-07-10 22:17:41,525 INFO sqlalchemy.engine.Engine BEGIN (implicit)\n",
      "2025-07-10 22:17:41,525 INFO sqlalchemy.engine.Engine SELECT smoking, AVG(age) FROM health_data_cleaned GROUP BY smoking\n",
      "2025-07-10 22:17:41,533 INFO sqlalchemy.engine.Engine [generated in 0.00582s] {}\n",
      "Âge moyen par catégorie de tabagisme: [('yes', Decimal('51.6167754897036665')), ('no', Decimal('43.7690150718541886'))]\n",
      "2025-07-10 22:17:41,546 INFO sqlalchemy.engine.Engine ROLLBACK\n"
     ]
    }
   ],
   "source": [
    "query_age_smoking = text(\"SELECT smoking, AVG(age) FROM health_data_cleaned GROUP BY smoking\")\n",
    "with engine.connect() as conn:\n",
    "    print(\"Âge moyen par catégorie de tabagisme:\", conn.execute(query_age_smoking).fetchall())"
   ]
  }
 ],
 "metadata": {
  "kernelspec": {
   "display_name": "base",
   "language": "python",
   "name": "python3"
  },
  "language_info": {
   "codemirror_mode": {
    "name": "ipython",
    "version": 3
   },
   "file_extension": ".py",
   "mimetype": "text/x-python",
   "name": "python",
   "nbconvert_exporter": "python",
   "pygments_lexer": "ipython3",
   "version": "3.12.7"
  }
 },
 "nbformat": 4,
 "nbformat_minor": 5
}
