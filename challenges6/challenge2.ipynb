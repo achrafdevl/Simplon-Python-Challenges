{
 "cells": [
  {
   "cell_type": "markdown",
   "id": "25f1120c",
   "metadata": {},
   "source": [
    "Exercice 1 :"
   ]
  },
  {
   "cell_type": "markdown",
   "id": "ebbdd0e1",
   "metadata": {},
   "source": [
    "Partie 1 : Chargement et exploration du dataset"
   ]
  },
  {
   "cell_type": "code",
   "execution_count": 92,
   "id": "995a08f0",
   "metadata": {},
   "outputs": [
    {
     "name": "stdout",
     "output_type": "stream",
     "text": [
      "    Unnamed: 0   ID     Name   Age   Salary Department  Years_Experience  \\\n",
      "0            0    1  Othmane   NaN      NaN         IT                 0   \n",
      "1            1    2    Ikram  22.0      NaN         HR                23   \n",
      "2            2    3      Bob   NaN      NaN         HR                26   \n",
      "3            3    4    Zineb  59.0  73665.0         HR                 3   \n",
      "4            4    5    David  57.0  59325.0    Finance                33   \n",
      "..         ...  ...      ...   ...      ...        ...               ...   \n",
      "95          95   96      Bob   NaN  82670.0  Marketing                21   \n",
      "96          96   97      Eva   NaN  59838.0    Finance                12   \n",
      "97          97   98   Nassim   NaN  45811.0    Finance                14   \n",
      "98          98   99   Nassim  42.0  73800.0  Marketing                13   \n",
      "99          99  100  Othmane  32.0      NaN  Marketing                19   \n",
      "\n",
      "   Remote  \n",
      "0     Yes  \n",
      "1     Yes  \n",
      "2     Yes  \n",
      "3      No  \n",
      "4      No  \n",
      "..    ...  \n",
      "95    Yes  \n",
      "96     No  \n",
      "97    Yes  \n",
      "98    Yes  \n",
      "99    Yes  \n",
      "\n",
      "[100 rows x 8 columns]\n"
     ]
    }
   ],
   "source": [
    "import pandas as pd\n",
    "\n",
    "df = pd.read_csv('employees2.csv')\n",
    "\n",
    "print(df)\n",
    "\n"
   ]
  },
  {
   "cell_type": "markdown",
   "id": "3af52bb2",
   "metadata": {},
   "source": [
    "Afficher les premières lignes du DataFrame.\n"
   ]
  },
  {
   "cell_type": "code",
   "execution_count": 93,
   "id": "bc56f49a",
   "metadata": {},
   "outputs": [
    {
     "name": "stdout",
     "output_type": "stream",
     "text": [
      "   Unnamed: 0  ID     Name   Age   Salary Department  Years_Experience Remote\n",
      "0           0   1  Othmane   NaN      NaN         IT                 0    Yes\n",
      "1           1   2    Ikram  22.0      NaN         HR                23    Yes\n",
      "2           2   3      Bob   NaN      NaN         HR                26    Yes\n",
      "3           3   4    Zineb  59.0  73665.0         HR                 3     No\n",
      "4           4   5    David  57.0  59325.0    Finance                33     No\n"
     ]
    }
   ],
   "source": [
    "print(df.head())"
   ]
  },
  {
   "cell_type": "markdown",
   "id": "2bc07965",
   "metadata": {},
   "source": [
    "3.Vérifier les types de données de chaque colonne.\n"
   ]
  },
  {
   "cell_type": "code",
   "execution_count": 94,
   "id": "a8a23a51",
   "metadata": {},
   "outputs": [
    {
     "name": "stdout",
     "output_type": "stream",
     "text": [
      "Unnamed: 0            int64\n",
      "ID                    int64\n",
      "Name                 object\n",
      "Age                 float64\n",
      "Salary              float64\n",
      "Department           object\n",
      "Years_Experience      int64\n",
      "Remote               object\n",
      "dtype: object\n"
     ]
    }
   ],
   "source": [
    "print(df.dtypes)"
   ]
  },
  {
   "cell_type": "markdown",
   "id": "b196eb64",
   "metadata": {},
   "source": [
    "4.Identifier les valeurs manquantes par colonne.\n",
    "\n"
   ]
  },
  {
   "cell_type": "code",
   "execution_count": 95,
   "id": "91982e7e",
   "metadata": {},
   "outputs": [
    {
     "name": "stdout",
     "output_type": "stream",
     "text": [
      "    Unnamed: 0     ID   Name    Age  Salary  Department  Years_Experience  \\\n",
      "0        False  False  False   True    True       False             False   \n",
      "1        False  False  False  False    True       False             False   \n",
      "2        False  False  False   True    True       False             False   \n",
      "3        False  False  False  False   False       False             False   \n",
      "4        False  False  False  False   False       False             False   \n",
      "..         ...    ...    ...    ...     ...         ...               ...   \n",
      "95       False  False  False   True   False       False             False   \n",
      "96       False  False  False   True   False       False             False   \n",
      "97       False  False  False   True   False       False             False   \n",
      "98       False  False  False  False   False       False             False   \n",
      "99       False  False  False  False    True       False             False   \n",
      "\n",
      "    Remote  \n",
      "0    False  \n",
      "1    False  \n",
      "2    False  \n",
      "3    False  \n",
      "4    False  \n",
      "..     ...  \n",
      "95   False  \n",
      "96   False  \n",
      "97   False  \n",
      "98   False  \n",
      "99   False  \n",
      "\n",
      "[100 rows x 8 columns]\n"
     ]
    }
   ],
   "source": [
    "print(df.isnull())"
   ]
  },
  {
   "cell_type": "markdown",
   "id": "0fbec2d5",
   "metadata": {},
   "source": [
    "Partie 2 : Nettoyage des données"
   ]
  },
  {
   "cell_type": "markdown",
   "id": "77a80122",
   "metadata": {},
   "source": [
    "5. Remplacer les valeurs manquantes dans la colonne Age par la médiane de cette colonne."
   ]
  },
  {
   "cell_type": "code",
   "execution_count": 96,
   "id": "28a76421",
   "metadata": {},
   "outputs": [
    {
     "name": "stdout",
     "output_type": "stream",
     "text": [
      "    Unnamed: 0   ID     Name   Age   Salary Department  Years_Experience  \\\n",
      "0            0    1  Othmane  45.0     45.0         IT                 0   \n",
      "1            1    2    Ikram  22.0     45.0         HR                23   \n",
      "2            2    3      Bob  45.0     45.0         HR                26   \n",
      "3            3    4    Zineb  59.0  73665.0         HR                 3   \n",
      "4            4    5    David  57.0  59325.0    Finance                33   \n",
      "..         ...  ...      ...   ...      ...        ...               ...   \n",
      "95          95   96      Bob  45.0  82670.0  Marketing                21   \n",
      "96          96   97      Eva  45.0  59838.0    Finance                12   \n",
      "97          97   98   Nassim  45.0  45811.0    Finance                14   \n",
      "98          98   99   Nassim  42.0  73800.0  Marketing                13   \n",
      "99          99  100  Othmane  32.0     45.0  Marketing                19   \n",
      "\n",
      "   Remote  \n",
      "0     Yes  \n",
      "1     Yes  \n",
      "2     Yes  \n",
      "3      No  \n",
      "4      No  \n",
      "..    ...  \n",
      "95    Yes  \n",
      "96     No  \n",
      "97    Yes  \n",
      "98    Yes  \n",
      "99    Yes  \n",
      "\n",
      "[100 rows x 8 columns]\n"
     ]
    }
   ],
   "source": [
    "print(df.fillna(df[\"Age\"].median()))"
   ]
  },
  {
   "cell_type": "markdown",
   "id": "63709a23",
   "metadata": {},
   "source": [
    "6.Remplir les valeurs manquantes dans Salaire en utilisant la moyenne par département ."
   ]
  },
  {
   "cell_type": "code",
   "execution_count": 97,
   "id": "ec476acf",
   "metadata": {},
   "outputs": [
    {
     "name": "stdout",
     "output_type": "stream",
     "text": [
      "    Unnamed: 0   ID     Name   Age        Salary Department  Years_Experience  \\\n",
      "0            0    1  Othmane   NaN  69930.000000         IT                 0   \n",
      "1            1    2    Ikram  22.0  61659.733333         HR                23   \n",
      "2            2    3      Bob   NaN  61659.733333         HR                26   \n",
      "3            3    4    Zineb  59.0  73665.000000         HR                 3   \n",
      "4            4    5    David  57.0  59325.000000    Finance                33   \n",
      "..         ...  ...      ...   ...           ...        ...               ...   \n",
      "95          95   96      Bob   NaN  82670.000000  Marketing                21   \n",
      "96          96   97      Eva   NaN  59838.000000    Finance                12   \n",
      "97          97   98   Nassim   NaN  45811.000000    Finance                14   \n",
      "98          98   99   Nassim  42.0  73800.000000  Marketing                13   \n",
      "99          99  100  Othmane  32.0  70395.153846  Marketing                19   \n",
      "\n",
      "   Remote  \n",
      "0     Yes  \n",
      "1     Yes  \n",
      "2     Yes  \n",
      "3      No  \n",
      "4      No  \n",
      "..    ...  \n",
      "95    Yes  \n",
      "96     No  \n",
      "97    Yes  \n",
      "98    Yes  \n",
      "99    Yes  \n",
      "\n",
      "[100 rows x 8 columns]\n"
     ]
    }
   ],
   "source": [
    "df['Salary'] = df['Salary'].fillna(df.groupby('Department')['Salary'].transform('mean'))\n",
    "\n",
    "print(df)"
   ]
  },
  {
   "cell_type": "markdown",
   "id": "8cb2b98b",
   "metadata": {},
   "source": [
    "7.Convertir toutes les colonnes numériques en type approprié (float ou int).\n"
   ]
  },
  {
   "cell_type": "code",
   "execution_count": 98,
   "id": "ebcb3cee",
   "metadata": {},
   "outputs": [
    {
     "name": "stdout",
     "output_type": "stream",
     "text": [
      "    Unnamed: 0   ID     Name  Age        Salary Department  Years_Experience  \\\n",
      "0            0    1  Othmane    0  69930.000000         IT                 0   \n",
      "1            1    2    Ikram   22  61659.733333         HR                23   \n",
      "2            2    3      Bob    0  61659.733333         HR                26   \n",
      "3            3    4    Zineb   59  73665.000000         HR                 3   \n",
      "4            4    5    David   57  59325.000000    Finance                33   \n",
      "..         ...  ...      ...  ...           ...        ...               ...   \n",
      "95          95   96      Bob    0  82670.000000  Marketing                21   \n",
      "96          96   97      Eva    0  59838.000000    Finance                12   \n",
      "97          97   98   Nassim    0  45811.000000    Finance                14   \n",
      "98          98   99   Nassim   42  73800.000000  Marketing                13   \n",
      "99          99  100  Othmane   32  70395.153846  Marketing                19   \n",
      "\n",
      "   Remote  \n",
      "0     Yes  \n",
      "1     Yes  \n",
      "2     Yes  \n",
      "3      No  \n",
      "4      No  \n",
      "..    ...  \n",
      "95    Yes  \n",
      "96     No  \n",
      "97    Yes  \n",
      "98    Yes  \n",
      "99    Yes  \n",
      "\n",
      "[100 rows x 8 columns]\n"
     ]
    }
   ],
   "source": [
    "df['Age'] = df['Age'].fillna(0).astype(int)\n",
    "df['Salary'] = df['Salary'].astype(float)\n",
    "df['Years_Experience'] = df['Years_Experience'].astype(int)\n",
    "\n",
    "print(df)"
   ]
  },
  {
   "cell_type": "markdown",
   "id": "e640f43d",
   "metadata": {},
   "source": [
    "8.Remplacer les valeurs 'Yes'/'No' dans Remote par 'Oui'/'Non'.\n"
   ]
  },
  {
   "cell_type": "code",
   "execution_count": 99,
   "id": "fa1f860d",
   "metadata": {},
   "outputs": [
    {
     "name": "stdout",
     "output_type": "stream",
     "text": [
      "    Unnamed: 0   ID     Name  Age        Salary Department  Years_Experience  \\\n",
      "0            0    1  Othmane    0  69930.000000         IT                 0   \n",
      "1            1    2    Ikram   22  61659.733333         HR                23   \n",
      "2            2    3      Bob    0  61659.733333         HR                26   \n",
      "3            3    4    Zineb   59  73665.000000         HR                 3   \n",
      "4            4    5    David   57  59325.000000    Finance                33   \n",
      "..         ...  ...      ...  ...           ...        ...               ...   \n",
      "95          95   96      Bob    0  82670.000000  Marketing                21   \n",
      "96          96   97      Eva    0  59838.000000    Finance                12   \n",
      "97          97   98   Nassim    0  45811.000000    Finance                14   \n",
      "98          98   99   Nassim   42  73800.000000  Marketing                13   \n",
      "99          99  100  Othmane   32  70395.153846  Marketing                19   \n",
      "\n",
      "   Remote  \n",
      "0     Oui  \n",
      "1     Oui  \n",
      "2     Oui  \n",
      "3     Non  \n",
      "4     Non  \n",
      "..    ...  \n",
      "95    Oui  \n",
      "96    Non  \n",
      "97    Oui  \n",
      "98    Oui  \n",
      "99    Oui  \n",
      "\n",
      "[100 rows x 8 columns]\n"
     ]
    }
   ],
   "source": [
    "df['Remote'] = df['Remote'].replace({'Yes': 'Oui', 'No': 'Non'})\n",
    "print(df)"
   ]
  },
  {
   "cell_type": "markdown",
   "id": "0a665f24",
   "metadata": {},
   "source": [
    "9-Créer une nouvelle colonne Ancienneté_Catégorie qui classe les années d’expérience en :\n",
    "    Junior : < 3 ans\n",
    "    Intermédiaire : 3–7 ans\n",
    "    Senior : 8–15 ans\n",
    "    Expert : > 15 ans"
   ]
  },
  {
   "cell_type": "code",
   "execution_count": 100,
   "id": "f9f38b20",
   "metadata": {},
   "outputs": [],
   "source": [
    "def experience(years):\n",
    "    if years < 3:\n",
    "        return 'Junior'\n",
    "    elif 3 <= years <= 7:\n",
    "        return 'Intermédiaire'\n",
    "    elif 8 <= years <= 15:\n",
    "        return 'Senior'\n",
    "    else:\n",
    "        return 'Expert'\n",
    "\n",
    "df['Ancienneté_Catégorie'] = df['Years_Experience'].apply(experience)\n"
   ]
  },
  {
   "cell_type": "markdown",
   "id": "4b7e0fdd",
   "metadata": {},
   "source": [
    "Partie 3 : Analyses exploratoires et statistiques"
   ]
  },
  {
   "cell_type": "markdown",
   "id": "046b7c4f",
   "metadata": {},
   "source": [
    "10. Calculer le salaire moyen global.\n"
   ]
  },
  {
   "cell_type": "code",
   "execution_count": 101,
   "id": "a7d5c5ae",
   "metadata": {},
   "outputs": [
    {
     "name": "stdout",
     "output_type": "stream",
     "text": [
      "64504.14296153846\n"
     ]
    }
   ],
   "source": [
    "print(df[\"Salary\"].mean())"
   ]
  },
  {
   "cell_type": "markdown",
   "id": "2daa1840",
   "metadata": {},
   "source": [
    "11.Trouver l’employé(e) avec le salaire le plus élevé."
   ]
  },
  {
   "cell_type": "code",
   "execution_count": 102,
   "id": "bab793ab",
   "metadata": {},
   "outputs": [
    {
     "name": "stdout",
     "output_type": "stream",
     "text": [
      "Unnamed: 0                     27\n",
      "ID                             28\n",
      "Name                        Jalil\n",
      "Age                             0\n",
      "Salary                    84685.0\n",
      "Department              Marketing\n",
      "Years_Experience               28\n",
      "Remote                        Oui\n",
      "Ancienneté_Catégorie       Expert\n",
      "Name: 27, dtype: object\n"
     ]
    }
   ],
   "source": [
    "bestSalaryInfo = df.loc[df['Salary'].idxmax()]\n",
    "print(bestSalaryInfo)"
   ]
  },
  {
   "cell_type": "markdown",
   "id": "e1347d30",
   "metadata": {},
   "source": [
    "12.Calculer le salaire moyen par département."
   ]
  },
  {
   "cell_type": "code",
   "execution_count": 103,
   "id": "e5714fd5",
   "metadata": {},
   "outputs": [
    {
     "name": "stdout",
     "output_type": "stream",
     "text": [
      "Department\n",
      "Finance      57836.583333\n",
      "HR           61659.733333\n",
      "IT           69930.000000\n",
      "Logistics    64544.750000\n",
      "Marketing    70395.153846\n",
      "Name: Salary, dtype: float64\n"
     ]
    }
   ],
   "source": [
    "salMynDep = df.groupby('Department')['Salary'].mean()\n",
    "print(salMynDep)\n"
   ]
  },
  {
   "cell_type": "markdown",
   "id": "6a27f43b",
   "metadata": {},
   "source": [
    "13.Calculer la moyenne et la médiane des salaires par groupe d’ancienneté."
   ]
  },
  {
   "cell_type": "code",
   "execution_count": 104,
   "id": "f56e67aa",
   "metadata": {},
   "outputs": [
    {
     "name": "stdout",
     "output_type": "stream",
     "text": [
      "                              mean        median\n",
      "Ancienneté_Catégorie                            \n",
      "Expert                63948.983223  62747.866667\n",
      "Intermédiaire         66929.632347  64544.750000\n",
      "Junior                61558.030769  69930.000000\n",
      "Senior                65145.745620  65650.375000\n"
     ]
    }
   ],
   "source": [
    "\n",
    "\n",
    "df['Ancienneté_Catégorie'] = df['Years_Experience'].apply(experience)\n",
    "\n",
    "anciennete = df.groupby('Ancienneté_Catégorie')['Salary'].agg(['mean', 'median'])\n",
    "print(anciennete)"
   ]
  },
  {
   "cell_type": "markdown",
   "id": "87c0f4c2",
   "metadata": {},
   "source": [
    "14.Compter combien d’employés travaillent en télétravail (Remote) par département.\n",
    "\n"
   ]
  },
  {
   "cell_type": "code",
   "execution_count": 105,
   "id": "e717a5dd",
   "metadata": {},
   "outputs": [
    {
     "name": "stdout",
     "output_type": "stream",
     "text": [
      "Department\n",
      "Finance       7\n",
      "HR           13\n",
      "IT            9\n",
      "Logistics     8\n",
      "Marketing    18\n",
      "dtype: int64\n"
     ]
    }
   ],
   "source": [
    "remote = df[df['Remote'] == 'Oui'].groupby('Department').size()\n",
    "print(remote)\n"
   ]
  },
  {
   "cell_type": "markdown",
   "id": "5c424d69",
   "metadata": {},
   "source": [
    "Partie 4 : Tableaux croisés dynamiques (pivot tables)"
   ]
  },
  {
   "cell_type": "markdown",
   "id": "9c8e2fe8",
   "metadata": {},
   "source": [
    "15. Créer un tableau croisé dynamique montrant le salaire moyen par département et par télétravail ."
   ]
  },
  {
   "cell_type": "code",
   "execution_count": 106,
   "id": "aa15b13e",
   "metadata": {},
   "outputs": [
    {
     "name": "stdout",
     "output_type": "stream",
     "text": [
      "Remote               Non           Oui\n",
      "Department                            \n",
      "Finance     60964.762821  52027.107143\n",
      "HR          62817.608889  60323.723077\n",
      "IT          65695.000000  71341.666667\n",
      "Logistics   65080.750000  64075.750000\n",
      "Marketing   69812.538462  70621.726496\n"
     ]
    }
   ],
   "source": [
    "remote_salaire = pd.pivot_table(df, values='Salary', index='Department', columns='Remote', aggfunc='mean')\n",
    "print(remote_salaire)\n"
   ]
  },
  {
   "cell_type": "markdown",
   "id": "f780f248",
   "metadata": {},
   "source": [
    "16. Créer un autre tableau croisé dynamique montrant le nombre moyen d’années d’expérience par groupe d’âge et par département ."
   ]
  },
  {
   "cell_type": "code",
   "execution_count": 107,
   "id": "f2db4235",
   "metadata": {},
   "outputs": [
    {
     "name": "stdout",
     "output_type": "stream",
     "text": [
      "Department              Finance         HR         IT  Logistics  Marketing\n",
      "Ancienneté_Catégorie                                                       \n",
      "Expert                28.900000  25.933333  22.857143  23.777778  25.176471\n",
      "Intermédiaire          5.250000   5.000000        NaN   4.500000   5.500000\n",
      "Junior                      NaN   1.000000   0.000000   2.000000   1.000000\n",
      "Senior                12.166667  13.333333  11.750000  10.666667  13.000000\n"
     ]
    }
   ],
   "source": [
    "experience_age = pd.pivot_table(df, values='Years_Experience', index='Ancienneté_Catégorie', columns='Department', aggfunc='mean')\n",
    "print(experience_age)\n"
   ]
  },
  {
   "cell_type": "markdown",
   "id": "4cf775cf",
   "metadata": {},
   "source": [
    "Partie 5 : Calculs avancés avec NumPy"
   ]
  },
  {
   "cell_type": "markdown",
   "id": "080f4119",
   "metadata": {},
   "source": [
    "17. Utiliser np.where() pour créer une colonne Performance :\n",
    "    \"Bon\" si Salaire < 60000\n",
    "    \"Moyen\" si 60000 ≤ Salaire < 80000\n",
    "    \"Haut\" si Salaire ≥ 80000 "
   ]
  },
  {
   "cell_type": "code",
   "execution_count": 108,
   "id": "674b22a6",
   "metadata": {},
   "outputs": [
    {
     "name": "stdout",
     "output_type": "stream",
     "text": [
      "    Unnamed: 0   ID     Name  Age        Salary Department  Years_Experience  \\\n",
      "0            0    1  Othmane    0  69930.000000         IT                 0   \n",
      "1            1    2    Ikram   22  61659.733333         HR                23   \n",
      "2            2    3      Bob    0  61659.733333         HR                26   \n",
      "3            3    4    Zineb   59  73665.000000         HR                 3   \n",
      "4            4    5    David   57  59325.000000    Finance                33   \n",
      "..         ...  ...      ...  ...           ...        ...               ...   \n",
      "95          95   96      Bob    0  82670.000000  Marketing                21   \n",
      "96          96   97      Eva    0  59838.000000    Finance                12   \n",
      "97          97   98   Nassim    0  45811.000000    Finance                14   \n",
      "98          98   99   Nassim   42  73800.000000  Marketing                13   \n",
      "99          99  100  Othmane   32  70395.153846  Marketing                19   \n",
      "\n",
      "   Remote Ancienneté_Catégorie Performance  \n",
      "0     Oui               Junior       Moyen  \n",
      "1     Oui               Expert       Moyen  \n",
      "2     Oui               Expert       Moyen  \n",
      "3     Non        Intermédiaire       Moyen  \n",
      "4     Non               Expert         Bon  \n",
      "..    ...                  ...         ...  \n",
      "95    Oui               Expert        Haut  \n",
      "96    Non               Senior         Bon  \n",
      "97    Oui               Senior         Bon  \n",
      "98    Oui               Senior       Moyen  \n",
      "99    Oui               Expert       Moyen  \n",
      "\n",
      "[100 rows x 10 columns]\n"
     ]
    }
   ],
   "source": [
    "import numpy as np\n",
    "\n",
    "df['Performance'] = np.where(df['Salary'] < 60000, 'Bon', np.where(df['Salary'] < 80000, 'Moyen', 'Haut'))\n",
    "\n",
    "print(df)"
   ]
  },
  {
   "cell_type": "markdown",
   "id": "72e43483",
   "metadata": {},
   "source": [
    "19. Calculer la différence entre le salaire de chaque employé et le salaire moyen de son département."
   ]
  },
  {
   "cell_type": "code",
   "execution_count": 109,
   "id": "d169f1ac",
   "metadata": {},
   "outputs": [
    {
     "name": "stdout",
     "output_type": "stream",
     "text": [
      "    Unnamed: 0   ID     Name  Age        Salary Department  Years_Experience  \\\n",
      "0            0    1  Othmane    0  69930.000000         IT                 0   \n",
      "1            1    2    Ikram   22  61659.733333         HR                23   \n",
      "2            2    3      Bob    0  61659.733333         HR                26   \n",
      "3            3    4    Zineb   59  73665.000000         HR                 3   \n",
      "4            4    5    David   57  59325.000000    Finance                33   \n",
      "..         ...  ...      ...  ...           ...        ...               ...   \n",
      "95          95   96      Bob    0  82670.000000  Marketing                21   \n",
      "96          96   97      Eva    0  59838.000000    Finance                12   \n",
      "97          97   98   Nassim    0  45811.000000    Finance                14   \n",
      "98          98   99   Nassim   42  73800.000000  Marketing                13   \n",
      "99          99  100  Othmane   32  70395.153846  Marketing                19   \n",
      "\n",
      "   Remote Ancienneté_Catégorie Performance  différence_Salaire  \n",
      "0     Oui               Junior       Moyen            0.000000  \n",
      "1     Oui               Expert       Moyen            0.000000  \n",
      "2     Oui               Expert       Moyen            0.000000  \n",
      "3     Non        Intermédiaire       Moyen        12005.266667  \n",
      "4     Non               Expert         Bon         1488.416667  \n",
      "..    ...                  ...         ...                 ...  \n",
      "95    Oui               Expert        Haut        12274.846154  \n",
      "96    Non               Senior         Bon         2001.416667  \n",
      "97    Oui               Senior         Bon       -12025.583333  \n",
      "98    Oui               Senior       Moyen         3404.846154  \n",
      "99    Oui               Expert       Moyen            0.000000  \n",
      "\n",
      "[100 rows x 11 columns]\n"
     ]
    }
   ],
   "source": [
    "df['différence_Salaire'] = df['Salary'] - df.groupby('Department')['Salary'].transform('mean')\n",
    "print(df)"
   ]
  }
 ],
 "metadata": {
  "kernelspec": {
   "display_name": "base",
   "language": "python",
   "name": "python3"
  },
  "language_info": {
   "codemirror_mode": {
    "name": "ipython",
    "version": 3
   },
   "file_extension": ".py",
   "mimetype": "text/x-python",
   "name": "python",
   "nbconvert_exporter": "python",
   "pygments_lexer": "ipython3",
   "version": "3.12.7"
  }
 },
 "nbformat": 4,
 "nbformat_minor": 5
}
